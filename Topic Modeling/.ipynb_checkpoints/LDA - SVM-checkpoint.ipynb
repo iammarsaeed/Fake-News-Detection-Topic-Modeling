{
 "cells": [
  {
   "cell_type": "markdown",
   "metadata": {},
   "source": [
    "## Importing the Required Libraries"
   ]
  },
  {
   "cell_type": "code",
   "execution_count": 3,
   "metadata": {},
   "outputs": [],
   "source": [
    "#https://www.machinelearningplus.com/nlp/topic-modeling-gensim-python/#1introduction\n",
    "import numpy as np\n",
    "import pandas as pd\n",
    "import json\n",
    "import glob\n",
    "# split data into train and test\n",
    "from sklearn.model_selection import train_test_split\n",
    "#Gensim\n",
    "import gensim\n",
    "import gensim.corpora as corpora\n",
    "from gensim.utils import simple_preprocess\n",
    "from gensim.models import CoherenceModel\n",
    "\n",
    "#spacy\n",
    "import spacy\n",
    "from nltk.corpus import stopwords\n",
    "\n",
    "#vis\n",
    "import pyLDAvis\n",
    "import pyLDAvis.gensim_models\n",
    "# SVM classifier from scikit learn\n",
    "from sklearn.svm import LinearSVC\n",
    "\n",
    "# confusion matrix\n",
    "from sklearn.metrics import confusion_matrix\n",
    "import seaborn as sns\n",
    "\n",
    "# cross validation for kfold\n",
    "from sklearn.model_selection import cross_val_score\n",
    "\n",
    "# calc accuracy\n",
    "from sklearn.metrics import accuracy_score \n",
    "from sklearn.metrics import classification_report\n",
    "\n",
    "import warnings\n",
    "warnings.filterwarnings(\"ignore\", category=DeprecationWarning)\n",
    "\n",
    "from sklearn.preprocessing import StandardScaler, MinMaxScaler\n",
    "\n",
    "\n",
    "\n",
    "%config InlineBackend.figure_formats = ['retina']\n",
    "from sklearn.metrics import f1_score\n",
    "from sklearn import linear_model\n",
    "from sklearn import metrics\n",
    "from sklearn.model_selection import KFold\n",
    "from sklearn.metrics import fbeta_score\n",
    "import matplotlib.pyplot as plt\n",
    "from sklearn.linear_model import LogisticRegression"
   ]
  },
  {
   "cell_type": "markdown",
   "metadata": {},
   "source": [
    "## Preparing the Data"
   ]
  },
  {
   "cell_type": "code",
   "execution_count": 4,
   "metadata": {},
   "outputs": [],
   "source": [
    "def load_data(file):\n",
    "    with open (file, \"r\", encoding=\"utf-8\") as f:\n",
    "        data = json.load(f) \n",
    "    return (data)\n",
    "\n",
    "def write_data(file, data):\n",
    "    with open (file, \"w\", encoding=\"utf-8\") as f:\n",
    "        json.dump(data, f, indent=4)\n"
   ]
  },
  {
   "cell_type": "code",
   "execution_count": 5,
   "metadata": {},
   "outputs": [],
   "source": [
    "stopwords = stopwords.words(\"english\")"
   ]
  },
  {
   "cell_type": "code",
   "execution_count": null,
   "metadata": {},
   "outputs": [],
   "source": [
    "print (stopwords)"
   ]
  },
  {
   "cell_type": "code",
   "execution_count": 6,
   "metadata": {},
   "outputs": [],
   "source": [
    "filename  = '../Data/WelFake/news'\n",
    "orig_df = pd.read_csv(filename + '.csv',  \n",
    "               delimiter=',')\n",
    "orig_df.drop(orig_df.columns[[0,1]], axis = 1, inplace = True)\n",
    "# orig_df.columns = ['Text', 'Label']\n",
    "orig_df = orig_df.replace(to_replace=['FAKE', 'REAL'], value=[0, 1])"
   ]
  },
  {
   "cell_type": "code",
   "execution_count": 7,
   "metadata": {},
   "outputs": [
    {
     "data": {
      "text/html": [
       "<div>\n",
       "<style scoped>\n",
       "    .dataframe tbody tr th:only-of-type {\n",
       "        vertical-align: middle;\n",
       "    }\n",
       "\n",
       "    .dataframe tbody tr th {\n",
       "        vertical-align: top;\n",
       "    }\n",
       "\n",
       "    .dataframe thead th {\n",
       "        text-align: right;\n",
       "    }\n",
       "</style>\n",
       "<table border=\"1\" class=\"dataframe\">\n",
       "  <thead>\n",
       "    <tr style=\"text-align: right;\">\n",
       "      <th></th>\n",
       "      <th>text</th>\n",
       "      <th>label</th>\n",
       "    </tr>\n",
       "  </thead>\n",
       "  <tbody>\n",
       "    <tr>\n",
       "      <th>0</th>\n",
       "      <td>Daniel Greenfield, a Shillman Journalism Fello...</td>\n",
       "      <td>0</td>\n",
       "    </tr>\n",
       "    <tr>\n",
       "      <th>1</th>\n",
       "      <td>Google Pinterest Digg Linkedin Reddit Stumbleu...</td>\n",
       "      <td>0</td>\n",
       "    </tr>\n",
       "    <tr>\n",
       "      <th>2</th>\n",
       "      <td>U.S. Secretary of State John F. Kerry said Mon...</td>\n",
       "      <td>1</td>\n",
       "    </tr>\n",
       "    <tr>\n",
       "      <th>3</th>\n",
       "      <td>— Kaydee King (@KaydeeKing) November 9, 2016 T...</td>\n",
       "      <td>0</td>\n",
       "    </tr>\n",
       "    <tr>\n",
       "      <th>4</th>\n",
       "      <td>It's primary day in New York and front-runners...</td>\n",
       "      <td>1</td>\n",
       "    </tr>\n",
       "  </tbody>\n",
       "</table>\n",
       "</div>"
      ],
      "text/plain": [
       "                                                text label\n",
       "0  Daniel Greenfield, a Shillman Journalism Fello...     0\n",
       "1  Google Pinterest Digg Linkedin Reddit Stumbleu...     0\n",
       "2  U.S. Secretary of State John F. Kerry said Mon...     1\n",
       "3  — Kaydee King (@KaydeeKing) November 9, 2016 T...     0\n",
       "4  It's primary day in New York and front-runners...     1"
      ]
     },
     "execution_count": 7,
     "metadata": {},
     "output_type": "execute_result"
    }
   ],
   "source": [
    "orig_df[\"text\"] = orig_df[\"text\"].astype(str)\n",
    "orig_df[\"label\"] = orig_df[\"label\"].astype(str)\n",
    "orig_df.head()"
   ]
  },
  {
   "cell_type": "code",
   "execution_count": 8,
   "metadata": {},
   "outputs": [],
   "source": [
    "df = orig_df"
   ]
  },
  {
   "cell_type": "code",
   "execution_count": 9,
   "metadata": {},
   "outputs": [],
   "source": [
    "#balancing data \n",
    "from collections import Counter\n",
    "import numpy as np\n",
    "def balanceClasses(xs, ys):\n",
    "    item = {}\n",
    "    new_ys = []\n",
    "    new_xs = []\n",
    "    #\"\"\"Undersample xs, ys to balance classes.\"\"\"\n",
    "    freqs = Counter(ys)\n",
    "    # the most common class  is the maximum number we want for all classes\n",
    "    max_allowable = (freqs.most_common()[0][1])\n",
    "    \n",
    "    for val in freqs.most_common(): # List\n",
    "        nums = np.random.randint(1000)\n",
    "        i = 1\n",
    "        item[val[0]] = max_allowable - val[1]\n",
    "        \n",
    "        if item[val[0]] > 0:            \n",
    "            while(item[val[0]] - i != 0): \n",
    "                nums = nums + 1\n",
    "                if ys[nums] == val[0]:\n",
    "                    i += 1\n",
    "                    new_ys.append(ys[nums])\n",
    "                    new_xs.append(xs[nums])\n",
    "    return new_xs, new_ys"
   ]
  },
  {
   "cell_type": "code",
   "execution_count": 11,
   "metadata": {},
   "outputs": [],
   "source": [
    "new_text, new_label = balanceClasses(df['text'], df['label'])"
   ]
  },
  {
   "cell_type": "code",
   "execution_count": 12,
   "metadata": {},
   "outputs": [],
   "source": [
    "data = pd.DataFrame(new_text)\n",
    "data.columns = ['text']\n",
    "data['label'] = new_label\n",
    "data = pd.concat([df, data])"
   ]
  },
  {
   "cell_type": "code",
   "execution_count": 13,
   "metadata": {},
   "outputs": [
    {
     "data": {
      "image/png": "[encoded data removed]",
      "text/plain": [
       "<Figure size 432x288 with 1 Axes>"
      ]
     },
     "metadata": {
      "image/png": {
       "height": 258,
       "width": 381
      },
      "needs_background": "light"
     },
     "output_type": "display_data"
    }
   ],
   "source": [
    "import matplotlib.pyplot as plt\n",
    "fig1 = plt.figure(figsize=(6,4))\n",
    "data.groupby('label').text.count().plot.bar(ylim=0)\n",
    "plt.show()"
   ]
  },
  {
   "cell_type": "code",
   "execution_count": 14,
   "metadata": {},
   "outputs": [],
   "source": [
    "data=data.sample(frac=1).reset_index(drop=True)"
   ]
  },
  {
   "cell_type": "code",
   "execution_count": 15,
   "metadata": {},
   "outputs": [],
   "source": [
    "# People usually join sentences using more than one colon \n",
    "\n",
    "def ReplaceDoubleColon(inputString):\n",
    "    return inputString.replace(\"..\", \" \") \n",
    "\n",
    "data['text'] = data['text'].apply(lambda x: ReplaceDoubleColon(x))\n",
    "\n",
    "def ReplaceTripleColon(inputString):\n",
    "    return inputString.replace(\"...\", \" \") \n",
    "\n",
    "data['text'] = data['text'].apply(lambda x: ReplaceTripleColon(x))\n",
    "\n",
    "def ReplaceFourColon(inputString):\n",
    "    return inputString.replace(\"....\", \" \") \n",
    "\n",
    "data['text'] = data['text'].apply(lambda x: ReplaceFourColon(x))"
   ]
  },
  {
   "cell_type": "code",
   "execution_count": 16,
   "metadata": {},
   "outputs": [],
   "source": [
    "import re\n",
    "def textPattern(text):\n",
    "\n",
    "    # Clean the text\n",
    "    text = re.sub(r\"@\", \" \", text)\n",
    "    text = re.sub(r\"'\", \" \", text)\n",
    "    text = re.sub(r\"what's\", \"what is\", text)\n",
    "    text = re.sub(r\"\\'s\", \" \", text)\n",
    "    text = re.sub(r\"\\'ve\", \"have\", text)\n",
    "    text = re.sub(r\"can't\", \"can not\", text)\n",
    "    text = re.sub(r\"aren't\", \"are not\", text)\n",
    "    text = re.sub(r\"couldn't\", \"could not\", text)\n",
    "    text = re.sub(r\"didn't\", \"did not\", text)\n",
    "    text = re.sub(r\"doesn't\", \"does not\", text)\n",
    "    text = re.sub(r\"don't\", \"do not\", text)\n",
    "    text = re.sub(r\"hadn't\", \"had not\", text)\n",
    "    text = re.sub(r\"hasn't\", \"has not\", text)\n",
    "    text = re.sub(r\"haven't\", \"have not\", text)\n",
    "    text = re.sub(r\"isn't\", \"is not\", text)\n",
    "    text = re.sub(r\"shouldn't\", \"should not\", text)\n",
    "    text = re.sub(r\"wasn't\", \"was not\", text)\n",
    "    text = re.sub(r\"weren't\", \"were not\", text)\n",
    "    text = re.sub(r\"won't\", \"will not\", text)\n",
    "    text = re.sub(r\"wouldn't\", \"would not\", text)\n",
    "    text = re.sub(r\"mustn't\", \"must not\", text)\n",
    "    text = re.sub(r\"i'm\", \"i am\", text)\n",
    "    text = re.sub(r\"\\'re\", \"are\", text)\n",
    "    text = re.sub(r\",\", \" \", text)\n",
    "    text = re.sub(r\"\\.\", \" \", text)\n",
    "    text = re.sub(r\"!\", \" \", text)\n",
    "    text = re.sub(r\"\\/\", \" \", text)\n",
    "    text = re.sub(r\"\\^\", \" ^ \", text)\n",
    "    text = re.sub(r\"\\+\", \" \", text)\n",
    "    text = re.sub(r\"\\-\", \" - \", text)\n",
    "    text = re.sub(r\"\\= =\", \" \", text)\n",
    "    text = re.sub(r\"\\==\", \" \", text)\n",
    "    text = re.sub(r\"'\", \" \", text)\n",
    "    text = re.sub(r\"(\\d+)(k)\", r\"\\g<1>000\", text)\n",
    "    text = re.sub(r\":\", \" : \", text)\n",
    "    text = re.sub(r\"\\0s\", \"0\", text)\n",
    "    text = re.sub(r\" 9 11 \", \"911\", text)\n",
    "    text = re.sub(r\"\\s{2,}\", \" \", text)\n",
    "    return text\n",
    "\n",
    "data['text'] = data['text'].apply(lambda x: textPattern(x))"
   ]
  },
  {
   "cell_type": "code",
   "execution_count": 17,
   "metadata": {},
   "outputs": [
    {
     "data": {
      "text/html": [
       "<div>\n",
       "<style scoped>\n",
       "    .dataframe tbody tr th:only-of-type {\n",
       "        vertical-align: middle;\n",
       "    }\n",
       "\n",
       "    .dataframe tbody tr th {\n",
       "        vertical-align: top;\n",
       "    }\n",
       "\n",
       "    .dataframe thead th {\n",
       "        text-align: right;\n",
       "    }\n",
       "</style>\n",
       "<table border=\"1\" class=\"dataframe\">\n",
       "  <thead>\n",
       "    <tr style=\"text-align: right;\">\n",
       "      <th></th>\n",
       "      <th>text</th>\n",
       "      <th>label</th>\n",
       "    </tr>\n",
       "  </thead>\n",
       "  <tbody>\n",
       "    <tr>\n",
       "      <th>0</th>\n",
       "      <td>Schools All Over America Are Closing On Electi...</td>\n",
       "      <td>0</td>\n",
       "    </tr>\n",
       "    <tr>\n",
       "      <th>1</th>\n",
       "      <td>By Mike Maharrey Voters in North Dakota and Ar...</td>\n",
       "      <td>0</td>\n",
       "    </tr>\n",
       "    <tr>\n",
       "      <th>2</th>\n",
       "      <td>The legal authority for several national secur...</td>\n",
       "      <td>1</td>\n",
       "    </tr>\n",
       "    <tr>\n",
       "      <th>3</th>\n",
       "      <td>Donald Trump would not commit Wednesday night ...</td>\n",
       "      <td>1</td>\n",
       "    </tr>\n",
       "    <tr>\n",
       "      <th>4</th>\n",
       "      <td>Op - Ed by Laraine C Abbey President Obama’s s...</td>\n",
       "      <td>0</td>\n",
       "    </tr>\n",
       "  </tbody>\n",
       "</table>\n",
       "</div>"
      ],
      "text/plain": [
       "                                                text label\n",
       "0  Schools All Over America Are Closing On Electi...     0\n",
       "1  By Mike Maharrey Voters in North Dakota and Ar...     0\n",
       "2  The legal authority for several national secur...     1\n",
       "3  Donald Trump would not commit Wednesday night ...     1\n",
       "4  Op - Ed by Laraine C Abbey President Obama’s s...     0"
      ]
     },
     "execution_count": 17,
     "metadata": {},
     "output_type": "execute_result"
    }
   ],
   "source": [
    "data.head()"
   ]
  },
  {
   "cell_type": "code",
   "execution_count": 18,
   "metadata": {},
   "outputs": [
    {
     "name": "stdout",
     "output_type": "stream",
     "text": [
      "6341\n"
     ]
    }
   ],
   "source": [
    "print(len(data))"
   ]
  },
  {
   "cell_type": "code",
   "execution_count": 19,
   "metadata": {},
   "outputs": [
    {
     "data": {
      "text/plain": [
       "0    Schools All Over America Are Closing On Electi...\n",
       "1    By Mike Maharrey Voters in North Dakota and Ar...\n",
       "2    The legal authority for several national secur...\n",
       "3    Donald Trump would not commit Wednesday night ...\n",
       "4    Op - Ed by Laraine C Abbey President Obama’s s...\n",
       "Name: text, dtype: object"
      ]
     },
     "execution_count": 19,
     "metadata": {},
     "output_type": "execute_result"
    }
   ],
   "source": [
    "# data = orig_df['Text']\n",
    "\n",
    "data['text'].head()"
   ]
  },
  {
   "cell_type": "code",
   "execution_count": 20,
   "metadata": {},
   "outputs": [],
   "source": [
    "def lemmatization(texts, allowed_postags=[\"NOUN\", \"ADJ\", \"VERB\", \"ADV\"]):\n",
    "    nlp = spacy.load(\"en_core_web_sm\", disable=[\"parser\", \"ner\"])\n",
    "    texts_out = []\n",
    "    for text in texts:\n",
    "        doc = nlp(text)\n",
    "        new_text = []\n",
    "        for token in doc:\n",
    "            if token.pos_ in allowed_postags:\n",
    "                new_text.append(token.lemma_)\n",
    "        final = \" \".join(new_text)\n",
    "        texts_out.append(final)\n",
    "    return (texts_out)\n",
    "\n",
    "\n",
    "lemmatized_texts = lemmatization(data['text'])"
   ]
  },
  {
   "cell_type": "code",
   "execution_count": 21,
   "metadata": {},
   "outputs": [
    {
     "name": "stdout",
     "output_type": "stream",
     "text": [
      "['school', 'all', 'be', 'close', 'day', 'fear', 'violence', 'th', 'be', 'most', 'chaotic', 'election', 'day', 'modern', 'american', 'history', 'all', 'nation', 'school', 'be']\n"
     ]
    }
   ],
   "source": [
    "def gen_words(texts):\n",
    "    final = []\n",
    "    for text in texts:\n",
    "        new = gensim.utils.simple_preprocess(text, deacc=True)\n",
    "        final.append(new)\n",
    "    return (final)\n",
    "\n",
    "data_words = gen_words(lemmatized_texts)\n",
    "\n",
    "print (data_words[0][0:20])"
   ]
  },
  {
   "cell_type": "code",
   "execution_count": 22,
   "metadata": {},
   "outputs": [
    {
     "name": "stdout",
     "output_type": "stream",
     "text": [
      "['school', 'all', 'be', 'close', 'day', 'fear', 'violence', 'th', 'be', 'most', 'chaotic', 'election', 'day', 'modern', 'american', 'history', 'all', 'nation', 'school', 'be']\n"
     ]
    }
   ],
   "source": [
    "#BIGRAMS AND TRIGRAMS\n",
    "bigram_phrases = gensim.models.Phrases(data_words, min_count=5, threshold=100)\n",
    "trigram_phrases = gensim.models.Phrases(bigram_phrases[data_words], threshold=100)\n",
    "\n",
    "bigram = gensim.models.phrases.Phraser(bigram_phrases)\n",
    "trigram = gensim.models.phrases.Phraser(trigram_phrases)\n",
    "\n",
    "def make_bigrams(texts):\n",
    "    return([bigram[doc] for doc in texts])\n",
    "\n",
    "def make_trigrams(texts):\n",
    "    return ([trigram[bigram[doc]] for doc in texts])\n",
    "\n",
    "data_bigrams = make_bigrams(data_words)\n",
    "data_bigrams_trigrams = make_trigrams(data_bigrams)\n",
    "\n",
    "print (data_bigrams_trigrams[0][0:20])"
   ]
  },
  {
   "cell_type": "code",
   "execution_count": 23,
   "metadata": {},
   "outputs": [],
   "source": [
    "#TF-IDF REMOVAL\n",
    "from gensim.models import TfidfModel\n",
    "\n",
    "id2word = corpora.Dictionary(data_bigrams_trigrams)\n",
    "\n",
    "texts = data_bigrams_trigrams\n",
    "\n",
    "corpus = [id2word.doc2bow(text) for text in texts]\n",
    "# print (corpus[0][0:20])\n",
    "\n",
    "tfidf = TfidfModel(corpus, id2word=id2word)\n",
    "\n",
    "low_value = 0.03\n",
    "words  = []\n",
    "words_missing_in_tfidf = []\n",
    "for i in range(0, len(corpus)):\n",
    "    bow = corpus[i]\n",
    "    low_value_words = [] #reinitialize to be safe.\n",
    "    tfidf_ids = [id for id, value in tfidf[bow]]\n",
    "    bow_ids = [id for id, value in bow]\n",
    "    low_value_words = [id for id, value in tfidf[bow] if value < low_value]\n",
    "    drops = low_value_words+words_missing_in_tfidf\n",
    "    for item in drops:\n",
    "        words.append(id2word[item])\n",
    "    words_missing_in_tfidf = [id for id in bow_ids if id not in tfidf_ids] # The words with tf-idf socre 0 will be missing\n",
    "\n",
    "    new_bow = [b for b in bow if b[0] not in low_value_words and b[0] not in words_missing_in_tfidf]\n",
    "    corpus[i] = new_bow\n"
   ]
  },
  {
   "cell_type": "code",
   "execution_count": 24,
   "metadata": {
    "scrolled": true
   },
   "outputs": [
    {
     "data": {
      "text/plain": [
       "6341"
      ]
     },
     "execution_count": 24,
     "metadata": {},
     "output_type": "execute_result"
    }
   ],
   "source": [
    "len(corpus)"
   ]
  },
  {
   "cell_type": "code",
   "execution_count": null,
   "metadata": {},
   "outputs": [],
   "source": [
    "# lda_model = gensim.models.ldamodel.LdaModel(corpus=corpus[:-1],\n",
    "#                                            id2word=id2word,\n",
    "#                                            num_topics=15,\n",
    "#                                            random_state=100,\n",
    "#                                            update_every=1,\n",
    "#                                            chunksize=100,\n",
    "#                                            passes=50,\n",
    "#                                            alpha=\"auto\")\n",
    "\n",
    "lda_model = gensim.models.ldamulticore.LdaMulticore(corpus=corpus[:-1],\n",
    "                                           id2word=id2word,\n",
    "                                           num_topics=15,\n",
    "                                           chunksize=100,\n",
    "                                           workers=7, # Num. Processing Cores - 1\n",
    "                                           passes=50,\n",
    "                                           eval_every = 1,\n",
    "                                           per_word_topics=True)"
   ]
  },
  {
   "cell_type": "code",
   "execution_count": null,
   "metadata": {},
   "outputs": [],
   "source": [
    "lda_model.save(\"test_model.model\")"
   ]
  },
  {
   "cell_type": "code",
   "execution_count": null,
   "metadata": {},
   "outputs": [],
   "source": [
    "new_model = gensim.models.ldamodel.LdaModel.load(\"test_model.model\")"
   ]
  },
  {
   "cell_type": "code",
   "execution_count": null,
   "metadata": {},
   "outputs": [],
   "source": [
    "train_vecs = []\n",
    "for i in range(len(data)):\n",
    "    top_topics = new_model.get_document_topics(corpus[i][:-1], minimum_probability=0.0)\n",
    "    topic_vec = [top_topics[i][1] for i in range(15)]\n",
    "    topic_vec.extend([len(data.iloc[i].text)]) # length review\n",
    "    train_vecs.append(topic_vec)"
   ]
  },
  {
   "cell_type": "code",
   "execution_count": null,
   "metadata": {},
   "outputs": [],
   "source": [
    "train_vecs[2]"
   ]
  },
  {
   "cell_type": "code",
   "execution_count": null,
   "metadata": {},
   "outputs": [],
   "source": [
    "# Using similar split 70/30\n",
    "X = np.array(train_vecs)\n",
    "y = np.array(data.label)\n",
    "X_train, X_test, y_train, y_test, idx_train, idx_test = train_test_split(X, y, data.index, test_size=0.30, random_state=100)"
   ]
  },
  {
   "cell_type": "code",
   "execution_count": null,
   "metadata": {},
   "outputs": [],
   "source": [
    "scaler = StandardScaler()\n",
    "X_train_scale = scaler.fit_transform(X_train)\n",
    "X_test_scale = scaler.fit_transform(X_test)"
   ]
  },
  {
   "cell_type": "code",
   "execution_count": null,
   "metadata": {},
   "outputs": [],
   "source": [
    "model2 = LinearSVC(random_state=10, tol=1e-5, verbose=1, max_iter=1000000)\n",
    "model2.fit(X_train_scale, y_train)\n",
    "y_pred2 = model2.predict(X_test_scale)"
   ]
  },
  {
   "cell_type": "code",
   "execution_count": null,
   "metadata": {},
   "outputs": [],
   "source": [
    "results2 = confusion_matrix(y_test, y_pred2)\n",
    "print ('Confusion Matrix :')\n",
    "print(results2)\n",
    "print ('Accuracy Score :',accuracy_score(y_test, y_pred2))\n",
    "print ('Report : ')\n",
    "print (classification_report(y_test, y_pred2))"
   ]
  },
  {
   "cell_type": "code",
   "execution_count": 69,
   "metadata": {},
   "outputs": [],
   "source": [
    "# test_doc = corpus[-1]\n",
    "\n",
    "# vector = new_model[test_doc]\n",
    "# print (vector)\n",
    "# For topic importance\n",
    "# def Sort(sub_li):\n",
    "#     sub_li.sort(key = lambda x: x[1])\n",
    "#     sub_li.reverse()\n",
    "#     return (sub_li)\n",
    "# new_vector = Sort(vector)\n",
    "# print (new_vector)"
   ]
  },
  {
   "cell_type": "markdown",
   "metadata": {},
   "source": [
    "## Vizualizing the Data"
   ]
  },
  {
   "cell_type": "code",
   "execution_count": 70,
   "metadata": {},
   "outputs": [
    {
     "name": "stderr",
     "output_type": "stream",
     "text": [
      "/Users/syedshayanjamal/opt/anaconda3/lib/python3.8/site-packages/pyLDAvis/_prepare.py:246: FutureWarning: In a future version of pandas all arguments of DataFrame.drop except for the argument 'labels' will be keyword-only.\n",
      "  default_term_info = default_term_info.sort_values(\n"
     ]
    },
    {
     "data": {
      "text/html": [
       "\n",
       "<link rel=\"stylesheet\" type=\"text/css\" href=\"https://cdn.jsdelivr.net/gh/bmabey/pyLDAvis@3.3.1/pyLDAvis/js/ldavis.v1.0.0.css\">\n",
       "\n",
       "\n",
       "<div id=\"ldavis_el62341406359508313127880941038\"></div>\n",
       "<script type=\"text/javascript\">\n",
       "\n",
       "var ldavis_el62341406359508313127880941038_data = {\"mdsDat\": {\"x\": [-0.025299024878638415, 0.12195999928765931, -0.014902063617495048, -0.1994105045745427, -0.1979232918173427, 0.20154980254846888, 0.22091254446886774, -0.3497430713522392, 0.31732080598650536, -0.07446519605124326], \"y\": [0.044673872122830645, -0.1383964295610086, 0.2746633331305372, -0.17933072756743437, 0.25444144265334245, 0.2639776292437945, 0.07604346106677816, -0.0007449997323322966, -0.2313363171160491, -0.3639912642404587], \"topics\": [1, 2, 3, 4, 5, 6, 7, 8, 9, 10], \"cluster\": [1, 1, 1, 1, 1, 1, 1, 1, 1, 1], \"Freq\": [22.81936668637346, 16.578910960200172, 9.993616010082224, 8.816914957950647, 8.437179074036804, 7.81202336217532, 7.564748173620868, 6.822307030482443, 5.95224186131329, 5.202691883764793]}, \"tinfo\": {\"Term\": [\"be\", \"have\", \"say\", \"do\", \"campaign\", \"state\", \"email\", \"people\", \"candidate\", \"percent\", \"vote\", \"voter\", \"law\", \"police\", \"go\", \"election\", \"so\", \"win\", \"military\", \"war\", \"party\", \"republican\", \"deal\", \"when\", \"president\", \"attack\", \"year\", \"political\", \"black\", \"get\", \"republican\", \"primary\", \"delegate\", \"nomination\", \"convention\", \"caucus\", \"endorse\", \"candidacy\", \"endorsement\", \"front_runner\", \"contender\", \"superdelegate\", \"running_mate\", \"poll\", \"rubio\", \"libertarian\", \"turnout\", \"pledge_delegate\", \"presumptive_nominee\", \"carly\", \"candidate\", \"enthusiastic\", \"exit_poll\", \"incumbent\", \"campaigning\", \"presumptive\", \"real_estate_mogul\", \"clinch_nomination\", \"partisanship\", \"billionaire_businessman\", \"voter\", \"debate\", \"polling\", \"contest\", \"nominee\", \"democratic\", \"win\", \"party\", \"supporter\", \"moderator\", \"pollster\", \"vote\", \"presidential\", \"campaign\", \"governor\", \"senator\", \"race\", \"swing\", \"victory\", \"speaker\", \"rival\", \"voting\", \"former\", \"trump\", \"week\", \"support\", \"conservative\", \"run\", \"state\", \"say\", \"election\", \"percent\", \"lead\", \"point\", \"political\", \"more\", \"president\", \"shit\", \"keefe\", \"costume\", \"creature\", \"idiot\", \"comedian\", \"baseball\", \"bullshit\", \"humor\", \"feminist\", \"villain\", \"inner\", \"podcast\", \"hater\", \"con\", \"sexism\", \"elephant\", \"vibration\", \"mascot\", \"tongue\", \"entertaining\", \"dolly\", \"bartender\", \"raise_vibration\", \"madness\", \"piss\", \"happiness\", \"unhinged\", \"stupidity\", \"humility\", \"dad\", \"laugh\", \"stare\", \"funny\", \"clown\", \"suck\", \"fool\", \"love\", \"guy\", \"movie\", \"thing\", \"do\", \"remember\", \"kid\", \"stupid\", \"maybe\", \"when\", \"really\", \"know\", \"ve\", \"let\", \"so\", \"how\", \"one\", \"get\", \"just\", \"feel\", \"why\", \"go\", \"think\", \"re\", \"never\", \"life\", \"want\", \"woman\", \"see\", \"good\", \"way\", \"make\", \"time\", \"look\", \"even\", \"people\", \"then\", \"man\", \"now\", \"work\", \"email\", \"server\", \"subpoena\", \"reopen_investigation\", \"gold_silver\", \"administration_rule_dismantle\", \"correspondence\", \"incriminate\", \"laptop\", \"newly_discover\", \"contain_classified\", \"classified\", \"pertinent\", \"undercover\", \"classified_information\", \"sexte\", \"gold_reserve\", \"pedophile\", \"electronic_device\", \"rigging\", \"dirty_trick\", \"algorithm\", \"obstruction_justice\", \"artificial_intelligence\", \"false_narrative\", \"mso\", \"probe\", \"estranged_husband\", \"private_server\", \"launder\", \"information\", \"leak\", \"wikileak\", \"inspector_general\", \"hack\", \"disclosure\", \"investigation\", \"email_server\", \"hacker\", \"document\", \"classify\", \"secret\", \"computer\", \"inquiry\", \"revelation\", \"disclose\", \"letter\", \"scandal\", \"investigate\", \"evidence\", \"source\", \"fraud\", \"agent\", \"release\", \"user\", \"mail\", \"account\", \"news\", \"report\", \"publish\", \"reveal\", \"send\", \"post\", \"article\", \"official\", \"election\", \"public\", \"use\", \"claim\", \"case\", \"private\", \"record\", \"medium\", \"campaign\", \"write\", \"accord\", \"story\", \"government\", \"new\", \"inflation\", \"interest_rate\", \"premium\", \"euro\", \"central_bank\", \"recession\", \"saving\", \"loan\", \"single_payer\", \"growth\", \"insurer\", \"economist\", \"pension\", \"gdp\", \"private_equity\", \"student_loan\", \"median\", \"unemployment_rate\", \"earning\", \"tax_code\", \"uninsured\", \"labor_market\", \"taxation\", \"portfolio\", \"shipping\", \"borrower\", \"foreclosure\", \"monetary_policy\", \"magnesium\", \"herb\", \"gold\", \"customer\", \"price\", \"tax\", \"income\", \"market\", \"currency\", \"deposit\", \"debt\", \"rate\", \"employer\", \"revenue\", \"consumer\", \"cost\", \"spending\", \"insurance\", \"fund\", \"economy\", \"investor\", \"company\", \"increase\", \"financial\", \"pay\", \"investment\", \"money\", \"taxis\", \"dollar\", \"worker\", \"bank\", \"budget\", \"job\", \"cut\", \"year\", \"business\", \"industry\", \"percent\", \"high\", \"health_care\", \"low\", \"economic\", \"more\", \"government\", \"work\", \"plan\", \"federal\", \"program\", \"system\", \"arrest\", \"shooting\", \"gunman\", \"attacker\", \"police_officer\", \"detain\", \"passenger\", \"police\", \"rifle\", \"demonstrator\", \"sheriff\", \"homicide\", \"trooper\", \"pistol\", \"robbery\", \"manhunt\", \"tear_gas\", \"subway\", \"heavily_armed\", \"peaceful_protest\", \"arson\", \"plead_guilty\", \"riot_gear\", \"local_law_enforcement\", \"vandalize\", \"gunshot\", \"assailant\", \"ordinance\", \"curfew\", \"profiling\", \"officer\", \"mass_shooting\", \"handgun\", \"firearm\", \"gunfire\", \"van\", \"injury\", \"airport\", \"law_enforcement\", \"gun\", \"shooter\", \"protester\", \"injure\", \"belgian\", \"migrant\", \"inmate\", \"suspect\", \"shoot\", \"victim\", \"incident\", \"prison\", \"street\", \"kill\", \"murder\", \"french\", \"say\", \"fire\", \"authority\", \"car\", \"violence\", \"city\", \"attack\", \"charge\", \"death\", \"man\", \"tell\", \"family\", \"local\", \"people\", \"crime\", \"report\", \"protest\", \"official\", \"year\", \"accord\", \"video\", \"community\", \"troop\", \"iraqi\", \"airstrike\", \"aircraft\", \"turkish\", \"saudi\", \"kurdish\", \"syrian\", \"fly_zone\", \"rebel\", \"militia\", \"indigenous\", \"sunni\", \"submarine\", \"ethnic_cleansing\", \"warship\", \"jihadi\", \"syrian_rebel\", \"warplane\", \"caliphate\", \"yemeni\", \"airspace\", \"pumpkin\", \"separatist\", \"fighter_jet\", \"isis_fighter\", \"sailor\", \"isis_militant\", \"battleship\", \"iraqi_army\", \"egyptian\", \"military\", \"isis\", \"arab\", \"province\", \"russian\", \"fighter\", \"afghan\", \"western\", \"civilian\", \"expel\", \"militant\", \"war\", \"missile\", \"force\", \"pilot\", \"commander\", \"village\", \"soldier\", \"terrorist\", \"eastern\", \"operation\", \"strike\", \"british\", \"region\", \"air\", \"group\", \"attack\", \"combat\", \"government\", \"area\", \"fight\", \"city\", \"target\", \"country\", \"kill\", \"official\", \"security\", \"support\", \"border\", \"state\", \"sanction\", \"negotiation\", \"nuclear_weapon\", \"veto\", \"emission\", \"negotiator\", \"diplomacy\", \"neoconservative\", \"fast_track\", \"embargo\", \"centrifuge\", \"sanction_relief\", \"greenhouse_gas_emission\", \"carbon_emission\", \"warming\", \"negotiating\", \"greenhouse_gas\", \"recess_appointment\", \"tibetan\", \"framework_agreement\", \"nuclear\", \"lift_sanction\", \"diplomatic_relation\", \"shortcoming\", \"lever\", \"green_energy\", \"negotiating_table\", \"epoch\", \"deterrent\", \"enrich_uranium\", \"agreement\", \"coal\", \"deal\", \"global_warming\", \"carbon\", \"climate_change\", \"negotiate\", \"climate\", \"administration\", \"israeli\", \"iranian\", \"resolution\", \"lawmaker\", \"bill\", \"foreign_policy\", \"neocon\", \"legislation\", \"deadline\", \"summit\", \"commitment\", \"relation\", \"international\", \"president\", \"program\", \"leader\", \"trade\", \"global\", \"pass\", \"say\", \"new\", \"policy\", \"power\", \"country\", \"world\", \"end\", \"american\", \"change\", \"issue\", \"government\", \"talk\", \"also\", \"vote\", \"pope\", \"teaching\", \"racially\", \"presstitute\", \"imperialism\", \"white_supremacy\", \"racism\", \"checker\", \"fundamentalist\", \"philosopher\", \"liberalism\", \"persecute\", \"whiteness\", \"intellectual\", \"pontiff\", \"pseudo\", \"matrix\", \"self_determination\", \"repression\", \"white_nationalist\", \"anakin\", \"apartheid\", \"cult\", \"marxist\", \"theology\", \"neoliberalism\", \"patriotism\", \"altar\", \"anti_semitism\", \"dispossess\", \"society\", \"slavery\", \"fascism\", \"anti_semitic\", \"chess\", \"cultural\", \"racial\", \"black\", \"religion\", \"campus\", \"snip\", \"social\", \"white\", \"th_century\", \"catholic\", \"student\", \"university\", \"globalist\", \"fascist\", \"teacher\", \"culture\", \"racist\", \"identity\", \"class\", \"christian\", \"elite\", \"school\", \"faith\", \"movement\", \"generation\", \"religious\", \"democracy\", \"american\", \"political\", \"people\", \"power\", \"freedom\", \"right\", \"world\", \"community\", \"system\", \"history\", \"politic\", \"anti\", \"human\", \"view\", \"change\", \"many\", \"become\", \"medium\", \"conservative\", \"such\", \"liberal\", \"be\", \"have\", \"correctly_predict\", \"wreak_havoc\", \"fractional\", \"linkage\", \"we_re\", \"bosnian\", \"banana_republic\", \"mathematically_impossible\", \"psychologically\", \"extradite\", \"sherpeace\", \"assange\", \"covertly\", \"ounb\", \"emigre\", \"plateau\", \"davidmpark\", \"jp\", \"interference_pattern\", \"widespread_civil_unrest\", \"lapdog\", \"relativity\", \"doodaa\", \"mound\", \"complacent\", \"singularity\", \"false_flag_op\", \"fractional_reserve_banking\", \"aristocracy\", \"ll\", \"suspicious_circumstance\", \"aristocrat\", \"do\", \"reptilian\", \"so\", \"very\", \"people\", \"when\", \"go\", \"only\", \"other\", \"just\", \"country\", \"know\", \"miracle\", \"thing\", \"now\", \"think\", \"here\", \"then\", \"happen\", \"see\", \"get\", \"world\", \"take\", \"most\", \"want\", \"many\", \"how\", \"even\", \"come\", \"election\", \"make\", \"more\", \"government\", \"vaccine\", \"same_sex\", \"specie\", \"health_wellness\", \"utm_campaign\", \"utm_source\", \"force_html\", \"im_tzrwu\", \"infowar_life_brain\", \"infowar_placement\", \"utm_medium\", \"vaccination\", \"plaintiff\", \"medication\", \"cholesterol\", \"nutrient\", \"tumor\", \"gmail_com\", \"blood_pressure\", \"heart_disease\", \"vitamin\", \"pregnancy\", \"saponin\", \"toxin\", \"wireless\", \"pesticide\", \"com_wp_content_upload\", \"injunction\", \"activation_http_www_infowar\", \"brainforce_jpg\", \"disease\", \"cancer\", \"organic\", \"infection\", \"marriage_license\", \"diet\", \"court\", \"ruling\", \"same_sex_marriage\", \"patient\", \"law\", \"drug\", \"health\", \"treatment\", \"legal\", \"abortion\", \"study\", \"doctor\", \"food\", \"researcher\", \"justice\", \"medical\", \"marriage\", \"water\", \"case\", \"chemical\", \"judicial\", \"state\", \"judge\", \"science\", \"use\", \"federal\", \"body\", \"constitutional\", \"research\", \"effect\", \"decision\", \"issue\", \"right\", \"child\", \"government\", \"cause\", \"com\", \"woman\", \"rule\", \"test\"], \"Freq\": [26692.0, 8273.0, 20412.0, 8855.0, 6807.0, 6562.0, 3113.0, 6313.0, 4530.0, 3817.0, 5075.0, 3992.0, 2386.0, 2156.0, 4159.0, 4684.0, 3017.0, 3789.0, 2097.0, 2552.0, 3916.0, 2971.0, 1891.0, 2956.0, 3156.0, 3031.0, 3975.0, 3340.0, 1721.0, 4082.0, 2970.805841781997, 1930.4127833438988, 1471.6325031918223, 1077.163470542698, 1003.1812112268093, 618.2343650269994, 483.07867697425837, 412.5385179847462, 329.3597973509723, 241.73000401941925, 225.38523325471414, 196.70106386824438, 182.11997835982345, 2336.4131836280353, 119.17680549147421, 238.3555885998178, 245.11374525974793, 102.16376502632086, 99.96932767212247, 99.22651926525882, 4486.85841179003, 91.2415809406834, 88.83066239868913, 88.26904829038322, 71.63833739244505, 68.94668450280037, 68.50277737502456, 65.68763976144706, 63.42275465337679, 55.663531242421264, 3918.323187316473, 2551.332674525928, 356.6497080677203, 611.1432513621864, 1527.5218172072657, 2127.377529461395, 3623.3489900096224, 3718.537971775212, 1470.7305547921746, 207.7148969238976, 175.9636570454105, 4527.5368274893535, 2294.647931740177, 5843.207329429583, 772.5250861399502, 776.7098785427861, 1712.6321849344158, 323.3737837481351, 795.0688327005649, 448.74084994941313, 457.60635126768574, 575.2818838118833, 1695.2476142412263, 1769.0063640740723, 1594.6207289600316, 1977.2675679639387, 1550.0799887379865, 1444.0228001942533, 3747.5799347078364, 9146.532308453407, 2708.7767251255227, 2249.0952721098256, 1112.6604524906156, 1093.5162681052846, 1596.6552701738194, 1589.7193412680517, 1370.4137288146592, 90.2200766747132, 64.9207013249238, 56.1701878972153, 51.219375368348985, 50.595669339441386, 50.23997473295273, 48.183320028859875, 48.10235597066691, 44.03816872540295, 91.72396354259294, 42.81185782180862, 41.95529957003836, 35.77599277382323, 34.623247142537686, 34.29434100069493, 34.242056481883616, 33.270748378596764, 32.13009928682202, 32.101835290864614, 31.879649856409007, 30.48244495881754, 29.328209710002714, 29.118235265577294, 28.724155715662807, 28.695055350525248, 27.902464374430085, 26.86151577126089, 26.17964246684538, 25.789237658991883, 25.770068077382845, 81.54645286670741, 187.45230072823995, 47.01663960664442, 86.93109977359227, 68.2541061568943, 59.495718533451836, 70.03097688206613, 647.1417483445327, 459.7880652269072, 172.7284984823253, 1505.890491495483, 6045.582893878384, 351.4062828677751, 340.6248044756335, 153.03264169114578, 367.33711902826445, 1977.8480910136811, 787.9568780866598, 1896.8275470874519, 906.6999187893906, 672.6433243073152, 1931.9367123982163, 1558.6215152377035, 528.5785041254303, 2445.6006728028956, 1593.6368099932422, 737.69015362616, 830.1646519809158, 2311.527601300042, 1661.321537141617, 1483.9734635413092, 825.8697078376825, 987.929896601438, 1321.2901568482382, 1466.6758134980691, 1302.2925820444, 973.6038750591573, 1009.6653813809799, 1331.1993039462604, 1036.931791395849, 896.295669309155, 1014.8771692664885, 2010.2394051228475, 914.4744404464034, 1009.9350479339869, 864.0356950944848, 895.659535714619, 3112.5708583083083, 239.20204792273108, 99.86234554198978, 77.78532718918179, 70.58095287695646, 58.335964089415164, 46.06344309385484, 39.89203816770435, 174.148191112498, 38.94831813814086, 38.15971673377267, 83.7160407553904, 34.61948022984408, 30.763336581336862, 110.27336661581654, 28.677467207715253, 28.492188396588237, 26.671670495518935, 26.28347697625471, 25.724955250418446, 25.62759482475977, 73.16075685527423, 23.5361659405135, 23.40675182625903, 22.908614155111238, 22.46992440112405, 224.78451106842698, 21.903179099816256, 137.37415321396062, 21.75443087988427, 1097.1666324691082, 356.67099637539786, 145.11026637857765, 89.13597560968378, 253.1760126731294, 121.31269093238086, 1314.8890069377635, 110.44052129494152, 89.62252088391624, 541.147132193717, 94.28026572414004, 462.51606312403317, 270.2858725665267, 130.72532663964287, 174.0438701540641, 142.0965828223229, 539.3306602747977, 409.2733494875777, 333.5945482576947, 670.6706280684494, 833.9300920090017, 335.7469598151847, 429.26686959061584, 803.5372514898546, 236.33791711276444, 346.09974931380884, 475.4675534179207, 736.1958057122124, 1407.6247858431432, 379.26430412724653, 352.42472749526735, 562.2986607870052, 539.7128930816395, 466.85274463361213, 1012.0579162587732, 1494.0633352966886, 745.4214941183317, 877.2369943030084, 614.9437747934284, 629.1589361208472, 399.5010756397926, 465.9517090789019, 584.102403401067, 950.6955914854017, 508.15596448521336, 459.6702390035003, 433.7152592663316, 459.5417864999037, 432.7903129335854, 181.6288205574954, 152.96765240711204, 138.50109441511717, 96.40362670644028, 95.20543662748645, 94.75106155449971, 89.54861904144269, 218.24409202334283, 79.5746689260281, 405.63433816502203, 72.05759840943915, 149.28953211272724, 66.42062517938744, 59.2534528347497, 58.00235571004508, 56.61853962236078, 56.51566959726344, 54.80070222357361, 50.96303675299373, 50.51300661261377, 49.6346635036247, 45.38981042642045, 44.370384359183625, 42.943838106690464, 42.726906109401746, 41.97992604476851, 41.030655656605134, 40.339732713862624, 40.11137279469173, 39.37298895448314, 396.49841318051074, 213.41436981531737, 504.93960076143486, 1004.1541984599518, 409.30334908345884, 754.7999544787234, 168.36347162348974, 98.04775669611318, 570.4854561643392, 634.7235767477567, 170.91626935524187, 125.28339740578703, 238.60404169055815, 706.8560503320318, 343.77709082486376, 249.07435540871995, 515.1555261667322, 794.8106709165683, 180.63947940292906, 801.5733038160929, 821.2628004170278, 520.0775856839151, 1140.2171114689788, 283.27929798473934, 1184.8049896701848, 360.32451195488215, 406.2884752602376, 554.8301545761786, 521.6257600843459, 445.7072320867228, 920.7592999782444, 542.7204378553696, 1915.6460268733827, 691.762653407613, 358.3945827861029, 1566.594996920291, 690.5515858473643, 350.1031029449845, 463.7463135282312, 577.4764826937187, 1159.1154707548483, 999.3540967062837, 672.4735498376571, 587.0998192215545, 499.33478752393654, 478.1028098825382, 450.07403918181024, 619.9198140115716, 514.6709122673877, 220.185407243966, 123.73203162675046, 355.22854907001, 120.89910700650587, 119.19313273812313, 2135.326194368667, 90.40720231805382, 80.56983888533928, 61.16377045748081, 58.49583883558522, 52.02949469371708, 44.90983462375394, 40.13585153755284, 38.349868281745124, 37.76230653671216, 37.194877865882496, 36.812177409097636, 34.646009882741616, 33.10361280991095, 32.310709478972186, 32.01994301190434, 30.982966031709083, 30.76615823530367, 30.094497804133617, 28.703462595381843, 28.522847378069862, 28.23905060350483, 27.860742719701303, 805.0207390387451, 148.68858466516977, 54.57406508811491, 150.61589729890807, 53.58176295870654, 82.13829031394417, 125.92603132707633, 170.92103276160907, 411.5826904696052, 1134.901901812168, 103.55673424130427, 423.85620247696045, 186.516527102685, 92.91869310735599, 234.83576181816997, 87.40420214663483, 418.3786585927726, 532.8812187431431, 379.9889972916568, 311.9997526638586, 350.7225828297323, 312.8726900723985, 878.1933273138419, 352.2967548184989, 353.22308412188164, 7443.633485523529, 509.9985193044097, 489.3578206572841, 290.2310570460947, 497.56107525472544, 681.7209036176977, 1204.0760049183775, 452.3244625925095, 462.1190078474721, 836.307987973844, 830.3184037748285, 591.8767965386216, 364.3744200794649, 1010.9287894357444, 424.3488875130453, 650.1830970149634, 392.4927654298328, 523.5529493217142, 558.4368965134887, 430.62966112781226, 406.3596900067493, 395.18656143902604, 571.7289479553311, 418.8834782500267, 320.25368647495833, 250.31516617972565, 244.43227897015728, 227.25118659055838, 191.513852818956, 629.2403107433295, 135.67502381192952, 320.1698155273729, 124.52942712772389, 120.07831974132289, 94.70016308983827, 66.96493810796915, 60.44067975292513, 58.88140759347883, 56.61207321253907, 56.13628678765643, 54.23412343224131, 47.78968717403666, 47.634573046971354, 47.53937859221749, 46.799912421863354, 44.944115044950756, 44.79710193810768, 40.67601571227125, 39.39160078133965, 38.42935489550937, 36.98088849730007, 35.78908936781932, 140.49436421749346, 1957.924393388138, 641.5156828098085, 334.4435941227388, 130.91670821580684, 1404.0528684609626, 338.17982049151243, 156.4815367990651, 560.5121711475178, 375.64164608284096, 82.04984753189423, 362.3244848070224, 2035.9541635641194, 329.24577245940213, 1536.236667836476, 133.00908790676348, 167.02242103069744, 191.39825481142614, 316.3532493398612, 800.2758729839895, 204.98444562566922, 522.2003258480873, 429.13803572185066, 279.2225799147982, 407.611769821272, 402.9259087411229, 951.1222458645422, 1060.862615083593, 232.96149983390166, 1144.9937511103838, 441.10195160405476, 523.0114234893454, 526.311356321661, 382.3111254304634, 691.0646420952258, 487.5935639539871, 458.24255547619316, 380.0369191537079, 423.40847384381306, 353.8376157461628, 362.82465726082467, 499.6774955045232, 344.3499426911381, 287.8877380678641, 220.22700915802437, 110.1554752638412, 90.56539138430976, 86.62370776986175, 77.96732793856151, 61.30350704989067, 59.2613343605484, 54.047534071869684, 48.509768944275, 37.169543784342835, 32.25690083456236, 32.15240475585639, 30.557203791533833, 28.815397875357192, 28.659913520579472, 28.212723265194644, 26.115681778958955, 1202.4680131536313, 23.819310069762963, 22.792988637374645, 22.65484209612315, 22.333403211133344, 22.29046520807053, 21.670571690609833, 21.509413580543786, 21.087698181103786, 20.275891618369265, 697.8546108564886, 191.8854333194592, 1708.3674537947352, 145.10551218123462, 111.18385345260704, 351.7251111286007, 225.0849905933901, 214.81482186200537, 1163.824440278739, 334.0580366157883, 340.73794426928106, 291.22233147330155, 388.06542537411406, 848.7131662844088, 560.761411674294, 107.94979686984883, 355.81731074570195, 130.03100479175563, 121.73286692987564, 189.17509118405735, 258.4142392116517, 401.0737153067247, 1280.3742425730527, 641.4297620709216, 714.6440160040988, 396.5164830726635, 367.9002659840611, 399.44283604661564, 2941.9754783689286, 685.1419539436936, 580.3746919093458, 545.3320881002361, 734.5955298254357, 628.7824585920225, 418.9833328153575, 549.7059862126949, 426.60047864063677, 440.877093102907, 471.38933105813703, 410.30461789527, 400.5878066125328, 381.33723536465874, 142.92386485845893, 83.14426648990572, 53.64226815912346, 50.00576712410519, 46.509873026147275, 44.8541693911482, 236.65216970913679, 43.17384780414783, 39.729122759943486, 36.29080580284472, 34.91491037835433, 34.77692927888676, 33.329423263620775, 123.73544941294224, 32.34119537195223, 30.519113334246995, 28.391518280723503, 28.035201393863268, 27.531585451839188, 27.256979645832782, 27.217003732016696, 26.892991023753872, 80.99846446976201, 25.171829836841777, 24.920589927825528, 28.715186094203172, 24.049230647826885, 22.73548874119236, 22.209105396066544, 22.005729057608963, 492.00971667773615, 67.37964184473829, 71.25888504503985, 57.81831795567512, 44.77229310859151, 201.014070037732, 271.5757169484475, 1414.9264077523353, 297.8003337634694, 168.0030716072318, 50.39257676738238, 548.9918531721571, 1148.089927696859, 88.49920143460119, 85.71874084448586, 705.1528377737737, 188.33564506398628, 141.47789203092645, 112.56890405134274, 203.80657006422751, 326.9780150670625, 305.9408012803854, 195.78680992486616, 384.570389262187, 200.68563745934887, 483.3434092423484, 593.6596576528289, 275.31177954305474, 423.9442037351403, 250.2092126938427, 330.09878536851375, 306.41544606062416, 987.677938098001, 1175.4049453093535, 1783.168585310918, 661.3138937104716, 270.9084643723296, 792.7214725075547, 767.3468619278683, 466.15399236692014, 594.9827088203332, 392.8170495930102, 428.65758801075197, 363.76084081170086, 348.8913427546774, 351.3909314671797, 456.04963019263516, 478.70528738462815, 416.7283788439455, 431.58665477827657, 406.20406814444516, 363.4030544991678, 343.8750075387796, 26691.901785231323, 8272.317641675074, 17.90075740764378, 17.221896669584726, 17.009248460034428, 16.333710370004688, 26.68771379221114, 14.356755021775186, 13.948174253205618, 13.675658955818179, 13.235213385771146, 30.553895454629824, 11.82539789642938, 11.570507299775818, 10.91132452744288, 10.54301190134272, 10.438325098393276, 10.450622562646364, 10.275170816194386, 10.158109425122074, 9.713317103201078, 9.621334245228248, 9.355557804003762, 9.024203947763906, 9.013295345329768, 9.006824526222454, 9.09513515010048, 8.925922218983604, 8.83914395789535, 8.81363808269773, 63.23772461401684, 19.469253362574193, 15.725722675298442, 16.17884816813314, 2809.143568667163, 16.936449848588534, 943.0472542717398, 630.1221037293082, 1263.4081370925685, 708.6054979163031, 798.2410542468594, 394.3236146004773, 498.26211372091257, 545.7192376011408, 624.1230500691261, 530.4277336916487, 46.40663102885397, 386.07899706119684, 367.6798007264069, 488.74827497825214, 344.86529571904475, 335.4829468527346, 264.22049117381556, 394.987496871564, 556.691845261243, 411.6339129253929, 334.320738179492, 342.11189770826974, 365.9999669830026, 347.87362225624537, 357.0210290573351, 308.7409201556364, 278.3720992306211, 457.2844063629916, 339.6127808891444, 373.65170678442547, 335.87140840589683, 194.43974531472523, 141.90853809277215, 103.44606797414134, 80.15064002451754, 79.27570030926768, 79.27570030926768, 78.48963816646672, 78.48963816646672, 78.48963816646672, 78.48963816646672, 78.48963816646672, 66.86595817958901, 63.20934848285865, 60.044054148080306, 58.69530405381375, 58.220154278375496, 57.22903629001797, 52.33074422419191, 51.61444562701857, 50.4268607279134, 105.71396228601971, 46.56096481475044, 43.3022884687325, 41.63071289371669, 41.55344342358802, 40.58525873105587, 40.184098451671034, 40.14225446973522, 39.28925786945782, 39.28925786945782, 183.32949178188096, 287.1101524753003, 103.30414499885809, 53.3775024196724, 101.5542832501593, 94.41124234989158, 1049.7479404750438, 273.1684060663634, 222.35163510491628, 237.9853707280597, 1744.8569503049828, 507.09088793693445, 570.7949511079768, 232.06154304833711, 481.36906601176327, 464.310477823087, 612.3327196150271, 242.65375517710135, 386.0520645675751, 209.29924791989976, 395.5910071776609, 233.80648925637328, 244.71881270944172, 365.09131509199807, 737.2599478301522, 113.65500938562658, 127.95485646819755, 1642.3457898739955, 295.42379932531594, 209.9538812362782, 772.2557682600526, 537.7785375666402, 289.82243464942326, 175.2974452937118, 245.03994957820072, 260.87607109495804, 382.6637010525277, 491.00044907718836, 516.9207668997656, 405.19692844972553, 498.5883110438238, 293.56687427189655, 271.87968568630436, 326.96284535231365, 292.7245486384893, 252.30881417399146], \"Total\": [26692.0, 8273.0, 20412.0, 8855.0, 6807.0, 6562.0, 3113.0, 6313.0, 4530.0, 3817.0, 5075.0, 3992.0, 2386.0, 2156.0, 4159.0, 4684.0, 3017.0, 3789.0, 2097.0, 2552.0, 3916.0, 2971.0, 1891.0, 2956.0, 3156.0, 3031.0, 3975.0, 3340.0, 1721.0, 4082.0, 2971.70495409076, 1931.3118479915859, 1472.531563841637, 1078.062528960172, 1004.08031879073, 619.1334081896936, 483.9778306076269, 413.43811700583103, 330.2588759762053, 242.62904268522576, 226.28433024400945, 197.60008446012162, 183.01910910785088, 2351.7945589213555, 120.07585035264933, 240.24049448519003, 247.08513849619175, 103.06276949071159, 100.86843052091994, 100.12556800560701, 4530.9794725169795, 92.14079011765256, 89.72969515515427, 89.16972718367595, 72.53748300035824, 69.84577081826623, 69.40185152442224, 66.58663784389529, 64.32199434576725, 56.56259079068661, 3992.5285745777264, 2600.5074277295157, 362.5721954215616, 625.0482094486489, 1578.5746529641667, 2206.7395722798974, 3789.9230246279762, 3916.2624640401664, 1539.012882260797, 211.75745805605865, 179.04197153688924, 5075.453283480526, 2524.7541879217206, 6807.229149002433, 828.8275774123261, 845.0966855408532, 1970.2114952639347, 335.2825092143714, 901.1927548040164, 480.96925933264737, 493.067667854763, 643.7299417884589, 2204.950151815858, 2318.420966565674, 2103.2069822207286, 2768.101464220586, 2088.856116046607, 1973.1391703386018, 6562.693712595199, 20412.908341580493, 4684.00223964573, 3817.0464087995265, 1612.1742369343783, 1611.078723718741, 3340.622427974753, 3750.3481100050735, 3156.53760403268, 91.11822126546036, 65.8192407085849, 57.068256342858945, 52.11752596997224, 51.49378597843945, 51.13805560704716, 49.081422555424616, 49.00046463579696, 44.93733013944975, 93.63598113875388, 43.71000669146184, 42.853416851668754, 36.67414214923062, 35.521433135870815, 35.192542914418176, 35.14015234439649, 34.16901389810198, 33.02815789211818, 32.999867263476524, 32.777872877023995, 31.389195890393847, 30.22643681862026, 30.01628348016606, 29.622193798584988, 29.593259279418348, 28.800529417843467, 27.75970005882803, 27.077833848121465, 26.687344108657506, 26.668176072156818, 84.92825182320466, 199.70071522209253, 49.02516228205064, 92.12332545169214, 72.9554471675115, 63.40117736483299, 75.40416788985016, 784.4455778598409, 552.7263040347341, 195.76077324471788, 1986.426051680783, 8855.51933773571, 423.86995373015765, 421.6669678440457, 177.83519509427498, 461.51301663219385, 2956.020712663395, 1088.2098501947821, 2880.0012265588516, 1274.230244423345, 929.3215388348588, 3017.1882053084837, 2396.031054544738, 718.9906655629428, 4082.7257724108413, 2551.072724168163, 1087.2952763271996, 1273.1154851325684, 4159.131840843937, 2912.5695995979786, 2569.0880329383676, 1302.6290635054645, 1654.0248340583064, 2338.584963093212, 2706.0569004431195, 2392.9829621199456, 1678.2834198030755, 1835.1821887826238, 2628.2700064612313, 1979.9234723495113, 1629.7104240915921, 1998.620907465182, 6313.0363606835945, 1748.2270984268146, 2160.8790359576615, 1907.3221440268817, 2283.8980661593514, 3113.470423283892, 240.10158139640743, 100.7618786310816, 78.68484533490937, 71.4836104640036, 59.23551626475225, 46.96299210133028, 40.79162400576887, 178.13628567009098, 39.84783012399862, 39.05928943041647, 85.80966984034154, 35.51913992974647, 31.662919925272277, 113.56488519341985, 29.576974864715126, 29.391874822348406, 27.571198461209026, 27.183062100426206, 26.62453339876647, 26.527194840942414, 75.74344337478219, 24.435685648884665, 24.306344957967685, 23.80826742922321, 23.369468924676223, 233.8870479766533, 22.802689381587676, 143.03139308664348, 22.65423338388322, 1154.672159049924, 375.5433525770554, 152.44083899637846, 93.29873546842823, 269.113368797265, 128.76478344907503, 1496.5525289475295, 118.5309482162467, 95.79983955240452, 625.5262748681903, 101.72174609587833, 538.7120955515053, 312.3422933260228, 145.50732441396542, 197.6708822630795, 159.63706230188583, 684.068275180192, 511.991860133832, 414.7982676250149, 916.0898970931498, 1179.326568692083, 424.81608037340857, 566.2145035354154, 1175.742125055642, 287.0352961175927, 450.81496399813363, 658.1684918862444, 1158.5858501379691, 2592.4004983585623, 559.1411932468861, 519.4214922378037, 966.5966542746421, 989.3635257954377, 805.3128328746714, 2447.8291185176154, 4684.00223964573, 1649.4286938376872, 2581.533334867895, 1482.9678136980012, 1770.84921815692, 694.939532493401, 975.4146344065147, 1717.5176864665168, 6807.229149002433, 1467.2180006178105, 1528.2359825071464, 1234.839648165024, 3921.771472273855, 2321.59015721731, 182.52933210654686, 153.86814974939355, 139.40167840344375, 97.30414119770914, 96.10601909517878, 95.65162088993065, 90.44915609561973, 220.68377216216717, 80.47526775674477, 410.6463866099553, 72.95814278151553, 151.2257334110387, 67.32121268562524, 60.15399338158701, 58.90288071007468, 57.519100319715875, 57.41631184889814, 55.70128396101385, 51.8635619188933, 51.413578436361696, 50.535178789172, 46.29032078442777, 45.27099716639109, 43.84452419755777, 43.62747315713135, 42.88042618519221, 41.93460144350252, 41.24023721832361, 41.01204699770158, 40.273815990012544, 410.0282786434709, 220.83847510790443, 527.7415609019353, 1070.3315098155235, 428.96152933634716, 819.8851553328826, 177.03978671282016, 101.87080647758413, 633.4979875384906, 709.7877220507617, 182.7307745907261, 132.80401566312182, 262.76268860137486, 837.732597451654, 390.20824477037445, 278.54046664415745, 616.4193034001563, 999.1676633077518, 200.1657324013232, 1033.641220132507, 1087.0046846381529, 651.1180222565885, 1580.823726748396, 332.2734155596174, 1690.5927749914997, 437.07862307791856, 503.57861472758447, 725.8494423969851, 676.5432181346644, 583.2558250754383, 1474.1660224046818, 759.548764841915, 3975.5654281252273, 1143.2182350631315, 464.22533774254174, 3817.0464087995265, 1185.9213165463264, 456.5426963720428, 729.0655470994053, 1078.2450639053118, 3750.3481100050735, 3921.771472273855, 2283.8980661593514, 1679.4813799258068, 1542.2842754120816, 1304.4187014738507, 1751.1232075799153, 620.8216848756356, 515.5727698032516, 221.08718302315816, 124.63392643293311, 357.8266924949441, 121.801053705608, 120.09508562245271, 2156.2680417163797, 91.30907044382576, 81.471727500844, 62.06564827490784, 59.397693410829106, 52.931354846482876, 45.811651562167356, 41.03770367767852, 39.25167151474192, 38.66415258780128, 38.09676156256627, 37.71401448555303, 35.5478695934386, 34.00553470834273, 33.21267828968025, 32.92173878446976, 31.885059465163852, 31.668004858721826, 30.99627966628652, 29.60533621494127, 29.42482691614099, 29.140880207169683, 28.762618086140048, 846.9231129966763, 154.3371532808691, 56.417546982859925, 158.3193829620913, 56.01058722553042, 87.39773918947311, 136.59784980659163, 188.1754859632546, 473.7011245013352, 1383.4613245872945, 112.20933476924483, 498.1243924545795, 209.6138335593272, 100.76150407836532, 270.708114070665, 94.46400840827376, 512.0973005455177, 671.015056639565, 483.8837933627751, 399.9098529643445, 464.3124518238637, 415.4377000050874, 1399.9064542497676, 494.6128948928224, 501.58065130444476, 20412.908341580493, 781.9045143954154, 775.738101538799, 407.119217533218, 846.0758819690507, 1352.8923236546748, 3031.800895471482, 820.6090696325846, 857.567872163835, 2160.8790359576615, 2625.4626406706843, 1517.2941070959748, 659.1392323714787, 6313.0363606835945, 932.590142349031, 2592.4004983585623, 805.1898609302123, 2447.8291185176154, 3975.5654281252273, 1528.2359825071464, 1235.0075711886616, 1101.1394830615407, 572.6299319429156, 419.78441972845894, 321.1545944249407, 251.2161248611409, 245.3331938765799, 228.15216014471866, 192.41473767723681, 632.3833303752164, 136.57605651824608, 322.306988503226, 125.43736566020334, 120.9792983897847, 95.60107236590153, 67.86584038336535, 61.341634358958345, 59.78235454636541, 57.513012632441715, 57.03721145025712, 55.135011384169076, 48.690601764078494, 48.53546876184251, 48.44028818271233, 47.7010984974595, 45.84507329431852, 45.69801515784137, 41.576926733911925, 40.29263085785478, 39.330245185826975, 37.881979151471725, 36.689969087128354, 145.83560750502843, 2097.907924247822, 681.0830459458631, 353.5044663116139, 136.56099084202344, 1541.3838670554667, 361.2841037724872, 165.32635817440936, 616.9562250013564, 414.0700991967181, 85.06913260742759, 402.27602054742493, 2552.4608406172615, 374.0996270523306, 1932.2886680978474, 142.73884199873245, 184.39572096358904, 214.93593394598804, 382.7598689580433, 1174.0794786137437, 237.4217822821923, 769.2648868987002, 618.1453764658781, 356.49799509276716, 585.7730171078005, 618.8436138370163, 2144.7656272192326, 3031.800895471482, 291.7549398631053, 3921.771472273855, 841.8240241689381, 1334.1365815969236, 1352.8923236546748, 700.9321446232112, 3391.4443982119465, 1399.9064542497676, 2447.8291185176154, 1052.1592306212003, 2768.101464220586, 678.1146931095204, 6562.693712595199, 500.7935087398472, 345.2500423263893, 288.78785488950183, 221.1412797674427, 111.05552170002628, 91.46545819200378, 87.52380386692234, 78.86752577966126, 62.219142504125855, 60.16143429679061, 54.9475498292672, 49.4097965252183, 38.06958623861244, 33.156956402838496, 33.05280794755581, 31.458844715234417, 29.715453399565497, 29.55994094236412, 29.112750738078052, 27.01569376305509, 1246.475915001622, 24.71934360958722, 23.69306683063172, 23.555102294226653, 23.234986094655333, 23.190506555408014, 22.570613406009148, 22.40980425127036, 21.987778554579098, 21.175902567932027, 733.0432355138068, 203.58194025407147, 1891.7654780014318, 157.15563810122646, 121.48231109339173, 404.32899608707004, 255.85487913036047, 247.52168782320524, 1468.5470446014344, 395.14728317890234, 404.2205297030809, 345.36124416283235, 516.1724633692326, 1258.585423096674, 804.9895695235222, 129.60348072524715, 507.0065053197286, 160.83596826380207, 149.41226330999544, 261.99966765910824, 392.0729918334203, 692.8000559009685, 3156.53760403268, 1304.4187014738507, 1593.8029617201473, 791.1247159244613, 766.0340532936513, 879.1538915977615, 20412.908341580493, 2321.59015721731, 1806.6320190775566, 1736.8294171493683, 3391.4443982119465, 2568.5890534215396, 1108.5970304846644, 2496.6234377468586, 1838.8621428020733, 2242.7012847799483, 3921.771472273855, 1677.7709569109284, 1826.88519125593, 5075.453283480526, 143.8239709927402, 84.09567677062174, 54.54243257576426, 50.90587276144639, 47.40997432533611, 45.75422513380228, 241.5346268335892, 44.07390306888634, 40.62925915221336, 37.190910069361095, 35.815118182202916, 35.6771478427961, 34.229459870223224, 127.17612872566824, 33.24128666073163, 31.419315098653414, 29.29174991404066, 28.935329287317597, 28.431748938536597, 28.15706643112753, 28.117039248757184, 27.793146392717993, 83.7191584907729, 26.071937709727024, 25.82072109662148, 29.76776348860081, 24.949369558525852, 23.635710604074216, 23.109283041374855, 22.905857396587006, 524.0816319619149, 70.36115466292566, 74.48631894319266, 60.849120891462356, 46.90001330498279, 221.28163997864178, 308.2473718850206, 1721.762696753035, 344.4257016963206, 189.574575130772, 53.66254485393611, 673.9851170098843, 1478.9952543617164, 97.23132746109913, 94.13701806005356, 905.6021860196715, 222.04843490740063, 164.5966831261283, 130.42194777702068, 253.79271243383386, 441.65772679826216, 412.5797364425705, 250.46759646362764, 548.8412504182006, 258.14997192844993, 717.8490412198954, 976.1735490436322, 389.5107975301159, 679.5857002202387, 354.8550498632834, 506.53213584965124, 503.0641569981649, 2496.6234377468586, 3340.622427974753, 6313.0363606835945, 1736.8294171493683, 446.93474314899913, 2630.6993861289616, 2568.5890534215396, 1101.1394830615407, 1751.1232075799153, 871.9645927407558, 1025.5288106095804, 839.5412079020507, 775.2407963042983, 882.3241346516978, 1838.8621428020733, 2157.3800664624864, 1422.2469649656896, 1717.5176864665168, 2088.856116046607, 1212.5307375874386, 886.1020568141809, 26692.795957143193, 8273.211844708794, 18.795029036498562, 18.118129535087768, 17.904141524578872, 17.231593534368347, 28.194086050595274, 15.254371450202674, 14.844196747640007, 14.569875824405095, 14.135698921337942, 32.76453380736748, 12.719542911807958, 12.464675310517075, 11.810031690755137, 11.437191907546778, 11.332501465567294, 11.34631555372268, 11.169329081851203, 11.052271900922733, 10.607514828875352, 10.515495735021585, 10.250676978092722, 9.918354893810497, 9.907466748296216, 9.902611276141176, 10.000389444098348, 9.820439518897368, 9.733325023339034, 9.70781451993207, 74.74662293573215, 22.354589561796963, 18.304521391794562, 19.10840248477174, 8855.51933773571, 20.93515665652835, 3017.1882053084837, 1983.287426736735, 6313.0363606835945, 2956.020712663395, 4159.131840843937, 1599.7779635634552, 2217.4771809307717, 2551.072724168163, 3391.4443982119465, 2880.0012265588516, 92.08344954436853, 1986.426051680783, 1907.3221440268817, 2912.5695995979786, 1756.7316071540833, 1748.2270984268146, 1237.7761689553552, 2392.9829621199456, 4082.7257724108413, 2568.5890534215396, 1971.321555075601, 2088.1961972326567, 2338.584963093212, 2157.3800664624864, 2396.031054544738, 1998.620907465182, 1679.5200479886246, 4684.00223964573, 2628.2700064612313, 3750.3481100050735, 3921.771472273855, 195.3403276105148, 142.80911812658263, 104.34672693953857, 81.0511766497847, 80.17624227871111, 80.17624227871111, 79.39017286997006, 79.39017286997006, 79.39017286997006, 79.39017286997006, 79.39017286997006, 67.76657380467843, 64.10992300303406, 60.944696789142384, 59.595846298837415, 59.12069533659067, 58.12972434931034, 53.23138675832879, 52.51503577994465, 51.32742041351383, 107.63198369731654, 47.461731788630914, 44.20282396233, 42.53128076800928, 42.45411669288874, 41.485869454226595, 41.084673287018916, 41.04293423292007, 40.18979257296117, 40.18979257296117, 188.10966800213117, 297.51228889483315, 108.46350028878945, 55.00443114177518, 107.10354157753714, 99.68617368190888, 1251.345377019173, 305.47749065888877, 246.83461968335243, 274.064890969371, 2386.8285140987955, 624.5085856832532, 720.9185621491324, 280.2435103335726, 659.942037401976, 641.7251074456162, 912.8419961103426, 327.8141383057251, 582.7221398354352, 285.50418956633087, 666.5526120028795, 334.38819391118625, 357.08385275474615, 631.500855026289, 1770.84921815692, 132.81105018385708, 157.98660028338045, 6562.693712595199, 534.2656088068665, 335.9063063963216, 2581.533334867895, 1542.2842754120816, 586.2740959625689, 262.58678350839, 484.7434832153437, 548.3863593706928, 1224.9626912813214, 2242.7012847799483, 2630.6993861289616, 1498.9435077447347, 3921.771472273855, 783.9849889064847, 815.7216439583672, 2706.0569004431195, 1300.957010733396, 616.7073689873928], \"Category\": [\"Default\", \"Default\", \"Default\", \"Default\", \"Default\", \"Default\", \"Default\", \"Default\", \"Default\", \"Default\", \"Default\", \"Default\", \"Default\", \"Default\", \"Default\", \"Default\", \"Default\", \"Default\", \"Default\", \"Default\", \"Default\", \"Default\", \"Default\", \"Default\", \"Default\", \"Default\", \"Default\", \"Default\", \"Default\", \"Default\", \"Topic1\", \"Topic1\", \"Topic1\", \"Topic1\", \"Topic1\", \"Topic1\", \"Topic1\", \"Topic1\", \"Topic1\", \"Topic1\", \"Topic1\", \"Topic1\", \"Topic1\", \"Topic1\", \"Topic1\", \"Topic1\", \"Topic1\", \"Topic1\", \"Topic1\", \"Topic1\", \"Topic1\", \"Topic1\", \"Topic1\", \"Topic1\", \"Topic1\", \"Topic1\", \"Topic1\", \"Topic1\", \"Topic1\", \"Topic1\", \"Topic1\", \"Topic1\", \"Topic1\", \"Topic1\", \"Topic1\", \"Topic1\", \"Topic1\", \"Topic1\", \"Topic1\", \"Topic1\", \"Topic1\", \"Topic1\", \"Topic1\", \"Topic1\", \"Topic1\", \"Topic1\", \"Topic1\", \"Topic1\", \"Topic1\", \"Topic1\", \"Topic1\", \"Topic1\", \"Topic1\", \"Topic1\", \"Topic1\", \"Topic1\", \"Topic1\", \"Topic1\", \"Topic1\", \"Topic1\", \"Topic1\", \"Topic1\", \"Topic1\", \"Topic1\", \"Topic1\", \"Topic1\", \"Topic1\", \"Topic2\", \"Topic2\", \"Topic2\", \"Topic2\", \"Topic2\", \"Topic2\", \"Topic2\", \"Topic2\", \"Topic2\", \"Topic2\", \"Topic2\", \"Topic2\", \"Topic2\", \"Topic2\", \"Topic2\", \"Topic2\", \"Topic2\", \"Topic2\", \"Topic2\", \"Topic2\", \"Topic2\", \"Topic2\", \"Topic2\", \"Topic2\", \"Topic2\", \"Topic2\", \"Topic2\", \"Topic2\", \"Topic2\", \"Topic2\", \"Topic2\", \"Topic2\", \"Topic2\", \"Topic2\", \"Topic2\", \"Topic2\", \"Topic2\", \"Topic2\", \"Topic2\", \"Topic2\", \"Topic2\", \"Topic2\", \"Topic2\", \"Topic2\", \"Topic2\", \"Topic2\", \"Topic2\", \"Topic2\", \"Topic2\", \"Topic2\", \"Topic2\", \"Topic2\", \"Topic2\", \"Topic2\", \"Topic2\", \"Topic2\", \"Topic2\", \"Topic2\", \"Topic2\", \"Topic2\", \"Topic2\", \"Topic2\", \"Topic2\", \"Topic2\", \"Topic2\", \"Topic2\", \"Topic2\", \"Topic2\", \"Topic2\", \"Topic2\", \"Topic2\", \"Topic2\", \"Topic2\", \"Topic2\", \"Topic2\", \"Topic2\", \"Topic2\", \"Topic3\", \"Topic3\", \"Topic3\", \"Topic3\", \"Topic3\", \"Topic3\", \"Topic3\", \"Topic3\", \"Topic3\", \"Topic3\", \"Topic3\", \"Topic3\", \"Topic3\", \"Topic3\", \"Topic3\", \"Topic3\", \"Topic3\", \"Topic3\", \"Topic3\", \"Topic3\", \"Topic3\", \"Topic3\", \"Topic3\", \"Topic3\", \"Topic3\", \"Topic3\", \"Topic3\", \"Topic3\", \"Topic3\", \"Topic3\", \"Topic3\", \"Topic3\", \"Topic3\", \"Topic3\", \"Topic3\", \"Topic3\", \"Topic3\", \"Topic3\", \"Topic3\", \"Topic3\", \"Topic3\", \"Topic3\", \"Topic3\", \"Topic3\", \"Topic3\", \"Topic3\", \"Topic3\", \"Topic3\", \"Topic3\", \"Topic3\", \"Topic3\", \"Topic3\", \"Topic3\", \"Topic3\", \"Topic3\", \"Topic3\", \"Topic3\", \"Topic3\", \"Topic3\", \"Topic3\", \"Topic3\", \"Topic3\", \"Topic3\", \"Topic3\", \"Topic3\", \"Topic3\", \"Topic3\", \"Topic3\", \"Topic3\", \"Topic3\", \"Topic3\", \"Topic3\", \"Topic3\", \"Topic3\", \"Topic3\", \"Topic3\", \"Topic3\", \"Topic3\", \"Topic3\", \"Topic4\", \"Topic4\", \"Topic4\", \"Topic4\", \"Topic4\", \"Topic4\", \"Topic4\", \"Topic4\", \"Topic4\", \"Topic4\", \"Topic4\", \"Topic4\", \"Topic4\", \"Topic4\", \"Topic4\", \"Topic4\", \"Topic4\", \"Topic4\", \"Topic4\", \"Topic4\", \"Topic4\", \"Topic4\", \"Topic4\", \"Topic4\", \"Topic4\", \"Topic4\", \"Topic4\", \"Topic4\", \"Topic4\", \"Topic4\", \"Topic4\", \"Topic4\", \"Topic4\", \"Topic4\", \"Topic4\", \"Topic4\", \"Topic4\", \"Topic4\", \"Topic4\", \"Topic4\", \"Topic4\", \"Topic4\", \"Topic4\", \"Topic4\", \"Topic4\", \"Topic4\", \"Topic4\", \"Topic4\", \"Topic4\", \"Topic4\", \"Topic4\", \"Topic4\", \"Topic4\", \"Topic4\", \"Topic4\", \"Topic4\", \"Topic4\", \"Topic4\", \"Topic4\", \"Topic4\", \"Topic4\", \"Topic4\", \"Topic4\", \"Topic4\", \"Topic4\", \"Topic4\", \"Topic4\", \"Topic4\", \"Topic4\", \"Topic4\", \"Topic4\", \"Topic4\", \"Topic4\", \"Topic4\", \"Topic4\", \"Topic4\", \"Topic4\", \"Topic5\", \"Topic5\", \"Topic5\", \"Topic5\", \"Topic5\", \"Topic5\", \"Topic5\", \"Topic5\", \"Topic5\", \"Topic5\", \"Topic5\", \"Topic5\", \"Topic5\", \"Topic5\", \"Topic5\", \"Topic5\", \"Topic5\", \"Topic5\", \"Topic5\", \"Topic5\", \"Topic5\", \"Topic5\", \"Topic5\", \"Topic5\", \"Topic5\", \"Topic5\", \"Topic5\", \"Topic5\", \"Topic5\", \"Topic5\", \"Topic5\", \"Topic5\", \"Topic5\", \"Topic5\", \"Topic5\", \"Topic5\", \"Topic5\", \"Topic5\", \"Topic5\", \"Topic5\", \"Topic5\", \"Topic5\", \"Topic5\", \"Topic5\", \"Topic5\", \"Topic5\", \"Topic5\", \"Topic5\", \"Topic5\", \"Topic5\", \"Topic5\", \"Topic5\", \"Topic5\", \"Topic5\", \"Topic5\", \"Topic5\", \"Topic5\", \"Topic5\", \"Topic5\", \"Topic5\", \"Topic5\", \"Topic5\", \"Topic5\", \"Topic5\", \"Topic5\", \"Topic5\", \"Topic5\", \"Topic5\", \"Topic5\", \"Topic5\", \"Topic5\", \"Topic5\", \"Topic5\", \"Topic5\", \"Topic5\", \"Topic5\", \"Topic5\", \"Topic6\", \"Topic6\", \"Topic6\", \"Topic6\", \"Topic6\", \"Topic6\", \"Topic6\", \"Topic6\", \"Topic6\", \"Topic6\", \"Topic6\", \"Topic6\", \"Topic6\", \"Topic6\", \"Topic6\", \"Topic6\", \"Topic6\", \"Topic6\", \"Topic6\", \"Topic6\", \"Topic6\", \"Topic6\", \"Topic6\", \"Topic6\", \"Topic6\", \"Topic6\", \"Topic6\", \"Topic6\", \"Topic6\", \"Topic6\", \"Topic6\", \"Topic6\", \"Topic6\", \"Topic6\", \"Topic6\", \"Topic6\", \"Topic6\", \"Topic6\", \"Topic6\", \"Topic6\", \"Topic6\", \"Topic6\", \"Topic6\", \"Topic6\", \"Topic6\", \"Topic6\", \"Topic6\", \"Topic6\", \"Topic6\", \"Topic6\", \"Topic6\", \"Topic6\", \"Topic6\", \"Topic6\", \"Topic6\", \"Topic6\", \"Topic6\", \"Topic6\", \"Topic6\", \"Topic6\", \"Topic6\", \"Topic6\", \"Topic6\", \"Topic6\", \"Topic6\", \"Topic6\", \"Topic6\", \"Topic6\", \"Topic6\", \"Topic6\", \"Topic6\", \"Topic7\", \"Topic7\", \"Topic7\", \"Topic7\", \"Topic7\", \"Topic7\", \"Topic7\", \"Topic7\", \"Topic7\", \"Topic7\", \"Topic7\", \"Topic7\", \"Topic7\", \"Topic7\", \"Topic7\", \"Topic7\", \"Topic7\", \"Topic7\", \"Topic7\", \"Topic7\", \"Topic7\", \"Topic7\", \"Topic7\", \"Topic7\", \"Topic7\", \"Topic7\", \"Topic7\", \"Topic7\", \"Topic7\", \"Topic7\", \"Topic7\", \"Topic7\", \"Topic7\", \"Topic7\", \"Topic7\", \"Topic7\", \"Topic7\", \"Topic7\", \"Topic7\", \"Topic7\", \"Topic7\", \"Topic7\", \"Topic7\", \"Topic7\", \"Topic7\", \"Topic7\", \"Topic7\", \"Topic7\", \"Topic7\", \"Topic7\", \"Topic7\", \"Topic7\", \"Topic7\", \"Topic7\", \"Topic7\", \"Topic7\", \"Topic7\", \"Topic7\", \"Topic7\", \"Topic7\", \"Topic7\", \"Topic7\", \"Topic7\", \"Topic7\", \"Topic7\", \"Topic7\", \"Topic7\", \"Topic7\", \"Topic7\", \"Topic7\", \"Topic7\", \"Topic7\", \"Topic8\", \"Topic8\", \"Topic8\", \"Topic8\", \"Topic8\", \"Topic8\", \"Topic8\", \"Topic8\", \"Topic8\", \"Topic8\", \"Topic8\", \"Topic8\", \"Topic8\", \"Topic8\", \"Topic8\", \"Topic8\", \"Topic8\", \"Topic8\", \"Topic8\", \"Topic8\", \"Topic8\", \"Topic8\", \"Topic8\", \"Topic8\", \"Topic8\", \"Topic8\", \"Topic8\", \"Topic8\", \"Topic8\", \"Topic8\", \"Topic8\", \"Topic8\", \"Topic8\", \"Topic8\", \"Topic8\", \"Topic8\", \"Topic8\", \"Topic8\", \"Topic8\", \"Topic8\", \"Topic8\", \"Topic8\", \"Topic8\", \"Topic8\", \"Topic8\", \"Topic8\", \"Topic8\", \"Topic8\", \"Topic8\", \"Topic8\", \"Topic8\", \"Topic8\", \"Topic8\", \"Topic8\", \"Topic8\", \"Topic8\", \"Topic8\", \"Topic8\", \"Topic8\", \"Topic8\", \"Topic8\", \"Topic8\", \"Topic8\", \"Topic8\", \"Topic8\", \"Topic8\", \"Topic8\", \"Topic8\", \"Topic8\", \"Topic8\", \"Topic8\", \"Topic8\", \"Topic8\", \"Topic8\", \"Topic8\", \"Topic8\", \"Topic8\", \"Topic8\", \"Topic8\", \"Topic8\", \"Topic8\", \"Topic8\", \"Topic8\", \"Topic9\", \"Topic9\", \"Topic9\", \"Topic9\", \"Topic9\", \"Topic9\", \"Topic9\", \"Topic9\", \"Topic9\", \"Topic9\", \"Topic9\", \"Topic9\", \"Topic9\", \"Topic9\", \"Topic9\", \"Topic9\", \"Topic9\", \"Topic9\", \"Topic9\", \"Topic9\", \"Topic9\", \"Topic9\", \"Topic9\", \"Topic9\", \"Topic9\", \"Topic9\", \"Topic9\", \"Topic9\", \"Topic9\", \"Topic9\", \"Topic9\", \"Topic9\", \"Topic9\", \"Topic9\", \"Topic9\", \"Topic9\", \"Topic9\", \"Topic9\", \"Topic9\", \"Topic9\", \"Topic9\", \"Topic9\", \"Topic9\", \"Topic9\", \"Topic9\", \"Topic9\", \"Topic9\", \"Topic9\", \"Topic9\", \"Topic9\", \"Topic9\", \"Topic9\", \"Topic9\", \"Topic9\", \"Topic9\", \"Topic9\", \"Topic9\", \"Topic9\", \"Topic9\", \"Topic9\", \"Topic9\", \"Topic9\", \"Topic9\", \"Topic9\", \"Topic9\", \"Topic9\", \"Topic9\", \"Topic10\", \"Topic10\", \"Topic10\", \"Topic10\", \"Topic10\", \"Topic10\", \"Topic10\", \"Topic10\", \"Topic10\", \"Topic10\", \"Topic10\", \"Topic10\", \"Topic10\", \"Topic10\", \"Topic10\", \"Topic10\", \"Topic10\", \"Topic10\", \"Topic10\", \"Topic10\", \"Topic10\", \"Topic10\", \"Topic10\", \"Topic10\", \"Topic10\", \"Topic10\", \"Topic10\", \"Topic10\", \"Topic10\", \"Topic10\", \"Topic10\", \"Topic10\", \"Topic10\", \"Topic10\", \"Topic10\", \"Topic10\", \"Topic10\", \"Topic10\", \"Topic10\", \"Topic10\", \"Topic10\", \"Topic10\", \"Topic10\", \"Topic10\", \"Topic10\", \"Topic10\", \"Topic10\", \"Topic10\", \"Topic10\", \"Topic10\", \"Topic10\", \"Topic10\", \"Topic10\", \"Topic10\", \"Topic10\", \"Topic10\", \"Topic10\", \"Topic10\", \"Topic10\", \"Topic10\", \"Topic10\", \"Topic10\", \"Topic10\", \"Topic10\", \"Topic10\", \"Topic10\", \"Topic10\", \"Topic10\", \"Topic10\", \"Topic10\", \"Topic10\", \"Topic10\", \"Topic10\", \"Topic10\", \"Topic10\", \"Topic10\"], \"logprob\": [30.0, 29.0, 28.0, 27.0, 26.0, 25.0, 24.0, 23.0, 22.0, 21.0, 20.0, 19.0, 18.0, 17.0, 16.0, 15.0, 14.0, 13.0, 12.0, 11.0, 10.0, 9.0, 8.0, 7.0, 6.0, 5.0, 4.0, 3.0, 2.0, 1.0, -4.7196, -5.1507, -5.422, -5.7341, -5.8052, -6.2893, -6.536, -6.6938, -6.919, -7.2283, -7.2984, -7.4345, -7.5115, -4.9598, -7.9356, -7.2424, -7.2144, -8.0896, -8.1113, -8.1188, -4.3073, -8.2027, -8.2294, -8.2358, -8.4445, -8.4828, -8.4893, -8.5313, -8.5663, -8.6968, -4.4427, -4.8718, -6.8394, -6.3008, -5.3848, -5.0535, -4.521, -4.4951, -5.4227, -7.38, -7.5459, -4.2982, -4.9778, -4.0431, -6.0665, -6.0611, -5.2704, -6.9374, -6.0377, -6.6097, -6.5902, -6.3613, -5.2806, -5.238, -5.3418, -5.1267, -5.3701, -5.441, -4.4873, -3.595, -4.8119, -4.9979, -5.7017, -5.719, -5.3405, -5.3449, -5.4933, -7.8944, -8.2235, -8.3683, -8.4606, -8.4728, -8.4799, -8.5217, -8.5234, -8.6116, -7.8779, -8.6399, -8.6601, -8.8194, -8.8522, -8.8617, -8.8632, -8.892, -8.9269, -8.9278, -8.9347, -8.9795, -9.0181, -9.0253, -9.039, -9.04, -9.068, -9.106, -9.1317, -9.1467, -9.1475, -7.9955, -7.1632, -8.5462, -7.9316, -8.1735, -8.3108, -8.1478, -5.9241, -6.2659, -7.245, -5.0796, -3.6896, -6.5347, -6.5659, -7.366, -6.4904, -4.8069, -5.7272, -4.8488, -5.5869, -5.8855, -4.8304, -5.0451, -6.1265, -4.5946, -5.0229, -5.7932, -5.6751, -4.651, -4.9813, -5.0942, -5.6803, -5.5011, -5.2103, -5.1059, -5.2248, -5.5157, -5.4793, -5.2029, -5.4527, -5.5984, -5.4742, -4.7907, -5.5783, -5.479, -5.6351, -5.5991, -3.8473, -6.4132, -7.2867, -7.5366, -7.6337, -7.8243, -8.0605, -8.2043, -6.7306, -8.2283, -8.2487, -7.4631, -8.3461, -8.4642, -7.1875, -8.5344, -8.5409, -8.6069, -8.6216, -8.643, -8.6468, -7.5978, -8.732, -8.7375, -8.759, -8.7783, -6.4754, -8.8039, -6.9678, -8.8107, -4.89, -6.0137, -6.913, -7.4003, -6.3564, -7.0921, -4.709, -7.186, -7.3949, -5.5968, -7.3442, -5.7538, -6.291, -7.0174, -6.7312, -6.934, -5.6002, -5.8761, -6.0806, -5.3822, -5.1644, -6.0741, -5.8284, -5.2015, -6.4252, -6.0438, -5.7262, -5.289, -4.6408, -5.9523, -6.0257, -5.5585, -5.5995, -5.7445, -4.9708, -4.5813, -5.2766, -5.1137, -5.469, -5.4461, -5.9003, -5.7464, -5.5204, -5.0333, -5.6597, -5.76, -5.8181, -5.7603, -5.8203, -6.5633, -6.735, -6.8344, -7.1967, -7.2092, -7.214, -7.2704, -6.3796, -7.3885, -5.7598, -7.4878, -6.7593, -7.5692, -7.6834, -7.7047, -7.7289, -7.7307, -7.7615, -7.8341, -7.843, -7.8605, -7.9499, -7.9727, -8.0053, -8.0104, -8.028, -8.0509, -8.0679, -8.0736, -8.0922, -5.7826, -6.402, -5.5408, -4.8533, -5.7508, -5.1388, -6.6391, -7.1798, -5.4187, -5.312, -6.6241, -6.9347, -6.2904, -5.2044, -5.9252, -6.2475, -5.5208, -5.0871, -6.5687, -5.0787, -5.0544, -5.5113, -4.7263, -6.1188, -4.6879, -5.8782, -5.7582, -5.4466, -5.5083, -5.6656, -4.94, -5.4686, -4.2074, -5.226, -5.8836, -4.4086, -5.2277, -5.907, -5.6259, -5.4066, -4.7098, -4.8581, -5.2543, -5.39, -5.552, -5.5954, -5.6558, -5.2916, -5.4777, -6.3267, -6.9031, -5.8484, -6.9263, -6.9405, -4.0548, -7.2169, -7.3321, -7.6077, -7.6523, -7.7694, -7.9166, -8.0289, -8.0745, -8.0899, -8.105, -8.1154, -8.176, -8.2216, -8.2458, -8.2548, -8.2878, -8.2948, -8.3169, -8.3642, -8.3705, -8.3805, -8.394, -5.0303, -6.7194, -7.7216, -6.7065, -7.74, -7.3128, -6.8855, -6.58, -5.7012, -4.6869, -7.0811, -5.6718, -6.4927, -7.1895, -6.2623, -7.2507, -5.6848, -5.4429, -5.7811, -5.9782, -5.8612, -5.9754, -4.9433, -5.8567, -5.8541, -2.8061, -5.4868, -5.5281, -6.0505, -5.5115, -5.1966, -4.6277, -5.6068, -5.5854, -4.9922, -4.9994, -5.3379, -5.823, -4.8026, -5.6707, -5.244, -5.7487, -5.4606, -5.3961, -5.656, -5.714, -5.7418, -5.2956, -5.6066, -5.8751, -6.1215, -6.1453, -6.2182, -6.3893, -5.1997, -6.734, -5.8754, -6.8197, -6.8561, -7.0935, -7.4401, -7.5426, -7.5687, -7.608, -7.6164, -7.6509, -7.7774, -7.7807, -7.7827, -7.7983, -7.8388, -7.8421, -7.9386, -7.9707, -7.9954, -8.0338, -8.0666, -6.6991, -4.0646, -5.1804, -5.8318, -6.7697, -4.3971, -5.8206, -6.5913, -5.3154, -5.7156, -7.2369, -5.7517, -4.0255, -5.8474, -4.3071, -6.7538, -6.5261, -6.3899, -5.8874, -4.9593, -6.3213, -5.3862, -5.5824, -6.0122, -5.6339, -5.6455, -4.7866, -4.6774, -6.1933, -4.6011, -5.5549, -5.3846, -5.3783, -5.698, -5.106, -5.4547, -5.5168, -5.704, -5.5959, -5.7754, -5.7503, -5.3981, -5.7704, -5.9495, -6.2174, -6.9102, -7.106, -7.1505, -7.2558, -7.4962, -7.5301, -7.6222, -7.7303, -7.9966, -8.1383, -8.1416, -8.1925, -8.2511, -8.2566, -8.2723, -8.3495, -4.5199, -8.4416, -8.4856, -8.4917, -8.506, -8.5079, -8.5361, -8.5436, -8.5634, -8.6026, -5.064, -6.3552, -4.1688, -6.6346, -6.9009, -5.7492, -6.1956, -6.2423, -4.5526, -5.8007, -5.7809, -5.938, -5.6509, -4.8683, -5.2828, -6.9304, -5.7376, -6.7443, -6.8102, -6.3694, -6.0575, -5.6179, -4.4572, -5.1484, -5.0403, -5.6293, -5.7042, -5.622, -3.6252, -5.0824, -5.2484, -5.3107, -5.0127, -5.1683, -5.5742, -5.3027, -5.5562, -5.5233, -5.4564, -5.5952, -5.6191, -5.6684, -6.5464, -7.0882, -7.5264, -7.5966, -7.6691, -7.7053, -6.0422, -7.7435, -7.8267, -7.9172, -7.9558, -7.9598, -8.0023, -6.6906, -8.0324, -8.0904, -8.1627, -8.1753, -8.1934, -8.2034, -8.2049, -8.2169, -7.1143, -8.283, -8.2931, -8.1513, -8.3287, -8.3848, -8.4083, -8.4175, -5.3103, -7.2984, -7.2424, -7.4515, -7.7072, -6.2054, -5.9045, -4.2539, -5.8123, -6.3848, -7.5889, -5.2007, -4.4629, -7.0258, -7.0577, -4.9503, -6.2705, -6.5566, -6.7852, -6.1916, -5.7189, -5.7854, -6.2317, -5.5566, -6.207, -5.328, -5.1225, -5.8909, -5.4592, -5.9865, -5.7094, -5.7838, -4.6134, -4.4394, -4.0226, -5.0145, -5.907, -4.8333, -4.8658, -5.3642, -5.1202, -5.5354, -5.4481, -5.6123, -5.654, -5.6469, -5.3862, -5.3377, -5.4763, -5.4413, -5.5019, -5.6132, -5.6685, -1.1802, -2.3517, -8.4875, -8.5261, -8.5386, -8.5791, -8.0881, -8.7081, -8.737, -8.7567, -8.7894, -7.9528, -8.9021, -8.9239, -8.9825, -9.0169, -9.0268, -9.0257, -9.0426, -9.0541, -9.0988, -9.1083, -9.1364, -9.1724, -9.1736, -9.1743, -9.1646, -9.1834, -9.1931, -9.196, -7.2254, -8.4035, -8.617, -8.5886, -3.4317, -8.5429, -4.5232, -4.9264, -4.2308, -4.809, -4.6899, -5.3952, -5.1612, -5.0702, -4.936, -5.0986, -7.5349, -5.4163, -5.4651, -5.1805, -5.5292, -5.5568, -5.7955, -5.3935, -5.0503, -5.3522, -5.5602, -5.5372, -5.4697, -5.5205, -5.4945, -5.6398, -5.7434, -5.247, -5.5445, -5.449, -5.5556, -5.9676, -6.2826, -6.5987, -6.8538, -6.8648, -6.8648, -6.8748, -6.8748, -6.8748, -6.8748, -6.8748, -7.035, -7.0913, -7.1427, -7.1654, -7.1735, -7.1907, -7.2802, -7.2939, -7.3172, -6.577, -7.397, -7.4695, -7.5089, -7.5108, -7.5343, -7.5443, -7.5453, -7.5668, -7.5668, -6.0265, -5.5779, -6.6001, -7.2603, -6.6171, -6.6901, -4.2814, -5.6276, -5.8335, -5.7655, -3.7733, -5.009, -4.8907, -5.7907, -5.0611, -5.0972, -4.8205, -5.7461, -5.2818, -5.894, -5.2574, -5.7832, -5.7376, -5.3376, -4.6348, -6.5046, -6.3861, -3.8339, -5.5493, -5.8908, -4.5884, -4.9503, -5.5685, -6.0713, -5.7363, -5.6737, -5.2906, -5.0413, -4.9898, -5.2334, -5.026, -5.5556, -5.6324, -5.4479, -5.5585, -5.7071], \"loglift\": [30.0, 29.0, 28.0, 27.0, 26.0, 25.0, 24.0, 23.0, 22.0, 21.0, 20.0, 19.0, 18.0, 17.0, 16.0, 15.0, 14.0, 13.0, 12.0, 11.0, 10.0, 9.0, 8.0, 7.0, 6.0, 5.0, 4.0, 3.0, 2.0, 1.0, 1.4773, 1.4771, 1.4769, 1.4767, 1.4767, 1.4761, 1.4757, 1.4754, 1.4748, 1.4738, 1.4736, 1.473, 1.4726, 1.471, 1.47, 1.4697, 1.4696, 1.4688, 1.4686, 1.4685, 1.4678, 1.4678, 1.4675, 1.4674, 1.4651, 1.4646, 1.4645, 1.464, 1.4635, 1.4615, 1.4588, 1.4585, 1.4611, 1.4551, 1.4447, 1.4409, 1.4326, 1.4258, 1.4322, 1.4583, 1.4602, 1.3633, 1.382, 1.3249, 1.4072, 1.3932, 1.3375, 1.4414, 1.3523, 1.4082, 1.4029, 1.3651, 1.2147, 1.2071, 1.2007, 1.1411, 1.1793, 1.1654, 0.9173, 0.6748, 0.9299, 0.9486, 1.1067, 1.0901, 0.7393, 0.6193, 0.6432, 1.7871, 1.7833, 1.7812, 1.7797, 1.7794, 1.7793, 1.7786, 1.7785, 1.7768, 1.7764, 1.7763, 1.7759, 1.7722, 1.7714, 1.7712, 1.7711, 1.7704, 1.7695, 1.7694, 1.7693, 1.7677, 1.7669, 1.7667, 1.7663, 1.7662, 1.7654, 1.7641, 1.7633, 1.7628, 1.7628, 1.7564, 1.7337, 1.7552, 1.739, 1.7304, 1.7335, 1.7231, 1.6046, 1.6129, 1.6719, 1.5201, 1.4153, 1.6096, 1.5836, 1.6468, 1.5688, 1.3952, 1.4742, 1.3794, 1.4568, 1.4738, 1.3512, 1.367, 1.4894, 1.2846, 1.3265, 1.4091, 1.3694, 1.2096, 1.2356, 1.2482, 1.3413, 1.2817, 1.2261, 1.1845, 1.1886, 1.2525, 1.1995, 1.1168, 1.1502, 1.1992, 1.1193, 0.6527, 1.149, 1.0364, 1.0052, 0.861, 2.3029, 2.2995, 2.2943, 2.2917, 2.2905, 2.2879, 2.2839, 2.2809, 2.2806, 2.2804, 2.2799, 2.2785, 2.2776, 2.2744, 2.2738, 2.2723, 2.2721, 2.2701, 2.2696, 2.2689, 2.2687, 2.2685, 2.2657, 2.2655, 2.2647, 2.264, 2.2635, 2.263, 2.2629, 2.2627, 2.2521, 2.2517, 2.2539, 2.2576, 2.2422, 2.2436, 2.1738, 2.2325, 2.2366, 2.1583, 2.2273, 2.1507, 2.1586, 2.1961, 2.1759, 2.1868, 2.0655, 2.0793, 2.0854, 1.9914, 1.9567, 2.0679, 2.0263, 1.9226, 2.1089, 2.0389, 1.9781, 1.8498, 1.6925, 1.9151, 1.9153, 1.7615, 1.6972, 1.758, 1.42, 1.1606, 1.509, 1.2239, 1.423, 1.2684, 1.7496, 1.5644, 1.2247, 0.3347, 1.2429, 1.1019, 1.2569, 0.1592, 0.6235, 2.4236, 2.4226, 2.422, 2.4192, 2.4191, 2.419, 2.4185, 2.4174, 2.4172, 2.4162, 2.4161, 2.4156, 2.415, 2.4134, 2.4131, 2.4127, 2.4127, 2.4122, 2.411, 2.4108, 2.4105, 2.4089, 2.4084, 2.4077, 2.4076, 2.4073, 2.4067, 2.4064, 2.4063, 2.4059, 2.3949, 2.3943, 2.3843, 2.3647, 2.3816, 2.3458, 2.3782, 2.3902, 2.3237, 2.3167, 2.3617, 2.3702, 2.3321, 2.2586, 2.3018, 2.3167, 2.249, 2.1997, 2.3259, 2.1742, 2.1482, 2.2038, 2.1018, 2.269, 2.073, 2.2354, 2.2138, 2.1598, 2.1685, 2.1595, 1.9578, 2.0924, 1.6984, 1.9261, 2.1698, 1.5379, 1.8877, 2.163, 1.9761, 1.8041, 1.2543, 1.0613, 1.2058, 1.3775, 1.3008, 1.4248, 1.0699, 2.4711, 2.4708, 2.4684, 2.4653, 2.4652, 2.4651, 2.465, 2.4628, 2.4626, 2.4614, 2.4579, 2.4572, 2.4553, 2.4526, 2.4503, 2.4493, 2.4489, 2.4486, 2.4483, 2.4468, 2.4456, 2.445, 2.4447, 2.4438, 2.4436, 2.443, 2.4416, 2.4414, 2.4411, 2.4407, 2.4218, 2.4352, 2.4393, 2.4226, 2.4282, 2.4105, 2.3912, 2.3763, 2.332, 2.2745, 2.3923, 2.3111, 2.3558, 2.3915, 2.3304, 2.3948, 2.2704, 2.242, 2.2308, 2.2243, 2.192, 2.189, 2.0062, 2.1332, 2.1219, 1.4637, 2.0452, 2.0118, 2.1341, 1.9416, 1.7871, 1.5491, 1.8769, 1.8542, 1.5232, 1.3213, 1.5311, 1.8798, 0.6408, 1.6851, 1.0894, 1.754, 0.9302, 0.5097, 1.2059, 1.3609, 1.4478, 2.5479, 2.5474, 2.5467, 2.5459, 2.5458, 2.5455, 2.5448, 2.5445, 2.5429, 2.5429, 2.5422, 2.542, 2.54, 2.5361, 2.5347, 2.5343, 2.5337, 2.5336, 2.533, 2.5308, 2.5308, 2.5307, 2.5304, 2.5297, 2.5296, 2.5276, 2.5269, 2.5263, 2.5254, 2.5246, 2.5122, 2.4805, 2.4897, 2.4941, 2.5073, 2.4562, 2.4834, 2.4945, 2.4536, 2.4521, 2.5134, 2.4449, 2.3234, 2.4218, 2.3201, 2.4789, 2.4506, 2.4335, 2.359, 2.1662, 2.4026, 2.1621, 2.1846, 2.3052, 2.1869, 2.1204, 1.7364, 1.4994, 2.3245, 1.3184, 1.9032, 1.6131, 1.6054, 1.9433, 0.9587, 1.4948, 0.8739, 1.5312, 0.6719, 1.899, -0.3457, 2.5794, 2.5791, 2.5785, 2.5775, 2.5735, 2.5718, 2.5713, 2.5702, 2.5668, 2.5666, 2.5652, 2.5633, 2.5577, 2.5542, 2.5541, 2.5526, 2.5509, 2.5508, 2.5503, 2.5478, 2.5457, 2.5446, 2.5429, 2.5427, 2.5421, 2.5421, 2.541, 2.5407, 2.5399, 2.5382, 2.5325, 2.5225, 2.4797, 2.5019, 2.4931, 2.4423, 2.4535, 2.4399, 2.3491, 2.4137, 2.4108, 2.4112, 2.2964, 2.1876, 2.2201, 2.3989, 2.2276, 2.3691, 2.3768, 2.256, 2.1648, 2.0351, 1.6793, 1.8719, 1.7796, 1.8909, 1.8483, 1.7928, 0.6446, 1.3613, 1.4461, 1.4232, 1.052, 1.1743, 1.6087, 1.0684, 1.1206, 0.955, 0.4631, 1.1733, 1.0642, -0.0068, 2.6787, 2.6736, 2.6683, 2.6671, 2.6658, 2.6651, 2.6646, 2.6643, 2.6626, 2.6605, 2.6595, 2.6594, 2.6583, 2.6575, 2.6575, 2.6559, 2.6538, 2.6534, 2.6528, 2.6525, 2.6524, 2.652, 2.6519, 2.6498, 2.6495, 2.649, 2.6482, 2.6461, 2.6452, 2.6449, 2.6218, 2.6417, 2.6407, 2.6339, 2.6385, 2.5889, 2.5583, 2.4887, 2.5395, 2.5642, 2.6221, 2.4798, 2.4317, 2.5909, 2.5913, 2.4348, 2.5203, 2.5336, 2.5378, 2.4656, 2.3843, 2.3859, 2.4387, 2.3293, 2.4332, 2.2894, 2.1876, 2.338, 2.2131, 2.3356, 2.2568, 2.1892, 1.7576, 1.6404, 1.4207, 1.7194, 2.1843, 1.4854, 1.4768, 1.8254, 1.6055, 1.8876, 1.8127, 1.8486, 1.8866, 1.7643, 1.2907, 1.1794, 1.4574, 1.3038, 1.0475, 1.48, 1.7384, 2.8214, 2.8213, 2.7727, 2.7707, 2.7701, 2.7679, 2.7665, 2.7608, 2.7591, 2.7581, 2.7556, 2.7515, 2.7485, 2.747, 2.7423, 2.74, 2.7392, 2.7392, 2.738, 2.737, 2.7333, 2.7325, 2.73, 2.7269, 2.7268, 2.7266, 2.7265, 2.7259, 2.725, 2.7248, 2.6542, 2.6832, 2.6696, 2.655, 1.6732, 2.6094, 1.6584, 1.6748, 1.2126, 1.3931, 1.1708, 1.421, 1.3284, 1.2792, 1.1287, 1.1295, 2.1361, 1.1834, 1.1752, 1.0365, 1.1933, 1.1706, 1.2771, 1.02, 0.8289, 0.9904, 1.047, 1.0125, 0.9667, 0.9966, 0.9176, 0.9537, 1.0241, 0.4948, 0.7751, 0.5151, 0.3638, 2.9514, 2.9497, 2.9473, 2.9448, 2.9447, 2.9447, 2.9446, 2.9446, 2.9446, 2.9446, 2.9446, 2.9426, 2.9418, 2.9411, 2.9408, 2.9406, 2.9404, 2.9389, 2.9387, 2.9383, 2.938, 2.9368, 2.9354, 2.9346, 2.9346, 2.934, 2.9338, 2.9338, 2.9333, 2.9333, 2.9303, 2.9204, 2.9073, 2.926, 2.9028, 2.9016, 2.7803, 2.8442, 2.8515, 2.8148, 2.6427, 2.7477, 2.7225, 2.7673, 2.6405, 2.6324, 2.5567, 2.6552, 2.5443, 2.6455, 2.4343, 2.5982, 2.5781, 2.408, 2.0797, 2.8002, 2.7452, 1.5707, 2.3635, 2.486, 1.7492, 1.9024, 2.2515, 2.5519, 2.2738, 2.2131, 1.7925, 1.437, 1.3289, 1.6479, 0.8935, 1.9737, 1.8573, 0.8426, 1.4644, 2.0623]}, \"token.table\": {\"Topic\": [1, 10, 1, 3, 4, 5, 6, 7, 3, 4, 5, 10, 3, 4, 6, 7, 3, 5, 6, 2, 3, 5, 8, 9, 10, 3, 4, 7, 1, 2, 5, 6, 7, 10, 6, 3, 4, 5, 6, 6, 6, 3, 10, 1, 3, 4, 5, 6, 7, 9, 10, 8, 1, 2, 3, 4, 6, 7, 8, 9, 8, 1, 4, 5, 6, 8, 9, 10, 5, 8, 8, 8, 6, 7, 9, 1, 3, 4, 5, 6, 7, 8, 9, 10, 7, 8, 9, 8, 9, 5, 5, 2, 3, 4, 6, 8, 9, 10, 3, 5, 9, 1, 3, 5, 6, 7, 5, 3, 5, 6, 7, 9, 10, 9, 1, 3, 4, 6, 9, 2, 2, 6, 9, 1, 2, 3, 4, 5, 6, 7, 8, 9, 5, 6, 10, 1, 4, 5, 7, 1, 5, 8, 9, 10, 2, 3, 5, 6, 7, 10, 1, 2, 4, 5, 6, 7, 9, 4, 9, 10, 2, 5, 6, 7, 9, 4, 7, 2, 1, 2, 3, 4, 5, 7, 9, 6, 1, 3, 9, 1, 1, 5, 8, 3, 6, 9, 10, 1, 1, 7, 2, 4, 5, 6, 1, 7, 10, 7, 1, 1, 3, 5, 7, 9, 10, 3, 5, 8, 1, 1, 2, 3, 4, 5, 6, 7, 8, 9, 10, 4, 7, 1, 2, 3, 4, 7, 8, 9, 10, 1, 3, 4, 5, 7, 9, 8, 5, 6, 10, 6, 8, 2, 4, 5, 6, 8, 10, 10, 1, 5, 6, 8, 10, 1, 4, 5, 6, 7, 9, 5, 6, 7, 1, 2, 3, 4, 5, 6, 7, 1, 2, 4, 6, 8, 10, 3, 7, 3, 9, 3, 4, 9, 10, 1, 2, 4, 7, 1, 2, 7, 1, 2, 5, 1, 7, 1, 2, 3, 8, 10, 10, 1, 4, 6, 7, 10, 1, 2, 3, 4, 5, 9, 2, 5, 6, 1, 2, 7, 1, 2, 3, 4, 5, 7, 8, 3, 4, 5, 9, 2, 3, 4, 5, 10, 2, 1, 2, 4, 8, 10, 1, 3, 6, 7, 10, 4, 9, 10, 3, 1, 1, 5, 6, 1, 9, 3, 2, 4, 7, 9, 10, 2, 1, 2, 4, 5, 6, 7, 8, 9, 1, 3, 5, 10, 9, 2, 2, 3, 5, 6, 8, 9, 2, 8, 1, 6, 7, 8, 2, 8, 9, 10, 5, 4, 9, 4, 5, 1, 2, 3, 4, 5, 6, 7, 9, 2, 8, 9, 1, 4, 7, 1, 2, 3, 4, 7, 2, 5, 6, 8, 10, 1, 4, 7, 10, 1, 4, 9, 1, 3, 4, 5, 6, 7, 10, 1, 1, 2, 3, 6, 7, 8, 9, 1, 3, 5, 4, 5, 5, 7, 2, 10, 7, 7, 3, 1, 3, 4, 6, 3, 9, 10, 2, 10, 8, 2, 9, 2, 4, 6, 10, 3, 5, 7, 10, 2, 3, 4, 7, 9, 2, 9, 2, 4, 5, 10, 4, 1, 5, 6, 1, 4, 7, 8, 9, 4, 5, 1, 4, 7, 9, 1, 2, 3, 4, 5, 7, 8, 10, 6, 7, 9, 1, 2, 3, 8, 9, 3, 2, 1, 2, 3, 4, 6, 8, 9, 3, 1, 3, 7, 9, 7, 2, 4, 5, 1, 2, 3, 4, 6, 7, 9, 1, 1, 7, 2, 1, 7, 3, 6, 4, 1, 2, 3, 7, 8, 9, 1, 3, 5, 8, 10, 1, 2, 6, 10, 6, 9, 1, 2, 3, 5, 8, 9, 9, 3, 1, 2, 3, 4, 5, 7, 8, 9, 8, 9, 2, 8, 9, 10, 7, 1, 3, 4, 5, 7, 10, 1, 2, 4, 5, 8, 9, 10, 2, 10, 1, 2, 4, 5, 6, 7, 8, 10, 1, 6, 8, 6, 1, 3, 4, 8, 9, 1, 2, 3, 5, 6, 5, 9, 6, 2, 4, 5, 6, 7, 9, 10, 2, 6, 1, 3, 4, 5, 6, 9, 10, 4, 1, 6, 7, 9, 1, 3, 5, 6, 9, 9, 7, 1, 3, 9, 1, 2, 5, 6, 8, 9, 10, 5, 6, 7, 8, 1, 1, 2, 3, 4, 6, 9, 8, 2, 9, 4, 1, 2, 4, 8, 1, 2, 4, 7, 9, 3, 4, 6, 7, 8, 9, 7, 9, 3, 8, 10, 1, 2, 9, 4, 9, 3, 3, 1, 2, 4, 7, 9, 3, 4, 6, 7, 8, 9, 10, 1, 4, 5, 10, 7, 7, 7, 1, 3, 4, 5, 6, 7, 8, 10, 1, 4, 6, 1, 2, 5, 7, 9, 5, 6, 5, 5, 1, 2, 5, 9, 2, 3, 3, 4, 4, 5, 1, 2, 3, 5, 6, 7, 9, 2, 2, 9, 2, 4, 5, 10, 1, 4, 10, 10, 10, 5, 4, 1, 2, 3, 4, 5, 8, 9, 10, 1, 2, 3, 4, 5, 8, 9, 10, 1, 2, 3, 5, 7, 8, 9, 5, 1, 2, 3, 4, 7, 8, 9, 2, 6, 7, 8, 9, 10, 2, 2, 1, 2, 5, 8, 2, 10, 8, 1, 3, 5, 6, 1, 4, 9, 1, 4, 6, 7, 10, 3, 1, 6, 2, 3, 4, 6, 7, 10, 3, 10, 4, 3, 5, 10, 10, 10, 5, 6, 5, 10, 5, 10, 2, 1, 3, 5, 3, 5, 4, 5, 10, 4, 8, 10, 4, 9, 3, 4, 5, 6, 7, 3, 5, 10, 3, 5, 1, 3, 4, 7, 3, 4, 6, 7, 6, 6, 5, 6, 7, 6, 6, 6, 7, 1, 2, 3, 4, 6, 7, 8, 9, 10, 6, 1, 2, 4, 9, 9, 1, 2, 3, 5, 10, 1, 3, 5, 10, 1, 2, 3, 8, 9, 1, 2, 3, 5, 8, 10, 2, 2, 4, 8, 10, 5, 6, 7, 10, 2, 3, 5, 6, 9, 6, 4, 9, 2, 3, 1, 2, 5, 3, 3, 4, 5, 9, 10, 3, 5, 1, 3, 4, 5, 7, 1, 3, 4, 5, 6, 7, 10, 1, 5, 6, 7, 8, 3, 5, 9, 1, 3, 4, 10, 4, 7, 10, 1, 2, 4, 5, 9, 1, 2, 3, 5, 7, 8, 7, 1, 2, 4, 8, 8, 1, 7, 2, 5, 7, 8, 9, 10, 7, 9, 8, 9, 4, 5, 1, 3, 4, 5, 6, 7, 8, 10, 5, 1, 2, 3, 4, 5, 7, 9, 1, 2, 5, 8, 9, 1, 2, 4, 10, 2, 4, 1, 3, 7, 8, 1, 2, 3, 4, 7, 9, 1, 2, 5, 7, 8, 9, 5, 1, 2, 4, 5, 6, 7, 8, 9, 10, 3, 4, 7, 8, 2, 8, 10, 5, 10, 8, 2, 1, 5, 9, 8, 1, 2, 3, 6, 9, 4, 2, 4, 5, 6, 7, 9, 10, 10, 1, 2, 3, 6, 8, 9, 5, 8, 5, 6, 8, 6, 7, 9, 6, 1, 2, 5, 9, 6, 7, 9, 1, 3, 4, 1, 2, 3, 4, 9, 1, 2, 3, 4, 6, 7, 8, 9, 1, 2, 4, 6, 7, 9, 10, 9, 1, 2, 5, 6, 8, 2, 3, 8, 3, 2, 5, 6, 8, 1, 3, 4, 5, 7, 7, 7, 7, 7, 7, 9, 7, 8, 1, 2, 3, 6, 7, 9, 1, 2, 3, 4, 6, 7, 8, 9, 10, 3, 1, 2, 3, 4, 5, 6, 8, 1, 1, 3, 1, 2, 3, 4, 6, 7, 9, 6, 7, 7, 10, 3, 3, 5, 6, 1, 3, 4, 5, 6, 7, 10, 1, 2, 3, 4, 6, 8, 9, 1, 2, 3, 4, 6, 7, 8, 9, 1, 3, 4, 6, 5, 1, 10, 1, 2, 3, 4, 5, 6, 7, 8, 9, 10, 9, 1, 1, 3, 7, 9, 1, 2, 3, 4, 5, 6, 7, 10, 5, 4, 8, 10, 8, 1, 2, 3, 4, 9, 5, 3, 4, 1, 2, 4, 5, 8, 9, 10, 1, 4, 10, 8, 3, 10, 8, 3, 5, 6, 9, 2, 5, 10, 1, 2, 3, 4, 5, 6, 7, 9, 5, 1, 2, 1, 2, 3, 4, 5, 7, 9, 5, 8, 9, 2, 5, 1, 2, 3, 4, 6, 7, 8, 1, 2, 7, 8, 1, 3, 6, 7, 8, 9, 1, 7, 1, 6, 1, 4, 8, 8, 4, 1, 2, 3, 4, 5, 6, 8, 2, 3, 4, 6, 7, 8, 9, 10, 10, 4, 1, 2, 4, 7, 9, 1, 3, 8, 1, 1, 2, 4, 5, 7, 1, 2, 3, 5, 1, 3, 4, 5, 4, 1, 3, 3, 5, 5, 2, 3, 4, 6, 7, 10, 1, 5, 6, 7, 8, 9, 1, 5, 8, 6, 10, 8, 9, 1, 2, 3, 4, 5, 6, 7, 8, 9, 10, 2, 3, 4, 5, 6, 7, 8, 9, 10, 6, 1, 8, 9, 1, 5, 7, 8, 8, 5, 8, 9, 2, 7, 8, 9, 2, 1, 2, 4, 8, 10, 1, 2, 4, 5, 7, 9, 1, 1, 2, 5, 7, 9, 6, 7, 7, 4, 1, 2, 3, 4, 5, 7, 10, 5, 6, 7, 10, 1, 3, 4, 6, 7, 8, 9, 9, 1, 3, 5, 6, 1, 2, 5, 6, 8, 1, 5, 6, 8, 10, 1, 2, 3, 6, 8, 9, 3, 1, 3, 4, 5, 6, 9, 10, 8, 5, 9, 1, 1, 3, 4, 7, 10, 3, 4, 10, 6, 7, 1, 2, 3, 6, 8, 10, 1, 2, 3, 4, 6, 5, 3, 1, 2, 5, 7, 8, 9, 10, 5, 1, 5, 6, 5, 1, 1, 3, 4, 6, 7, 8, 9, 10, 3, 4, 8, 10, 1, 2, 3, 4, 5, 6, 7, 1, 3, 6, 7, 6, 10, 1, 10, 7, 7, 10, 6, 4, 1, 3, 5, 6, 7, 9, 10, 1, 2, 3, 7, 2, 4, 5, 7, 8, 9, 10, 1, 2, 4, 7, 8, 9, 10, 1, 2, 3, 6, 7, 3, 4, 5, 6, 7, 1, 2, 4, 5, 6, 8, 9, 8, 1, 4, 5, 7, 1, 2, 3, 5, 6, 7, 8, 6, 3, 2, 3, 5, 9, 4, 2, 1, 2, 5, 6, 7, 1, 5, 5, 7, 4, 9, 6, 8, 4, 8, 1, 2, 9, 1, 2, 4, 5, 8, 2, 6, 8, 9, 1, 2, 5, 6, 2, 3, 4, 5, 6, 10, 1, 2, 8, 10, 1, 4, 2, 5, 1, 3, 4, 6, 7, 9, 10, 1, 2, 3, 5, 8, 9, 2, 5, 6, 8, 9, 1, 3, 4, 5, 6, 7, 10, 1, 2, 4, 5, 7, 8, 4, 1, 3, 4, 5, 7, 8, 10, 2, 3, 9, 2, 6, 3, 5, 1, 2, 3, 4, 6, 7, 8, 9, 10, 2, 4, 3, 6, 7, 6, 1, 1, 4, 6, 7, 8, 1, 5, 8, 1, 2, 3, 4, 5, 7, 8, 9, 1, 4, 6, 9, 6, 9, 6, 1, 2, 3, 4, 6, 7, 8, 9, 10, 1, 2, 3, 4, 5, 6, 9, 1, 2, 5, 6, 7, 8, 9, 1, 2, 3, 4, 5, 6, 7, 1, 3, 4, 7, 9, 4, 4, 1, 2, 4, 1, 2, 5, 8, 10, 8, 5, 1, 2, 3, 5, 6, 7, 9, 5, 6, 7, 1, 3, 4, 6, 7, 8, 10, 6, 7, 8, 1, 2, 3, 5, 6, 9, 8, 1, 2, 9, 1, 2, 9, 7, 1, 2, 3, 4, 5, 7, 9, 2, 10, 1, 4, 7, 1, 2, 3, 4, 5, 10, 6, 5, 1, 2, 9, 10, 6, 1, 5, 3, 4, 2, 4, 1, 5, 8, 10, 2, 3, 4, 5, 6, 7, 8, 9, 10, 3, 10, 10, 10, 10, 10, 10, 3, 5, 5, 1, 2, 5, 7, 9, 1, 2, 3, 5, 6, 7, 9, 10, 7, 2, 2, 5, 6, 9, 10, 1, 6, 7, 9, 1, 2, 3, 5, 6, 7, 1, 2, 3, 6, 7, 8, 9, 10, 2, 3, 5, 6, 2, 1, 5, 6, 8, 9, 2, 10, 1, 2, 7, 9, 1, 3, 7, 1, 3, 8, 9, 1, 2, 4, 5, 6, 7, 9, 2, 6, 7, 8, 9, 7, 6, 6, 1, 2, 4, 5, 6, 7, 9, 10, 1, 2, 3, 4, 8, 9, 10, 6, 9, 1, 3, 4, 5, 6, 7, 1, 2, 6, 7, 1, 2, 9, 1, 5, 8, 9, 8, 8, 8, 1, 2, 3, 5, 6, 7, 8, 9, 9, 3, 8, 1, 9, 10, 1, 2, 5, 7, 10, 1, 2, 3, 4, 5, 7, 9, 10, 1, 3, 4, 5, 8, 2, 4, 6, 7, 8, 9, 9, 1, 2, 3, 4, 7, 8, 9, 10, 1, 2, 3, 4, 5, 7, 9, 6], \"Freq\": [0.2758190352011435, 0.7230510301318112, 0.13021549176818276, 0.3010006342380104, 0.1537720631433314, 0.2820245072969184, 0.0948806347054598, 0.037952253882183914, 0.7216996952234799, 0.24461821248627424, 0.0319067233677749, 0.9703956528065877, 0.10282271892827348, 0.09260854155129268, 0.011576067693911585, 0.7926201644537109, 0.9791423061254311, 0.04838913823747621, 0.9435881956307861, 0.019427266400483464, 0.757663389618855, 0.18367597324093457, 0.007064460509266714, 0.012362805891216749, 0.019427266400483464, 0.030011872334623883, 0.017734288197732297, 0.9521948586167033, 0.13735295654579752, 0.12280970232330131, 0.0032318342716658242, 0.6512146057406636, 0.059788934025817746, 0.02262283990166077, 0.9951590493571496, 0.04251350785171973, 0.010628376962929932, 0.9087262303305091, 0.03719931937025476, 0.9909107026561939, 0.9964048640592917, 0.9637797906650811, 0.026404925771646055, 0.43790381783653487, 0.1220656892219341, 0.0366744447438098, 0.01970567180264407, 0.08374910516123729, 0.21949928869056312, 0.04433776155594916, 0.036127064971514126, 0.9731038082703283, 0.04446004884908666, 0.05447357336464672, 0.06288493395771717, 0.007610278631825645, 0.10093632711684539, 0.2202975393423213, 0.3957344888549335, 0.11415417947738467, 0.9602718039095614, 0.3144574650000991, 0.015484647897732151, 0.02977816903410029, 0.18224239448869378, 0.4335701411365002, 0.002382253522728023, 0.02144028170455221, 0.032868182328672176, 0.9531772875314931, 0.9519983792059323, 0.9714625187983105, 0.9448254034379845, 0.04243227859751427, 0.011315274292670473, 0.021382141021420577, 0.007127380340473526, 0.03444900497895538, 0.29578628412965136, 0.5238624550248042, 0.011878967234122543, 0.035636901702367635, 0.015442657404359307, 0.053455352553551445, 0.06689265419120068, 0.06689265419120068, 0.8428474428091286, 0.104665997149363, 0.837327977194904, 0.998676455904081, 0.9704302632801702, 0.09809852367309109, 0.5798988677890322, 0.06084591974660081, 0.014901041570596116, 0.11051605831525452, 0.09685677020887475, 0.03725260392649029, 0.9462549815602999, 0.979553138307689, 0.9627206245697387, 0.2322052220023899, 0.008245924076789415, 0.3971237035381782, 0.3499570178189428, 0.012203967633648333, 0.9949136928356804, 0.07992388136796841, 0.6303673869183314, 0.03480556124088947, 0.18820784967295787, 0.028360086937021047, 0.03609465610166315, 0.943129509666852, 0.05025547383911899, 0.06503649555650694, 0.7715693336476505, 0.028083941263037086, 0.08572992596085005, 0.9661422613883031, 0.977966764223196, 0.9767177119245772, 0.9999701808254006, 0.2130431686365452, 0.11671671945104456, 0.04781166820886163, 0.06960816400996031, 0.007031127677773769, 0.0049217893744416385, 0.07523306615217933, 0.29319802416316615, 0.17226262810545734, 0.9229715341254835, 0.029773275294370436, 0.039697700392493915, 0.05005619709545998, 0.2741172698084713, 0.0007945428110390472, 0.674566846572151, 0.9900536594448349, 0.13474563041557025, 0.8218321855087581, 0.0429792097015181, 0.9901926034649806, 0.1978596714384019, 0.02046824187293813, 0.22173928695682973, 0.05117060468234532, 0.013645494581958753, 0.49464917859600477, 0.11797414333135445, 0.05603771808239336, 0.0014746767916419307, 0.26544182249554754, 0.5220355842412434, 0.02654418224955475, 0.011797414333135445, 0.979467876989146, 0.917769705930033, 0.9703956528065877, 0.05049116754588221, 0.016830389181960736, 0.7826130969611742, 0.1234228540010454, 0.022440518909280983, 0.764673031670647, 0.2348883527777548, 0.9795825479771864, 0.08134929722745744, 0.12858437303694886, 0.09272070436677946, 0.6053087492623715, 0.04898452306169481, 0.020118643400338938, 0.022742814278644018, 0.9858165284663213, 0.858352182966584, 0.13970441998994035, 0.001909734447812013, 0.9925902722547516, 0.02637484481529714, 0.08439950340895085, 0.8861947857939839, 0.013444822783148798, 0.0033612056957871995, 0.016806028478936, 0.9646660346909263, 0.9989403081433228, 0.990293605878433, 0.009490221763488437, 0.17193980776475754, 0.10562016762692247, 0.7123220607397097, 0.007368848904203894, 0.041158255510599887, 0.9137132723353175, 0.03292660440847991, 0.9651066765965451, 0.9887584357519552, 0.06211708985279208, 0.355196813794602, 0.09430503641287524, 0.029364442475865348, 0.04291726208011089, 0.41618450201370694, 0.05311406822776467, 0.021245627291105868, 0.9135619735175523, 0.9981693635415224, 0.05357245431265502, 0.15051308592603077, 0.02295962327685215, 0.04209264267422894, 0.056123523565638586, 0.08801188922793324, 0.15306415517901434, 0.05357245431265502, 0.0063776731324589305, 0.37500718018858514, 0.9884916771541288, 0.9827553761321219, 0.22622685535637585, 0.15009281749605705, 0.01033247656675755, 0.08809795809551176, 0.23220881547397232, 0.24797943760218122, 0.04404897904775588, 0.0016314436684354027, 0.07555363728524177, 0.31196340556486923, 0.0036558211589633113, 0.5508103879504722, 0.0329023904306698, 0.02437214105975541, 0.9756340375117707, 0.022588481875920323, 0.11294240937960161, 0.8583623112849722, 0.021321955571679062, 0.9594880007255578, 0.36092087340501067, 0.050035241229899816, 0.17945973187790734, 0.024016915790351912, 0.11541462310363557, 0.270190302641459, 0.9900018820800094, 0.05035832428292164, 0.011621151757597302, 0.09684293131331084, 0.7786171677590192, 0.06197947604051894, 0.011087356870707431, 0.045827741732257385, 0.5041051590548312, 0.3887966475994739, 0.031044599237980808, 0.018478928117845718, 0.06762140046895211, 0.9080588062973569, 0.024150500167482897, 0.06810667033166516, 0.1557687212536104, 0.41470893320766405, 0.11328634272989847, 0.06068911217673133, 0.16858086715758702, 0.018206733653019398, 0.08927900365117138, 0.045550512066924176, 0.06741475785904778, 0.06012667592833991, 0.7014778858306323, 0.03644040965353934, 0.9789106537327479, 0.01165369825872319, 0.9686092652024588, 0.017611077549135615, 0.9240895246862931, 0.019661479248644535, 0.019661479248644535, 0.019661479248644535, 0.020200250103220442, 0.02828035014450862, 0.08080100041288177, 0.868610754438479, 0.0741970036537762, 0.054411136012769215, 0.8705781762043074, 0.9911898563602116, 0.9320757070252288, 0.05482798276618993, 0.05403229768943127, 0.9431091960337094, 0.036777251433984436, 0.04290679333964851, 0.47565245187953203, 0.11155766268308612, 0.33344707966812553, 0.9735990772169136, 0.06169561347768714, 0.02742027265674984, 0.7986154411278391, 0.09254342021653071, 0.01713767041046865, 0.3012765465979285, 0.4298847166871628, 0.014885204871439156, 0.011908163897151325, 0.07621224894176848, 0.16552347817040342, 0.9777454266976408, 0.09219302872736855, 0.9056609292629734, 0.17938954052854914, 0.09541996836624954, 0.7213749608488464, 0.020887453727526154, 0.00817335145859719, 0.04540750810331773, 0.06175421102051211, 0.35871931401621004, 0.08082536442390556, 0.4231979755229212, 0.1789789304032245, 0.7758978496399245, 0.04547032285919757, 0.8999649513960959, 0.012806462926955592, 0.8644362475695024, 0.04802423597608347, 0.035217773049127876, 0.035217773049127876, 0.9661137611647381, 0.7420329184441615, 0.022021622095762215, 0.0004787309151252655, 0.1943647515408578, 0.04069212778564757, 0.060932236520916824, 0.04189091260813031, 0.011424794347671904, 0.21707109260576618, 0.6664463369475278, 0.9095659709989338, 0.011417146079484524, 0.07992002255639168, 0.9728799615696139, 0.9943242634493316, 0.977524598524903, 0.011199136153313128, 0.011199136153313128, 0.9989240713411941, 0.9577000368046958, 0.9794946604072315, 0.04655423475060693, 0.843944717145618, 0.05252272638530013, 0.028648759846527344, 0.027455061519588705, 0.9812810761828609, 0.08727844695200032, 0.13917373973427077, 0.07902237764573002, 0.06251023903318942, 0.20374799609402777, 0.21672181928959539, 0.027127084863459557, 0.18399240168259526, 0.03196559537805934, 0.049546672835991984, 0.07911484856069688, 0.8390968786740578, 0.9314115565507561, 0.9785575782968648, 0.03967444895654107, 0.22625158729270717, 0.45464773939387604, 0.018228800871924276, 0.2080227864207829, 0.05254183780731114, 0.023889394447513826, 0.9675204751243099, 0.022595638754677537, 0.054229533011226086, 0.009038255501871014, 0.908344677938037, 0.1313234128619534, 0.7403923449285993, 0.08830367416579625, 0.03849134514919324, 0.9608494939391369, 0.9489392363114186, 0.04518758268149613, 0.964505844807729, 0.03169737518147466, 0.06977827159133211, 0.07504455623973454, 0.01974856743150909, 0.7148981410206291, 0.03686399253881697, 0.03554742137671636, 0.04344684834932, 0.005266284648402424, 0.9655208748520997, 0.03532393444580853, 0.8953089238143033, 0.15543786797114417, 0.031087573594228833, 0.8082769134499497, 0.0174440227310116, 0.03753107920914617, 0.03594525896087239, 0.005814674243670533, 0.9028603280172064, 0.14342888066648715, 0.5387328688448542, 0.09911751915976755, 0.11427666914890847, 0.10378187300258014, 0.9809623971069599, 0.0015381613439544646, 0.009613508399715405, 0.007306266383783708, 0.05524879429529907, 0.8997660785234419, 0.042620498456373564, 0.23755825550540768, 0.22041487624213085, 0.010612568115361855, 0.012245270902340602, 0.007347162541404361, 0.19918974001140713, 0.3126625837064301, 0.999639013617983, 0.03379290645837448, 0.00795127210785282, 0.12125689964475549, 0.03776854251230089, 0.0854761751594178, 0.6082723162507406, 0.10336653740208665, 0.9638654360117744, 0.03579942145976971, 0.9942099239169918, 0.9620027894995034, 0.029449064984678672, 0.9934232612835671, 0.9550760186106483, 0.040125925715272216, 0.942959254308897, 0.9940152981956912, 0.970748116502348, 0.9801262499068037, 0.04384946640249786, 0.8895177470220994, 0.03132104743035561, 0.03132104743035561, 0.9396979263965763, 0.023298295695782886, 0.023298295695782886, 0.02126419148193214, 0.9728367602983953, 0.9604530238312765, 0.6827380495050578, 0.317203304839515, 0.14642443504140254, 0.08846476283751405, 0.024404072506900427, 0.7412737023971004, 0.864871743579434, 0.0655448086631364, 0.05755153931397342, 0.011190577088828165, 0.029786808973439806, 0.03574417076812777, 0.8062296295477708, 0.043687319827711714, 0.08340306512563146, 0.9594250282962646, 0.9084057740135971, 0.1232969438134417, 0.03202518021128355, 0.03202518021128355, 0.8118383183560381, 0.9833493518967367, 0.0716025287848034, 0.06317870186894417, 0.8634422588755704, 0.02875042143733136, 0.5351288119141998, 0.22814850559946823, 0.20681754775886754, 0.0009274329495913342, 0.9852820458473885, 0.006612631180183816, 0.05204331756279384, 0.7956622588927135, 0.09908246997531904, 0.05304415059284757, 0.05835301964243234, 0.04376476473182426, 0.06564714709773638, 0.11488250742103867, 0.012764723046782075, 0.16047080401668895, 0.06747067896156239, 0.4759418164585888, 0.9599850296860647, 0.013714071852658067, 0.020571107778987102, 0.5783515594998718, 0.0010674631958284824, 0.31895800291355053, 0.003842867504982537, 0.09756613609872329, 0.956477967932551, 0.9657873094731916, 0.06547337573945816, 0.005572202190592184, 0.03900541533414529, 0.025074909857664827, 0.008358303285888276, 0.6728434145140062, 0.182489621741894, 0.9998489070972462, 0.05905630643592987, 0.9280276725646123, 0.9806947040015539, 0.8824177107220352, 0.990495549578549, 0.0437802555038587, 0.9358029613949798, 0.016417595813947014, 0.1858204508358997, 0.25437556862001803, 0.004510205117376207, 0.032473476845108686, 0.08479185620667269, 0.3779551888361261, 0.06043674857284117, 0.9979795962835751, 0.9961882145559777, 0.9444697781282405, 0.9557428646708663, 0.9876190543168134, 0.981713171312189, 0.9647984775762539, 0.9781284869081351, 0.9865972693283496, 0.21564869975598835, 0.5078501862002974, 0.013509315297938945, 0.0165113853641476, 0.09156313701936396, 0.15460660840974572, 0.0545797963263816, 0.7324608667000411, 0.08732767412221057, 0.040389049281522385, 0.0851444822691553, 0.9918678520651103, 0.023510290262738324, 0.9639219007722712, 0.011755145131369162, 0.03052080660995514, 0.9461450049086094, 0.07445236482246118, 0.169443313044222, 0.020538583399299638, 0.025673229249124546, 0.706013804350925, 0.0025673229249124547, 0.9246583236889108, 0.9660509765514852, 0.07974722859208092, 0.2590137259230397, 0.0032953400244661534, 0.16608513723309412, 0.3901682588967926, 0.032953400244661535, 0.015817632117437537, 0.052725440391458454, 0.9531951774143717, 0.026850568377869626, 0.046004526862749036, 0.8664185892484403, 0.023002263431374518, 0.06900679029412356, 0.9804056684959133, 0.007132277865610034, 0.14912944628093708, 0.32354605953994614, 0.1264358348903597, 0.04409044498740749, 0.34883322651801807, 0.13151901154490717, 0.6787484651758147, 0.008277420307022129, 0.05150394857702658, 0.03770824806532303, 0.0836939164376682, 0.010116847041915936, 0.9825282853999296, 0.010679655276086192, 0.29832028106418107, 0.1903853050007588, 0.001499096889769754, 0.006745936003963894, 0.3920138366747907, 0.08769716805153062, 0.019488259567006803, 0.0037477422244243854, 0.04705438136493676, 0.9355518177263897, 0.013839523930863754, 0.9847254819398519, 0.01535819875687493, 0.13668796893618687, 0.7986263353574964, 0.03071639751374986, 0.018429838508249915, 0.10870892600706333, 0.07929356955809326, 0.04859928456786361, 0.65225355604238, 0.1099878545483229, 0.9537682447647999, 0.04421442194273907, 0.995782155870278, 0.1081132767973972, 0.077223769140998, 0.022309088862954976, 0.04805034524328764, 0.04118601020853226, 0.03946992644984342, 0.662408330853894, 0.9283306474816548, 0.06630933196297534, 0.04450680761102777, 0.017595714636917958, 0.04916449677962371, 0.06365508530414438, 0.7949122847737053, 0.029498698067774224, 0.9824893583208723, 0.97771288121668, 0.2919292483989548, 0.004969008483386465, 0.6969034397949517, 0.004969008483386465, 0.7687248614686844, 0.18685229671097223, 0.019955099648744607, 0.024036824576896914, 0.9495009842645813, 0.9270881702077449, 0.9624035654252164, 0.1859628287388742, 0.7909305121045789, 0.023539598574541038, 0.008949852436659819, 0.046986725292464046, 0.07831120882077341, 0.046986725292464046, 0.6063525025837027, 0.09397345058492809, 0.1185855447857426, 0.7037751537703143, 0.15152099627916116, 0.01196218391677588, 0.13158402308453468, 0.9974073891638692, 0.027578630173046733, 0.017844995994324358, 0.06651316688793624, 0.835470267007004, 0.027578630173046733, 0.02433408544680594, 0.9845121677002304, 0.9443862298004133, 0.04342005654254774, 0.9808160137554518, 0.13526649830259757, 0.10144987372694818, 0.05636104095941565, 0.7045130119926957, 0.20892904582624103, 0.5991095499308154, 0.03257627560948424, 0.023268768292488744, 0.1364284625149077, 0.060049549758548884, 0.19711917420741049, 0.060049549758548884, 0.4803963980683911, 0.16578897433338496, 0.03524647485827869, 0.9226522303107139, 0.06999430712701968, 0.13366004455352046, 0.8566393764566539, 0.9768672801270555, 0.2519756622543969, 0.5558852396299291, 0.1918669641975274, 0.9657870459816046, 0.03170513029737591, 0.9526442314156128, 0.9932346665079664, 0.1859042378173581, 0.5803548962631628, 0.0619680792724527, 0.054222069363396116, 0.11738184246801137, 0.11729393292090286, 0.2547318238869173, 0.29195989824876906, 0.12009878783857662, 0.003059841728371379, 0.0856755683943986, 0.12723841853810983, 0.9326427125088853, 0.025336994777084853, 0.02654351833789842, 0.014478282729762773, 0.9486640555882817, 0.975923187509703, 0.9719044427772741, 0.2210031688238861, 0.027975084661251405, 0.06294394048781565, 0.07972899128456651, 0.44340509188083477, 0.010257531042458847, 0.11516409852215162, 0.039631369936772826, 0.002435185192436214, 0.988685188129103, 0.009740740769744856, 0.0758965922168608, 0.02023909125782955, 0.8204060206298763, 0.053489026895692376, 0.029635812198964696, 0.9641034432037883, 0.03570753493347364, 0.9950825597020507, 0.9678580888734807, 0.12121731770483937, 0.8322383006600912, 0.021710564365045856, 0.023519778062133012, 0.05573859101477847, 0.9401242351159301, 0.9394587759279922, 0.052192154218221785, 0.01772498191571157, 0.9748740053641364, 0.07190314552195107, 0.5227116309292398, 0.03070021943633866, 0.1316877833716632, 0.021005413298547503, 0.00888690562630856, 0.21328573503140544, 0.9726329874884064, 0.9853206053405471, 0.9998535218568627, 0.045774934552418246, 0.15397023440358865, 0.006935596144305794, 0.7920450796797217, 0.12704178702430718, 0.7666314734225433, 0.10513803064080594, 0.987030704633361, 0.9741381818369284, 0.9810676615764004, 0.9683711126274094, 0.1878488430766053, 0.41042126017646186, 0.08026268749636771, 0.009107822694623286, 0.037569768615321054, 0.0740010593938142, 0.1963874268528146, 0.005123150265725599, 0.14334846471524673, 0.059025838412160414, 0.02782646668001848, 0.5826693477543263, 0.026140014153956753, 0.028669692943049344, 0.020237430312740712, 0.11299231924613565, 0.15482280028787465, 0.2981772449988697, 0.047020257865206375, 0.006881013346127763, 0.009174684461503683, 0.45070637417136844, 0.03440506673063881, 0.9764688941511274, 0.05509110566393761, 0.6506593464399903, 0.06802916835774113, 0.04632661158103844, 0.018363701887979204, 0.012520705832713093, 0.1489963994092858, 0.0864247603059593, 0.11996272699185395, 0.11996272699185395, 0.45018270666835514, 0.01934882693416999, 0.20509756550220193, 0.9749448154853592, 0.9791413923225741, 0.03992532423830792, 0.027947726966815543, 0.14772369968173932, 0.7825363550708353, 0.9904107657058622, 0.9824893583208723, 0.9913525722979137, 0.010002254183911381, 0.06001352510346829, 0.7801758263450878, 0.14753324921269287, 0.020980902445783507, 0.9534654555917171, 0.023312113828648343, 0.048757839546609574, 0.7552865333540841, 0.06991690199136467, 0.019319143971298133, 0.1057953122237755, 0.9805934667946313, 0.9868820145511212, 0.9919052399640351, 0.03231189420410086, 0.010770631401366955, 0.771177208337874, 0.0064623788408201726, 0.11416869285448972, 0.06246966212792834, 0.01818035345956905, 0.9635587333571597, 0.997100016197737, 0.9500532176186034, 0.049364661261859975, 0.9824893583208723, 0.9824893583208723, 0.9745891892864827, 0.8921166929904616, 0.10495490505770136, 0.9224156908648483, 0.0732075945130832, 0.9209856903804644, 0.06351625450899755, 0.9800852087332327, 0.048107543920504925, 0.9002983219408779, 0.048107543920504925, 0.9539250403893963, 0.0321547766423392, 0.8939455117597108, 0.02872114094007103, 0.07539299496768646, 0.9868672262617095, 0.9750257476973571, 0.023589332605581218, 0.9943578333085339, 0.9427278831398284, 0.030311775845182413, 0.015877596871286023, 0.0187644326660653, 0.3550808027578511, 0.5788105768532451, 0.805210691723385, 0.18081078406962237, 0.012054052271308159, 0.8786861634083711, 0.12094463541970736, 0.033105266581359566, 0.039124405959788576, 0.8517082220477051, 0.07523924223036264, 0.09492134229002726, 0.9042506818155229, 0.15585551789335508, 0.8435989143116522, 0.9981313748400515, 0.9811946124705128, 0.011745997859761572, 0.9426163282458662, 0.04551574170657609, 0.9861238725602737, 0.9661775516643273, 0.15184211698814867, 0.8452544512340275, 0.43964838594041533, 0.011147271448793492, 0.05439868467011224, 0.008471926301083054, 0.002675345147710438, 0.1966378683567172, 0.016052070886262627, 0.052169230380353544, 0.21893241125430418, 0.9910800598167181, 0.0752968107479069, 0.23674402658576132, 0.6247600243137139, 0.06308651711311118, 0.9047913487511214, 0.14225134230467285, 0.1385078859282341, 0.1291492449871372, 0.03556283557616821, 0.552159815524717, 0.04430755511824487, 0.11393371316120109, 0.03164825365588919, 0.8101952935907634, 0.13014133107799047, 0.6248351859587856, 0.011367766871270253, 0.01959959805391423, 0.21402761074874338, 0.015002566669046074, 0.08851514334737183, 0.04800821334094744, 0.07501283334523037, 0.17853054336164828, 0.5941016400942245, 0.9875531729055932, 0.8086950745596925, 0.056916955394230556, 0.0948615923237176, 0.03794463692948704, 0.6271847646209577, 0.3485947211105095, 0.017144002677566043, 0.006429001004087265, 0.6586802750312077, 0.11527772868231996, 0.041666648921320465, 0.0003472220743443372, 0.18402769940249875, 0.9978445638715444, 0.9721254732617485, 0.8779907921432301, 0.016841038246166253, 0.9767802182776427, 0.020029973330598704, 0.9364012532054894, 0.035052453328547735, 0.9711209215162118, 0.06200696829528239, 0.14747603270229326, 0.030165552143650895, 0.02932762013966059, 0.731095673481539, 0.12877317963771914, 0.8697467214875457, 0.07943081607333159, 0.07749347909593327, 0.06586945723154328, 0.02518538070617831, 0.7516867472305526, 0.6903720295868389, 0.03659654065195282, 0.019228690851026062, 0.02915317645155564, 0.17926102115956552, 0.015507008750827467, 0.02915317645155564, 0.2905001503449943, 0.015685753258369024, 0.14493636010732977, 0.44861254318935406, 0.09976139072322698, 0.9506226046878288, 0.015976850498955104, 0.03195370099791021, 0.033336260994387336, 0.2257774040074415, 0.009091707543923818, 0.7288518881045595, 0.19920848931969296, 0.7021606158199079, 0.09664570273925698, 0.08931246778597389, 0.7241842267465112, 0.02905345337616018, 0.03658583017738689, 0.1205180288196274, 0.008771054319716151, 0.002923684773238717, 0.7879330463878342, 0.014618423866193586, 0.1578789777548907, 0.026313162959148453, 0.9468479951042702, 0.40401666743346026, 0.1647665738695117, 0.04175591255597215, 0.3882171329528221, 0.9772409467405315, 0.9906739515751032, 0.004162495594853375, 0.5973308136951296, 0.11547589616980745, 0.005441272594388833, 0.1469143600484985, 0.09310621994843114, 0.04111183737982674, 0.9708995667138901, 0.9285270087231376, 0.08946708658958849, 0.8499373226010907, 0.9878388332052117, 0.00906274158903864, 0.1107505006754909, 0.012137041169916811, 0.053099555118386044, 0.5522353732312149, 0.17295283667131456, 0.042479644094708835, 0.007585650731198007, 0.04703103453342764, 0.9722421886610929, 0.21905732130233713, 0.5497909240529245, 0.009204089130350299, 0.03497553869533114, 0.01104490695642036, 0.07854156057898923, 0.09694973883968983, 0.02167135678982365, 0.8247863437068177, 0.0433427135796473, 0.07266278453058518, 0.03696878511205211, 0.1687091105722342, 0.08504036467868717, 0.6364311163050136, 0.10972950281120925, 0.9799528915075958, 0.9753231776565968, 0.17080178376758315, 0.7674989244621269, 0.004436409967989173, 0.05545512459986466, 0.26519345359743246, 0.5064167671996881, 0.0022828704757311257, 0.014838658092252316, 0.08180285871369868, 0.12936266029143045, 0.05229353338139101, 0.46740237801066303, 0.38687959209595474, 0.014346013582505498, 0.008329943370487064, 0.0698789693857526, 0.9681116378885464, 0.21971093891547372, 0.2503036012961093, 0.06072179957368578, 0.043107842445441046, 0.018541007503415505, 0.012515180064805466, 0.22202856485340067, 0.16130676527971488, 0.012515180064805466, 0.010977147154647407, 0.9208606779731991, 0.0036590490515491358, 0.0646431999107014, 0.20723423764228566, 0.10361711882114283, 0.686113354356216, 0.04668379706548052, 0.9523494601358027, 0.9588853839073457, 0.9697008701431005, 0.032396606349870884, 0.9654188692261524, 0.9608867068413492, 0.9559005550084436, 0.10833930614756174, 0.7952105071231031, 0.021667861229512347, 0.013000716737707408, 0.06067001144263457, 0.9927492408430248, 0.020933753426292334, 0.06878233268638909, 0.14055520157653423, 0.020933753426292334, 0.005981072407512095, 0.03887697064882862, 0.6997854716789151, 0.9844991141327544, 0.09956229350499539, 0.2486146159452224, 0.3400256105667679, 0.045996615128038806, 0.2515257941178831, 0.013973655228771283, 0.8680936691046364, 0.12929054646239266, 0.09197664814733349, 0.8998796386306682, 0.004971710710666675, 0.933310741319601, 0.0505265263431449, 0.015729956314375296, 0.9965132745103391, 0.03257914440482066, 0.40180944765945487, 0.054298574008034436, 0.49954688087391685, 0.8794448756667114, 0.10425030441033965, 0.013365423642351238, 0.9822558407597435, 0.014167151549419377, 0.9699265255978559, 0.10469700487208693, 0.05146123968289018, 0.018928272067269953, 0.7009375749910904, 0.12362527693935688, 0.4239606440154829, 0.04372927397392402, 0.02186463698696201, 0.30903797887669476, 0.03812979376994594, 0.011465602322431299, 0.05226181523712871, 0.09972407601370478, 0.39364117274485044, 0.29882249609828065, 0.0938609122359984, 0.02011305262199966, 0.012929819542714065, 0.1637777142077115, 0.016760877184999714, 0.9088511857154405, 0.18246411005972366, 0.09417502454695414, 0.017657817102553902, 0.07946017696149256, 0.6239095376235713, 0.8837316952346477, 0.02554137847498982, 0.08684068681496539, 0.9413992278091448, 0.08087132465211526, 0.7116676569386142, 0.006065349348908644, 0.20015652851398527, 0.06253544999565104, 0.00390846562472819, 0.027359259373097335, 0.023450793748369142, 0.8794047655638428, 0.985414444828223, 0.974718746196892, 0.9963793130394245, 0.9949111041347796, 0.8333109527278404, 0.16203268525263562, 0.9890002156009694, 0.9742082239770947, 0.08290925101069414, 0.6341022345817904, 0.036080877754653934, 0.0023030347502970595, 0.06448497300831767, 0.18040438877326967, 0.1214684681201479, 0.04264318561664767, 0.18651009466675192, 0.1843563984234869, 0.05384240608162584, 0.2950563853273096, 0.04221244636799466, 0.017660309194773276, 0.05599610232489088, 0.978723305099416, 0.0819965132395558, 0.09925893707946229, 0.6352571973085587, 0.0250305145678644, 0.05955536224767737, 0.07681778608758386, 0.021578029799883106, 0.9990144087827663, 0.9679618237444771, 0.03167414344713603, 0.16410442304160056, 0.45299112302857153, 0.07025556769193124, 0.054526709253439165, 0.03670066968981482, 0.02831194518928572, 0.19294066351216935, 0.03449725701273903, 0.9643186727747048, 0.9972718558756452, 0.9810439418851514, 0.9821701074753942, 0.018891915634923512, 0.9504995053820892, 0.029518618179567985, 0.02001773719796012, 0.4134275519252172, 0.011030181721324963, 0.2140672304434919, 0.18710456401358644, 0.13358775640271345, 0.02042626244689808, 0.07649612524098218, 0.735753640954174, 0.027816772814902607, 0.022253418251922084, 0.025035095533412346, 0.022253418251922084, 0.09040451164843348, 0.18690093676124084, 0.26566186663387076, 0.011251561410375704, 0.030004163761001876, 0.033129597486106235, 0.040005551681335835, 0.18565076327119912, 0.24628417753822374, 0.12739434968244562, 0.1832918704614779, 0.010399538749587399, 0.6785699034105778, 0.9855622968538873, 0.03687876556952156, 0.9496282134151801, 0.21240353860250358, 0.19707079908555003, 0.08027140100052152, 0.02886162732603021, 0.03788088586541465, 0.02390103512936877, 0.09966280686019807, 0.0572722917250912, 0.2245795376306726, 0.03788088586541465, 0.9617745412439658, 0.9794472425923118, 0.9496299173379041, 0.007149674021366312, 0.004596219013735486, 0.03855717061522547, 0.05687286432768981, 0.13308250252679416, 0.027298974877291108, 0.19678011057380673, 0.004549829146215185, 0.01478694472519935, 0.4538454573349647, 0.11260827136882581, 0.9908815117889556, 0.032838938136756174, 0.09486804350618451, 0.8684074751719966, 0.9619481543892788, 0.034159406318548156, 0.07337946542502936, 0.1208230853119018, 0.721143022280461, 0.0506065278793306, 0.9845878360727496, 0.9792827844602886, 0.9803744966420168, 0.003484852413810234, 0.31838878871629867, 0.03516532890299418, 0.16014480865282485, 0.2824314479010749, 0.20006220902919664, 0.00015840238244591972, 0.5891990191199478, 0.4105268399114976, 0.0002619826674610706, 0.9810201239802068, 0.9853842201479742, 0.9882883145365272, 0.9679784639004518, 0.014011603092715019, 0.028023206185430038, 0.9317716056655487, 0.021017404639072527, 0.972204350613517, 0.9822828574284006, 0.9826871886434565, 0.22506947949413922, 0.03393904849514798, 0.021435188523251353, 0.3495126573096818, 0.042870377046502706, 0.1625501796346561, 0.16552728915177434, 0.8813433711279993, 0.9634874887504316, 0.989688133785233, 0.9816180526735303, 0.6790481333368961, 0.13717517135964719, 0.028552298111057788, 0.0422077450337376, 0.02358668104826513, 0.041587042900888514, 0.04779406422937934, 0.9901366428918316, 0.0018550569421861014, 0.00788399200429093, 0.0055892979533053114, 0.9921003867116928, 0.23081623462696899, 0.0005535161501845779, 0.019373065256460226, 0.22915568617641524, 0.05701216346901152, 0.32103936710705516, 0.14114661829706737, 0.4592752491468619, 0.09848577529476232, 0.02242745377999538, 0.4183207683312182, 0.47805462437973834, 0.045799848171634294, 0.006884944496389469, 0.05298413808091026, 0.3517308601416359, 0.0640599183577107, 0.9932840396872933, 0.006378108131553681, 0.9846314872129595, 0.01379035696376694, 0.9830097294462462, 0.011170565107343707, 0.9626582847589357, 0.9942709759224923, 0.9807382058988153, 0.030322524752345526, 0.2567307095698588, 0.5458054455422194, 0.001010750825078184, 0.05559129537930013, 0.04851603960375284, 0.06266655115484741, 0.019000138801289073, 0.08924307618787293, 0.02072742414686081, 0.09097036153344466, 0.31379017111219837, 0.38057853780763873, 0.05700041640386722, 0.029363850874719478, 0.9902714930275359, 0.9971185540371956, 0.4340198571528933, 0.1501645345185923, 0.0012672112617602726, 0.4055076037632872, 0.00855367601688184, 0.9089993833772605, 0.09070189925638024, 0.9822049458676121, 0.9878908800295602, 0.9913904626409367, 0.013264068094308641, 0.9569077696608377, 0.00189486687061552, 0.026528136188617282, 0.9993207477120021, 0.07753399646851718, 0.16583660355766175, 0.7559564655680425, 0.0618758870224559, 0.57558964672052, 0.2834779010098561, 0.0805825505408728, 0.9846717053700863, 0.03495736070312321, 0.9578316832655761, 0.9620028212184695, 0.03420454475443447, 0.9734857903457845, 0.0107327501393391, 0.06133000079622344, 0.36644675475743504, 0.00766625009952793, 0.4914066313797403, 0.062096625806176226, 0.016145260429610328, 0.4868416991082499, 0.009935544879760203, 0.11053293678733225, 0.345260184571667, 0.029806634639280606, 0.022082837473177973, 0.8511930080570419, 0.12446690212154858, 0.9592783355793273, 0.036613676930508675, 0.9866542253598842, 0.9196573917103175, 0.041832666218179645, 0.06183959353991774, 0.45167154105136, 0.1273168102292424, 0.004850164199209235, 0.014550492597627704, 0.00848778734861616, 0.18794386271935784, 0.028494714670354252, 0.07214619246323736, 0.039346054745578375, 0.677825215844282, 0.039346054745578375, 0.012519199237229483, 0.026826855508348894, 0.007153828135559705, 0.04292296881335823, 0.048288339915028004, 0.10730742203339558, 0.9853022567709455, 0.8694498048142401, 0.12181433342406164, 0.008628515284204366, 0.06488295383572712, 0.009732443075359068, 0.045418067685008987, 0.8824081721658888, 0.9900548517888201, 0.004140193118931029, 0.981225769186654, 0.01242057935679309, 0.10422227802742667, 0.050899252059906044, 0.7416748157300596, 0.10179850411981209, 0.978995688070385, 0.016906463196248132, 0.03522179832551694, 0.8946336774681303, 0.032404054459475584, 0.019724207062289487, 0.23627061128993312, 0.5776368816379914, 0.04554145225852088, 0.021019131811625024, 0.07434544770408111, 0.04476296589512736, 0.9942097866901889, 0.10475920612149833, 0.7241250388047429, 0.007351523236596374, 0.007351523236596374, 0.15621986877767294, 0.9928422634770051, 0.003102632073365641, 0.9810574404239883, 0.9931875604002519, 0.3075615122204243, 0.06253750748481962, 0.47774554898239247, 0.04203340667012466, 0.05228545707747214, 0.0451090217923289, 0.013327665529551721, 0.022192896600437974, 0.6965155240752842, 0.19973606940394176, 0.08194300283238637, 0.017853818410868975, 0.017853818410868975, 0.017853818410868975, 0.18618982057049072, 0.658040735714885, 0.08416800107981087, 0.017853818410868975, 0.9074085467153841, 0.13948636908134826, 0.6838234191549024, 0.15054321541096732, 0.02636632586293778, 0.00871015137727757, 0.011613535169703426, 0.10452181652733084, 0.00871015137727757, 0.8652083701429053, 0.04935521012514889, 0.0177678756450536, 0.06712308577020248, 0.6514887736519653, 0.2132145077406432, 0.05190271168407834, 0.8280841727777953, 0.042465855014245914, 0.04482506918170402, 0.021232927507122957, 0.009436856669832426, 0.991296350243882, 0.00810060020174222, 0.5431259563834783, 0.0902638308194133, 0.25073286338725914, 0.08910660221916442, 0.0011572286002488885, 0.017358429003733328, 0.9848145487120773, 0.14329962030948024, 0.8120311817537212, 0.9997627778996735, 0.0928326043735777, 0.17535047492786898, 0.13202859288686605, 0.0928326043735777, 0.5054219571450341, 0.20314938316001463, 0.06304636029103902, 0.7320382944903976, 0.15346250019591468, 0.8425959916417203, 0.02117740633451481, 0.1732696881914848, 0.677677002704474, 0.04813046894207912, 0.015401750061465318, 0.06160700024586127, 0.050589140320075235, 0.0657658824160978, 0.8802510415693091, 0.9412365987266685, 0.05270924952869344, 0.9856633033557043, 0.976542935441813, 0.09047023816362909, 0.21211089451808837, 0.012544192686553613, 0.08362795124369075, 0.3014407515283944, 0.10339455790129039, 0.19652568542267326, 0.9720021232625606, 0.9288785898143854, 0.02028119191734466, 0.04867486060162718, 0.974713407801057, 0.9910402437335262, 0.1983155460721613, 0.09915777303608064, 0.11991172553200449, 0.02536594193946249, 0.1691062795964166, 0.14604633237872341, 0.01691062795964166, 0.22521881782613665, 0.01636781809754764, 0.029462072575585755, 0.05892414515117151, 0.8936828681261012, 0.7318287638839999, 0.15660324656520494, 0.013176972202897505, 0.023819911289853182, 0.035983270246373954, 0.0035476463623185586, 0.034969656999997226, 0.9944316792229038, 0.05060387724766109, 0.9108697904578996, 0.03762852410723517, 0.967918926356163, 0.9943342684473029, 0.09723109355886946, 0.8993876154195425, 0.9984154971540188, 0.9917061685326078, 0.9727885267385845, 0.9949500362214942, 0.9950341593552858, 0.4480988131107134, 0.020820159131087045, 0.3646712107572046, 0.010532551089844034, 0.14412448979684256, 0.01170827772312895, 9.797721944040962e-05, 0.019531560516188776, 0.14258039176817808, 0.798840825112121, 0.0351568089291398, 0.07068415249276119, 0.053269216371356266, 0.19566192936402013, 0.0276590161928196, 0.6084983562420312, 0.028683424199961068, 0.014341712099980534, 0.008931061855267543, 0.056563391750027774, 0.029770206184225146, 0.056563391750027774, 0.1815982577237734, 0.04465530927633772, 0.625174329868728, 0.0204190700205808, 0.07239488461842283, 0.8594572199571736, 0.02227534911336087, 0.027844186391701088, 0.14161354637551354, 0.02281023565780084, 0.27847496032231855, 0.36116206458184663, 0.19483742957704883, 0.1633943936038779, 0.5440907940466727, 0.02632697390548416, 0.07313048307078934, 0.014208208139467642, 0.014208208139467642, 0.16506594750263878, 0.9676751808133888, 0.9194214263220403, 0.001183296558973025, 0.011832965589730248, 0.06744790386146242, 0.04655509596582362, 0.02689849989136476, 0.5814214207287306, 0.07138448048092955, 0.14794174940250618, 0.10035209574855314, 0.02482938451510593, 0.9815667587901262, 0.9954120194044507, 0.967554143384973, 0.9804924314486453, 0.9828303046125006, 0.943430128205316, 0.9856174765182617, 0.9877277974709078, 0.022354192877757185, 0.031295870028860064, 0.794318986922972, 0.10730012581323449, 0.04321810623033056, 0.07129531617357648, 0.9268391102564943, 0.9988890611824395, 0.976433883101297, 0.9940942382673223, 0.9164559267109578, 0.028424775141642607, 0.9522299672450273, 0.037269943224716474, 0.9317485806179118, 0.047063686564253165, 0.6403312848037824, 0.3125426509161319, 0.07121818982138749, 0.08012046354906092, 0.02819053347096588, 0.004451136863836718, 0.8145580460821193, 0.005724299072969629, 0.0038161993819797527, 0.9387850479670192, 0.049610591965736785, 0.023513436830511995, 0.07054031049153599, 0.07837812276837332, 0.825582893160199, 0.020350597228227373, 0.7071832536809012, 0.043245019109983164, 0.06783532409409124, 0.12379946647171651, 0.03730942825175018, 0.9335315953934245, 0.03950356417032309, 0.02702875443232632, 0.9870937308812867, 0.11788577155018748, 0.8815805524622716, 0.9586913701498934, 0.020397688726593477, 0.5711069515261384, 0.0013713880906444094, 0.06628375771447978, 0.05531265298932451, 0.029408655721596778, 0.026513503085791913, 0.25020213831534666, 0.012147326191129392, 0.5296234219332415, 0.3514626377966771, 0.012957147937204684, 0.039681265557689346, 0.053448235240969325, 0.13720468796958482, 0.7534222339382465, 0.019256798311520676, 0.05295619535668186, 0.03610649683410127, 0.10515325759067297, 0.011324196971303243, 0.02426613636707838, 0.05662098485651621, 0.6940115000984416, 0.058238727280988105, 0.050150015158628644, 0.005521188085881442, 0.006625425703057731, 0.038648316601170095, 0.14244665261574121, 0.02760594042940721, 0.7784875201092833, 0.9909751662173001, 0.009859318522098426, 0.015336717701041995, 0.06134687080416798, 0.03067343540208399, 0.06025139096837927, 0.1500807375030538, 0.670433659502693, 0.8603471316175113, 0.044985470934248956, 0.08997094186849791, 0.9742445667931966, 0.9872418822418711, 0.9924388206985396, 0.9712111602776247, 0.06267882342613146, 0.026391083547844824, 0.1072137769131196, 0.06267882342613146, 0.06102938070439116, 0.23999391601321388, 0.29937385399586475, 0.06350354478700161, 0.07587436520005388, 0.9305820877819501, 0.04731773327704831, 0.06023601945796851, 0.12047203891593702, 0.8165327082080176, 0.9937127026818172, 0.996963136621317, 0.7142079239341264, 0.046241079546569634, 0.15281231756405433, 0.055272540395509016, 0.030706966886393898, 0.9558074639629484, 0.043534398426592485, 0.0006497671406954102, 0.007811015593597062, 0.06639363254557504, 0.08592117152956769, 0.003905507796798531, 0.8162511295308931, 0.019527538983992655, 0.10926262190589411, 0.8741009752471529, 0.9633666866692463, 0.014912797007263875, 0.002982559401452775, 0.014912797007263875, 0.994649874193855, 0.0031626387096783943, 0.981815179531319, 0.02112929566568573, 0.010850178855352133, 0.17702923395574532, 0.25697792025834, 0.05881939063690893, 0.008565930675278, 0.3397819167860273, 0.10336223014835452, 0.023413543845759863, 0.2977697872214908, 0.36523721771630896, 0.024856421761248804, 0.03652372177163089, 0.03652372177163089, 0.06949652614879767, 0.16942948710728775, 0.20503394613133877, 0.4690747546667547, 0.0041722023922074756, 0.01192057826344993, 0.24437185440072354, 0.0005960289131724965, 0.06437112262262962, 0.09701367032689542, 0.025680089204178202, 0.06277355138799116, 0.15978722171488657, 0.09416032708198674, 0.5449885597775596, 0.01569338784699779, 0.009342899754229925, 0.0028028699262689777, 0.9380271353246845, 0.03550301906607372, 0.014014349631344888, 0.9919558519570154, 0.9719246924975032, 0.1075321407142377, 0.0663496187385722, 0.8236504395133101, 0.02758156423354735, 0.01970111730967668, 0.10244581001031873, 0.8038055862348085, 0.04334245808128869, 0.9869710689931149, 0.9828225231034593, 0.285283053888234, 0.19425147861548644, 0.13635692028302773, 0.3161347593153995, 0.014092754330927448, 0.02666196765310598, 0.02666196765310598, 0.2657401016568179, 0.6813848760431228, 0.05195559679828811, 0.21890447040006064, 0.0016215145955560048, 0.029187262720008086, 0.13782874062226042, 0.1345857114311484, 0.0681036130133522, 0.4086216780801132, 0.05142375539406709, 0.030854253236440254, 0.9050580949355809, 0.1401419759597991, 0.5228153715398219, 0.07264502427303872, 0.062348879100482056, 0.009724137107414632, 0.19162270182258245, 0.9682146329860297, 0.047321167541305345, 0.7581455140128281, 0.1943188369249347, 0.2616246492805455, 0.570286801122029, 0.16789298359342095, 0.961777890791246, 0.19344182002423874, 0.5237576171413462, 0.05000193259112177, 0.0621236132192725, 0.00353549018321063, 0.018687590968399042, 0.14798551766867352, 0.9762683539611487, 0.9875084700386241, 0.22246808430746204, 0.27555705897174276, 0.501817212898082, 0.014273301084613227, 0.021409951626919842, 0.07136650542306613, 0.007136650542306613, 0.057093204338452906, 0.8278514629075672, 0.9988999318621395, 0.9824044774749467, 0.7630193245795466, 0.16994325261975202, 0.06685584811183139, 0.9805654617847205, 0.9945657827401432, 0.9915610525631678, 0.004047187969645583, 0.9790632093680294, 0.9874099138988486, 0.9601949751901502, 0.989409777466016, 0.013510565842317555, 0.04053169752695267, 0.8466621261185667, 0.09907748284366207, 0.0592671022037488, 0.3397205792986124, 0.0030989334485620286, 0.04958293517699246, 0.05965446888481905, 0.056942902117327276, 0.09064380337043933, 0.04183560155558738, 0.29904707778623574, 0.822198535135259, 0.17419460490153793, 0.9853292915048049, 0.9824893583208723, 0.9853292915048049, 0.9886880247644229, 0.9931385002425753, 0.04576777428221841, 0.9382393727854775, 0.9789060011294697, 0.18756421851229862, 0.7118022853165475, 0.00627830020124849, 0.04159373883327125, 0.052580764185456104, 0.21076118083790285, 0.36555467968296546, 0.031261227779784635, 0.016639040592466015, 0.027227520969489844, 0.01966432070018711, 0.3176544113107148, 0.010588480377023828, 0.9948391373666513, 0.9688702622932677, 0.16532895107735665, 0.785312517617444, 0.037199013992405244, 0.008266447553867831, 0.002066611888466958, 0.8821642159927148, 0.0377277777908834, 0.029960294128054465, 0.04993382354675744, 0.045343851573396834, 0.24696204874796493, 0.3344109053538017, 0.32874292390712706, 0.016194232704784584, 0.028339907233373023, 0.30034313875434243, 0.053268405741336206, 0.08953625645884171, 0.017000555023830705, 0.09520310813345194, 0.3978129875576385, 0.03400111004766141, 0.013600444019064564, 0.018610196659834335, 0.03722039331966867, 0.051178040814544426, 0.8886368905070895, 0.9837564268412584, 0.009455416671825943, 0.5885996878211649, 0.06855177087073808, 0.29429984391058245, 0.039003593771282014, 0.009290918606612393, 0.9848373723009136, 0.8921370658139314, 0.0003940534742994396, 0.07506718685404325, 0.03231238489255405, 0.9813329890605457, 0.0035065497312015415, 0.015028070276578034, 0.8932317151544821, 0.04660339383414689, 0.043496500911870434, 0.015534464611382297, 0.16719512276467818, 0.5648715017190279, 0.013255879298478322, 0.004703699105911663, 0.01838718741401832, 0.07440396767532993, 0.15650489752396987, 0.040353214576679466, 0.7976616007584407, 0.05563258708629596, 0.03330119649531801, 0.0724790747251039, 0.9681477002127541, 0.9794139630032801, 0.9869132864989678, 0.03325411174483015, 0.07759292740460369, 0.06334116522824791, 0.055423519574716924, 0.1488517382863826, 0.011084703914943385, 0.031670582614123956, 0.5779881327077622, 0.1580224578096918, 0.5503540771992714, 0.004359240215439773, 0.04958635745062742, 0.07465198868940612, 0.153663217594252, 0.009263385457809518, 0.03546843115274122, 0.9576476411240129, 0.7583656832081622, 0.044693651549571944, 0.03898807901132872, 0.08843637434277002, 0.03233157771671162, 0.03661075712039404, 0.01945032647976543, 0.030796350259628593, 0.9093027629290338, 0.03890065295953086, 0.09100071553883976, 0.6691428079398701, 0.23984946958006464, 0.14131215051815513, 0.027045387658977058, 0.7762026258126415, 0.05476691000942854, 0.9589067123182834, 0.983515727091943, 0.9640818208968366, 0.016494968638146198, 0.6519439985553022, 0.07304914682607602, 0.00864022166760039, 0.055768703490875246, 0.0070692722734912285, 0.029062563791019493, 0.15709493941091618, 0.9509775147067256, 0.9511886772247742, 0.04591945338326496, 0.9559560910490097, 0.04380036188631952, 0.9893033531665775, 0.2963721863604094, 0.542117203729078, 0.025498355185621255, 0.01515119655957205, 0.12084003109707465, 0.049476814081297005, 0.3923117293525851, 0.1112133697048623, 0.29423379701443886, 0.029773658031222977, 0.05516883694020728, 0.06217440353578916, 0.0052541749466864076, 0.05097475845378384, 0.004133088523279771, 0.7646213768067576, 0.1281257442216729, 0.05235245462821043, 0.19816326762039904, 0.03620664811138922, 0.06190168870656866, 0.24488152324799803, 0.2986075172197369, 0.1603993443214232, 0.938286701564729, 0.08792149492828004, 0.2596751129277108, 0.3462334839036144, 0.002044685928564652, 0.016357487428517215, 0.18061392368987758, 0.008178743714258608, 0.0981449245711033, 0.0948292782035242, 0.1453881241422732, 0.009055315690522205, 0.4819440239733485, 0.14035739320309418, 0.04854655356307738, 0.0797370853859872, 0.9889674752196175], \"Term\": [\"abortion\", \"abortion\", \"accord\", \"accord\", \"accord\", \"accord\", \"accord\", \"accord\", \"account\", \"account\", \"account\", \"activation_http_www_infowar\", \"administration\", \"administration\", \"administration\", \"administration\", \"administration_rule_dismantle\", \"afghan\", \"afghan\", \"agent\", \"agent\", \"agent\", \"agent\", \"agent\", \"agent\", \"agreement\", \"agreement\", \"agreement\", \"air\", \"air\", \"air\", \"air\", \"air\", \"air\", \"aircraft\", \"airport\", \"airport\", \"airport\", \"airport\", \"airspace\", \"airstrike\", \"algorithm\", \"algorithm\", \"also\", \"also\", \"also\", \"also\", \"also\", \"also\", \"also\", \"also\", \"altar\", \"american\", \"american\", \"american\", \"american\", \"american\", \"american\", \"american\", \"american\", \"anakin\", \"anti\", \"anti\", \"anti\", \"anti\", \"anti\", \"anti\", \"anti\", \"anti_semitic\", \"anti_semitic\", \"anti_semitism\", \"apartheid\", \"arab\", \"arab\", \"arab\", \"area\", \"area\", \"area\", \"area\", \"area\", \"area\", \"area\", \"area\", \"area\", \"aristocracy\", \"aristocracy\", \"aristocracy\", \"aristocrat\", \"aristocrat\", \"arrest\", \"arson\", \"article\", \"article\", \"article\", \"article\", \"article\", \"article\", \"article\", \"artificial_intelligence\", \"assailant\", \"assange\", \"attack\", \"attack\", \"attack\", \"attack\", \"attack\", \"attacker\", \"authority\", \"authority\", \"authority\", \"authority\", \"authority\", \"authority\", \"banana_republic\", \"bank\", \"bank\", \"bank\", \"bank\", \"bank\", \"bartender\", \"baseball\", \"battleship\", \"be\", \"become\", \"become\", \"become\", \"become\", \"become\", \"become\", \"become\", \"become\", \"become\", \"belgian\", \"belgian\", \"belgian\", \"bill\", \"bill\", \"bill\", \"bill\", \"billionaire_businessman\", \"black\", \"black\", \"black\", \"blood_pressure\", \"body\", \"body\", \"body\", \"body\", \"body\", \"body\", \"border\", \"border\", \"border\", \"border\", \"border\", \"border\", \"border\", \"borrower\", \"bosnian\", \"brainforce_jpg\", \"british\", \"british\", \"british\", \"british\", \"british\", \"budget\", \"budget\", \"bullshit\", \"business\", \"business\", \"business\", \"business\", \"business\", \"business\", \"business\", \"caliphate\", \"campaign\", \"campaign\", \"campaign\", \"campaigning\", \"campus\", \"campus\", \"campus\", \"cancer\", \"cancer\", \"cancer\", \"cancer\", \"candidacy\", \"candidate\", \"candidate\", \"car\", \"car\", \"car\", \"car\", \"carbon\", \"carbon\", \"carbon\", \"carbon_emission\", \"carly\", \"case\", \"case\", \"case\", \"case\", \"case\", \"case\", \"catholic\", \"catholic\", \"catholic\", \"caucus\", \"cause\", \"cause\", \"cause\", \"cause\", \"cause\", \"cause\", \"cause\", \"cause\", \"cause\", \"cause\", \"central_bank\", \"centrifuge\", \"change\", \"change\", \"change\", \"change\", \"change\", \"change\", \"change\", \"change\", \"charge\", \"charge\", \"charge\", \"charge\", \"charge\", \"charge\", \"checker\", \"chemical\", \"chemical\", \"chemical\", \"chess\", \"chess\", \"child\", \"child\", \"child\", \"child\", \"child\", \"child\", \"cholesterol\", \"christian\", \"christian\", \"christian\", \"christian\", \"christian\", \"city\", \"city\", \"city\", \"city\", \"city\", \"city\", \"civilian\", \"civilian\", \"civilian\", \"claim\", \"claim\", \"claim\", \"claim\", \"claim\", \"claim\", \"claim\", \"class\", \"class\", \"class\", \"class\", \"class\", \"class\", \"classified\", \"classified\", \"classified_information\", \"classified_information\", \"classify\", \"classify\", \"classify\", \"classify\", \"climate\", \"climate\", \"climate\", \"climate\", \"climate_change\", \"climate_change\", \"climate_change\", \"clinch_nomination\", \"clown\", \"clown\", \"coal\", \"coal\", \"com\", \"com\", \"com\", \"com\", \"com\", \"com_wp_content_upload\", \"combat\", \"combat\", \"combat\", \"combat\", \"combat\", \"come\", \"come\", \"come\", \"come\", \"come\", \"come\", \"comedian\", \"commander\", \"commander\", \"commitment\", \"commitment\", \"commitment\", \"community\", \"community\", \"community\", \"community\", \"community\", \"community\", \"community\", \"company\", \"company\", \"company\", \"complacent\", \"computer\", \"computer\", \"computer\", \"computer\", \"computer\", \"con\", \"conservative\", \"conservative\", \"conservative\", \"conservative\", \"conservative\", \"constitutional\", \"constitutional\", \"constitutional\", \"constitutional\", \"constitutional\", \"consumer\", \"consumer\", \"consumer\", \"contain_classified\", \"contender\", \"contest\", \"contest\", \"contest\", \"convention\", \"correctly_predict\", \"correspondence\", \"cost\", \"cost\", \"cost\", \"cost\", \"cost\", \"costume\", \"country\", \"country\", \"country\", \"country\", \"country\", \"country\", \"country\", \"country\", \"court\", \"court\", \"court\", \"court\", \"covertly\", \"creature\", \"crime\", \"crime\", \"crime\", \"crime\", \"crime\", \"crime\", \"cult\", \"cult\", \"cultural\", \"cultural\", \"cultural\", \"cultural\", \"culture\", \"culture\", \"culture\", \"culture\", \"curfew\", \"currency\", \"currency\", \"customer\", \"customer\", \"cut\", \"cut\", \"cut\", \"cut\", \"cut\", \"cut\", \"cut\", \"cut\", \"dad\", \"dad\", \"davidmpark\", \"deadline\", \"deadline\", \"deadline\", \"deal\", \"deal\", \"deal\", \"deal\", \"deal\", \"death\", \"death\", \"death\", \"death\", \"death\", \"debate\", \"debate\", \"debate\", \"debate\", \"debt\", \"debt\", \"debt\", \"decision\", \"decision\", \"decision\", \"decision\", \"decision\", \"decision\", \"decision\", \"delegate\", \"democracy\", \"democracy\", \"democracy\", \"democracy\", \"democracy\", \"democracy\", \"democracy\", \"democratic\", \"democratic\", \"demonstrator\", \"deposit\", \"deposit\", \"detain\", \"deterrent\", \"diet\", \"diet\", \"diplomacy\", \"diplomatic_relation\", \"dirty_trick\", \"disclose\", \"disclose\", \"disclose\", \"disclose\", \"disclosure\", \"disclosure\", \"disclosure\", \"disease\", \"disease\", \"dispossess\", \"do\", \"do\", \"doctor\", \"doctor\", \"doctor\", \"doctor\", \"document\", \"document\", \"document\", \"document\", \"dollar\", \"dollar\", \"dollar\", \"dollar\", \"dollar\", \"dolly\", \"doodaa\", \"drug\", \"drug\", \"drug\", \"drug\", \"earning\", \"eastern\", \"eastern\", \"eastern\", \"economic\", \"economic\", \"economic\", \"economic\", \"economic\", \"economist\", \"economist\", \"economy\", \"economy\", \"economy\", \"economy\", \"effect\", \"effect\", \"effect\", \"effect\", \"effect\", \"effect\", \"effect\", \"effect\", \"egyptian\", \"egyptian\", \"egyptian\", \"election\", \"election\", \"election\", \"election\", \"election\", \"electronic_device\", \"elephant\", \"elite\", \"elite\", \"elite\", \"elite\", \"elite\", \"elite\", \"elite\", \"email\", \"email_server\", \"email_server\", \"embargo\", \"emigre\", \"emission\", \"employer\", \"employer\", \"employer\", \"end\", \"end\", \"end\", \"end\", \"end\", \"end\", \"end\", \"endorse\", \"endorsement\", \"enrich_uranium\", \"entertaining\", \"enthusiastic\", \"epoch\", \"estranged_husband\", \"ethnic_cleansing\", \"euro\", \"even\", \"even\", \"even\", \"even\", \"even\", \"even\", \"evidence\", \"evidence\", \"evidence\", \"evidence\", \"evidence\", \"exit_poll\", \"expel\", \"expel\", \"expel\", \"extradite\", \"extradite\", \"faith\", \"faith\", \"faith\", \"faith\", \"faith\", \"faith\", \"false_flag_op\", \"false_narrative\", \"family\", \"family\", \"family\", \"family\", \"family\", \"family\", \"family\", \"family\", \"fascism\", \"fascism\", \"fascist\", \"fascist\", \"fascist\", \"fascist\", \"fast_track\", \"federal\", \"federal\", \"federal\", \"federal\", \"federal\", \"federal\", \"feel\", \"feel\", \"feel\", \"feel\", \"feel\", \"feel\", \"feel\", \"feminist\", \"feminist\", \"fight\", \"fight\", \"fight\", \"fight\", \"fight\", \"fight\", \"fight\", \"fight\", \"fighter\", \"fighter\", \"fighter\", \"fighter_jet\", \"financial\", \"financial\", \"financial\", \"financial\", \"financial\", \"fire\", \"fire\", \"fire\", \"fire\", \"fire\", \"firearm\", \"firearm\", \"fly_zone\", \"food\", \"food\", \"food\", \"food\", \"food\", \"food\", \"food\", \"fool\", \"fool\", \"force\", \"force\", \"force\", \"force\", \"force\", \"force\", \"force_html\", \"foreclosure\", \"foreign_policy\", \"foreign_policy\", \"foreign_policy\", \"foreign_policy\", \"former\", \"former\", \"former\", \"former\", \"fractional\", \"fractional_reserve_banking\", \"framework_agreement\", \"fraud\", \"fraud\", \"fraud\", \"freedom\", \"freedom\", \"freedom\", \"freedom\", \"freedom\", \"freedom\", \"freedom\", \"french\", \"french\", \"french\", \"french\", \"front_runner\", \"fund\", \"fund\", \"fund\", \"fund\", \"fund\", \"fund\", \"fundamentalist\", \"funny\", \"funny\", \"gdp\", \"generation\", \"generation\", \"generation\", \"generation\", \"get\", \"get\", \"get\", \"get\", \"get\", \"global\", \"global\", \"global\", \"global\", \"global\", \"global\", \"global_warming\", \"global_warming\", \"globalist\", \"globalist\", \"gmail_com\", \"go\", \"go\", \"go\", \"gold\", \"gold\", \"gold_reserve\", \"gold_silver\", \"good\", \"good\", \"good\", \"good\", \"good\", \"government\", \"government\", \"government\", \"government\", \"government\", \"government\", \"government\", \"governor\", \"governor\", \"governor\", \"governor\", \"green_energy\", \"greenhouse_gas\", \"greenhouse_gas_emission\", \"group\", \"group\", \"group\", \"group\", \"group\", \"group\", \"group\", \"group\", \"growth\", \"growth\", \"growth\", \"gun\", \"gun\", \"gun\", \"gun\", \"gun\", \"gunfire\", \"gunfire\", \"gunman\", \"gunshot\", \"guy\", \"guy\", \"guy\", \"guy\", \"hack\", \"hack\", \"hacker\", \"hacker\", \"handgun\", \"handgun\", \"happen\", \"happen\", \"happen\", \"happen\", \"happen\", \"happen\", \"happen\", \"happiness\", \"hater\", \"have\", \"health\", \"health\", \"health\", \"health\", \"health_care\", \"health_care\", \"health_care\", \"health_wellness\", \"heart_disease\", \"heavily_armed\", \"herb\", \"here\", \"here\", \"here\", \"here\", \"here\", \"here\", \"here\", \"here\", \"high\", \"high\", \"high\", \"high\", \"high\", \"high\", \"high\", \"high\", \"history\", \"history\", \"history\", \"history\", \"history\", \"history\", \"history\", \"homicide\", \"how\", \"how\", \"how\", \"how\", \"how\", \"how\", \"how\", \"human\", \"human\", \"human\", \"human\", \"human\", \"human\", \"humility\", \"humor\", \"identity\", \"identity\", \"identity\", \"identity\", \"idiot\", \"im_tzrwu\", \"imperialism\", \"incident\", \"incident\", \"incident\", \"incident\", \"income\", \"income\", \"income\", \"increase\", \"increase\", \"increase\", \"increase\", \"increase\", \"incriminate\", \"incumbent\", \"indigenous\", \"industry\", \"industry\", \"industry\", \"industry\", \"industry\", \"industry\", \"infection\", \"infection\", \"inflation\", \"information\", \"information\", \"infowar_life_brain\", \"infowar_placement\", \"injunction\", \"injure\", \"injure\", \"injury\", \"injury\", \"inmate\", \"inmate\", \"inner\", \"inquiry\", \"inquiry\", \"inquiry\", \"inspector_general\", \"inspector_general\", \"insurance\", \"insurance\", \"insurance\", \"insurer\", \"intellectual\", \"intellectual\", \"interest_rate\", \"interference_pattern\", \"international\", \"international\", \"international\", \"international\", \"international\", \"investigate\", \"investigate\", \"investigate\", \"investigation\", \"investigation\", \"investment\", \"investment\", \"investment\", \"investment\", \"investor\", \"investor\", \"iranian\", \"iranian\", \"iraqi\", \"iraqi_army\", \"isis\", \"isis\", \"isis\", \"isis_fighter\", \"isis_militant\", \"israeli\", \"israeli\", \"issue\", \"issue\", \"issue\", \"issue\", \"issue\", \"issue\", \"issue\", \"issue\", \"issue\", \"jihadi\", \"job\", \"job\", \"job\", \"job\", \"jp\", \"judge\", \"judge\", \"judge\", \"judge\", \"judge\", \"judicial\", \"judicial\", \"judicial\", \"judicial\", \"just\", \"just\", \"just\", \"just\", \"just\", \"justice\", \"justice\", \"justice\", \"justice\", \"justice\", \"justice\", \"keefe\", \"kid\", \"kid\", \"kid\", \"kid\", \"kill\", \"kill\", \"kill\", \"kill\", \"know\", \"know\", \"know\", \"know\", \"know\", \"kurdish\", \"labor_market\", \"lapdog\", \"laptop\", \"laptop\", \"laugh\", \"laugh\", \"laugh\", \"launder\", \"law\", \"law\", \"law\", \"law\", \"law\", \"law_enforcement\", \"law_enforcement\", \"lawmaker\", \"lawmaker\", \"lawmaker\", \"lawmaker\", \"lawmaker\", \"lead\", \"lead\", \"lead\", \"lead\", \"lead\", \"lead\", \"lead\", \"leader\", \"leader\", \"leader\", \"leader\", \"leader\", \"leak\", \"leak\", \"leak\", \"legal\", \"legal\", \"legal\", \"legal\", \"legislation\", \"legislation\", \"legislation\", \"let\", \"let\", \"let\", \"let\", \"let\", \"letter\", \"letter\", \"letter\", \"letter\", \"letter\", \"letter\", \"lever\", \"liberal\", \"liberal\", \"liberal\", \"liberal\", \"liberalism\", \"libertarian\", \"libertarian\", \"life\", \"life\", \"life\", \"life\", \"life\", \"life\", \"lift_sanction\", \"linkage\", \"ll\", \"ll\", \"loan\", \"loan\", \"local\", \"local\", \"local\", \"local\", \"local\", \"local\", \"local\", \"local\", \"local_law_enforcement\", \"look\", \"look\", \"look\", \"look\", \"look\", \"look\", \"look\", \"love\", \"love\", \"love\", \"love\", \"love\", \"low\", \"low\", \"low\", \"low\", \"madness\", \"magnesium\", \"mail\", \"mail\", \"mail\", \"mail\", \"make\", \"make\", \"make\", \"make\", \"make\", \"make\", \"man\", \"man\", \"man\", \"man\", \"man\", \"man\", \"manhunt\", \"many\", \"many\", \"many\", \"many\", \"many\", \"many\", \"many\", \"many\", \"many\", \"market\", \"market\", \"market\", \"market\", \"marriage\", \"marriage\", \"marriage\", \"marriage_license\", \"marriage_license\", \"marxist\", \"mascot\", \"mass_shooting\", \"mass_shooting\", \"mathematically_impossible\", \"matrix\", \"maybe\", \"maybe\", \"maybe\", \"maybe\", \"maybe\", \"median\", \"medical\", \"medical\", \"medical\", \"medical\", \"medical\", \"medical\", \"medical\", \"medication\", \"medium\", \"medium\", \"medium\", \"medium\", \"medium\", \"medium\", \"migrant\", \"migrant\", \"militant\", \"militant\", \"militant\", \"military\", \"military\", \"military\", \"militia\", \"miracle\", \"miracle\", \"miracle\", \"miracle\", \"missile\", \"missile\", \"missile\", \"moderator\", \"moderator\", \"monetary_policy\", \"money\", \"money\", \"money\", \"money\", \"money\", \"more\", \"more\", \"more\", \"more\", \"more\", \"more\", \"more\", \"more\", \"most\", \"most\", \"most\", \"most\", \"most\", \"most\", \"most\", \"mound\", \"movement\", \"movement\", \"movement\", \"movement\", \"movement\", \"movie\", \"movie\", \"movie\", \"mso\", \"murder\", \"murder\", \"murder\", \"murder\", \"negotiate\", \"negotiate\", \"negotiate\", \"negotiate\", \"negotiate\", \"negotiating\", \"negotiating_table\", \"negotiation\", \"negotiator\", \"neocon\", \"neocon\", \"neoconservative\", \"neoliberalism\", \"never\", \"never\", \"never\", \"never\", \"never\", \"never\", \"new\", \"new\", \"new\", \"new\", \"new\", \"new\", \"new\", \"new\", \"new\", \"newly_discover\", \"news\", \"news\", \"news\", \"news\", \"news\", \"news\", \"news\", \"nomination\", \"nominee\", \"nominee\", \"now\", \"now\", \"now\", \"now\", \"now\", \"now\", \"now\", \"nuclear\", \"nuclear\", \"nuclear_weapon\", \"nutrient\", \"obstruction_justice\", \"officer\", \"officer\", \"officer\", \"official\", \"official\", \"official\", \"official\", \"official\", \"official\", \"official\", \"one\", \"one\", \"one\", \"one\", \"one\", \"one\", \"one\", \"only\", \"only\", \"only\", \"only\", \"only\", \"only\", \"only\", \"only\", \"operation\", \"operation\", \"operation\", \"operation\", \"ordinance\", \"organic\", \"organic\", \"other\", \"other\", \"other\", \"other\", \"other\", \"other\", \"other\", \"other\", \"other\", \"other\", \"ounb\", \"partisanship\", \"party\", \"party\", \"party\", \"party\", \"pass\", \"pass\", \"pass\", \"pass\", \"pass\", \"pass\", \"pass\", \"pass\", \"passenger\", \"patient\", \"patient\", \"patient\", \"patriotism\", \"pay\", \"pay\", \"pay\", \"pay\", \"pay\", \"peaceful_protest\", \"pedophile\", \"pension\", \"people\", \"people\", \"people\", \"people\", \"people\", \"people\", \"people\", \"percent\", \"percent\", \"percent\", \"persecute\", \"pertinent\", \"pesticide\", \"philosopher\", \"pilot\", \"pilot\", \"pilot\", \"pilot\", \"piss\", \"pistol\", \"plaintiff\", \"plan\", \"plan\", \"plan\", \"plan\", \"plan\", \"plan\", \"plan\", \"plateau\", \"plead_guilty\", \"pledge_delegate\", \"podcast\", \"point\", \"point\", \"point\", \"point\", \"point\", \"point\", \"point\", \"police\", \"police\", \"police\", \"police_officer\", \"police_officer\", \"policy\", \"policy\", \"policy\", \"policy\", \"policy\", \"policy\", \"policy\", \"politic\", \"politic\", \"politic\", \"politic\", \"political\", \"political\", \"political\", \"political\", \"political\", \"political\", \"poll\", \"poll\", \"polling\", \"polling\", \"pollster\", \"pollster\", \"pontiff\", \"pope\", \"portfolio\", \"post\", \"post\", \"post\", \"post\", \"post\", \"post\", \"post\", \"power\", \"power\", \"power\", \"power\", \"power\", \"power\", \"power\", \"power\", \"pregnancy\", \"premium\", \"president\", \"president\", \"president\", \"president\", \"president\", \"presidential\", \"presidential\", \"presstitute\", \"presumptive\", \"presumptive_nominee\", \"price\", \"price\", \"price\", \"price\", \"primary\", \"prison\", \"prison\", \"prison\", \"private\", \"private\", \"private\", \"private\", \"private_equity\", \"private_server\", \"private_server\", \"probe\", \"probe\", \"profiling\", \"program\", \"program\", \"program\", \"program\", \"program\", \"program\", \"protest\", \"protest\", \"protest\", \"protest\", \"protest\", \"protest\", \"protester\", \"protester\", \"protester\", \"province\", \"province\", \"pseudo\", \"psychologically\", \"public\", \"public\", \"public\", \"public\", \"public\", \"public\", \"public\", \"public\", \"public\", \"public\", \"publish\", \"publish\", \"publish\", \"publish\", \"publish\", \"publish\", \"publish\", \"publish\", \"publish\", \"pumpkin\", \"race\", \"race\", \"race\", \"racial\", \"racial\", \"racial\", \"racial\", \"racially\", \"racism\", \"racism\", \"racism\", \"racist\", \"racist\", \"racist\", \"racist\", \"raise_vibration\", \"rate\", \"rate\", \"rate\", \"rate\", \"rate\", \"re\", \"re\", \"re\", \"re\", \"re\", \"re\", \"real_estate_mogul\", \"really\", \"really\", \"really\", \"really\", \"really\", \"rebel\", \"rebel\", \"recess_appointment\", \"recession\", \"record\", \"record\", \"record\", \"record\", \"record\", \"record\", \"record\", \"region\", \"region\", \"region\", \"region\", \"relation\", \"relation\", \"relation\", \"relation\", \"relation\", \"relation\", \"relation\", \"relativity\", \"release\", \"release\", \"release\", \"release\", \"religion\", \"religion\", \"religion\", \"religion\", \"religion\", \"religious\", \"religious\", \"religious\", \"religious\", \"religious\", \"remember\", \"remember\", \"remember\", \"remember\", \"remember\", \"remember\", \"reopen_investigation\", \"report\", \"report\", \"report\", \"report\", \"report\", \"report\", \"report\", \"repression\", \"reptilian\", \"reptilian\", \"republican\", \"research\", \"research\", \"research\", \"research\", \"research\", \"researcher\", \"researcher\", \"researcher\", \"resolution\", \"resolution\", \"reveal\", \"reveal\", \"reveal\", \"reveal\", \"reveal\", \"reveal\", \"revelation\", \"revelation\", \"revelation\", \"revenue\", \"revenue\", \"rifle\", \"rigging\", \"right\", \"right\", \"right\", \"right\", \"right\", \"right\", \"right\", \"riot_gear\", \"rival\", \"rival\", \"rival\", \"robbery\", \"rubio\", \"rule\", \"rule\", \"rule\", \"rule\", \"rule\", \"rule\", \"rule\", \"rule\", \"ruling\", \"ruling\", \"ruling\", \"ruling\", \"run\", \"run\", \"run\", \"run\", \"run\", \"run\", \"run\", \"running_mate\", \"russian\", \"russian\", \"russian\", \"sailor\", \"same_sex\", \"same_sex_marriage\", \"same_sex_marriage\", \"sanction\", \"sanction_relief\", \"saponin\", \"saudi\", \"saving\", \"say\", \"say\", \"say\", \"say\", \"say\", \"say\", \"say\", \"scandal\", \"scandal\", \"scandal\", \"scandal\", \"school\", \"school\", \"school\", \"school\", \"school\", \"school\", \"school\", \"science\", \"science\", \"science\", \"science\", \"science\", \"science\", \"science\", \"secret\", \"secret\", \"secret\", \"secret\", \"secret\", \"security\", \"security\", \"security\", \"security\", \"security\", \"see\", \"see\", \"see\", \"see\", \"see\", \"see\", \"see\", \"self_determination\", \"senator\", \"senator\", \"senator\", \"senator\", \"send\", \"send\", \"send\", \"send\", \"send\", \"send\", \"send\", \"separatist\", \"server\", \"sexism\", \"sexte\", \"sheriff\", \"sherpeace\", \"shipping\", \"shit\", \"shoot\", \"shoot\", \"shoot\", \"shoot\", \"shoot\", \"shooter\", \"shooter\", \"shooting\", \"shortcoming\", \"single_payer\", \"singularity\", \"slavery\", \"slavery\", \"snip\", \"snip\", \"so\", \"so\", \"so\", \"social\", \"social\", \"social\", \"social\", \"social\", \"society\", \"society\", \"society\", \"society\", \"soldier\", \"soldier\", \"soldier\", \"soldier\", \"source\", \"source\", \"source\", \"source\", \"source\", \"source\", \"speaker\", \"speaker\", \"speaker\", \"specie\", \"spending\", \"spending\", \"stare\", \"stare\", \"state\", \"state\", \"state\", \"state\", \"state\", \"state\", \"state\", \"story\", \"story\", \"story\", \"story\", \"story\", \"story\", \"street\", \"street\", \"street\", \"street\", \"street\", \"strike\", \"strike\", \"strike\", \"strike\", \"strike\", \"strike\", \"strike\", \"student\", \"student\", \"student\", \"student\", \"student\", \"student\", \"student_loan\", \"study\", \"study\", \"study\", \"study\", \"study\", \"study\", \"study\", \"stupid\", \"stupid\", \"stupid\", \"stupidity\", \"submarine\", \"subpoena\", \"subway\", \"such\", \"such\", \"such\", \"such\", \"such\", \"such\", \"such\", \"such\", \"such\", \"suck\", \"suck\", \"summit\", \"summit\", \"summit\", \"sunni\", \"superdelegate\", \"support\", \"support\", \"support\", \"support\", \"support\", \"supporter\", \"supporter\", \"supporter\", \"suspect\", \"suspect\", \"suspect\", \"suspect\", \"suspect\", \"suspect\", \"suspicious_circumstance\", \"suspicious_circumstance\", \"swing\", \"swing\", \"swing\", \"swing\", \"syrian\", \"syrian\", \"syrian_rebel\", \"system\", \"system\", \"system\", \"system\", \"system\", \"system\", \"system\", \"system\", \"system\", \"take\", \"take\", \"take\", \"take\", \"take\", \"take\", \"take\", \"talk\", \"talk\", \"talk\", \"talk\", \"talk\", \"talk\", \"talk\", \"target\", \"target\", \"target\", \"target\", \"target\", \"target\", \"target\", \"tax\", \"tax\", \"tax\", \"tax\", \"tax\", \"tax_code\", \"taxation\", \"taxis\", \"taxis\", \"taxis\", \"teacher\", \"teacher\", \"teacher\", \"teacher\", \"teacher\", \"teaching\", \"tear_gas\", \"tell\", \"tell\", \"tell\", \"tell\", \"tell\", \"tell\", \"tell\", \"terrorist\", \"terrorist\", \"terrorist\", \"test\", \"test\", \"test\", \"test\", \"test\", \"test\", \"test\", \"th_century\", \"th_century\", \"th_century\", \"then\", \"then\", \"then\", \"then\", \"then\", \"then\", \"theology\", \"thing\", \"thing\", \"thing\", \"think\", \"think\", \"think\", \"tibetan\", \"time\", \"time\", \"time\", \"time\", \"time\", \"time\", \"time\", \"tongue\", \"toxin\", \"trade\", \"trade\", \"trade\", \"treatment\", \"treatment\", \"treatment\", \"treatment\", \"treatment\", \"treatment\", \"troop\", \"trooper\", \"trump\", \"trump\", \"trump\", \"tumor\", \"turkish\", \"turnout\", \"turnout\", \"undercover\", \"unemployment_rate\", \"unhinged\", \"uninsured\", \"university\", \"university\", \"university\", \"university\", \"use\", \"use\", \"use\", \"use\", \"use\", \"use\", \"use\", \"use\", \"use\", \"user\", \"user\", \"utm_campaign\", \"utm_medium\", \"utm_source\", \"vaccination\", \"vaccine\", \"van\", \"van\", \"vandalize\", \"ve\", \"ve\", \"ve\", \"ve\", \"ve\", \"very\", \"very\", \"very\", \"very\", \"very\", \"very\", \"very\", \"very\", \"veto\", \"vibration\", \"victim\", \"victim\", \"victim\", \"victim\", \"victim\", \"victory\", \"victory\", \"victory\", \"victory\", \"video\", \"video\", \"video\", \"video\", \"video\", \"video\", \"view\", \"view\", \"view\", \"view\", \"view\", \"view\", \"view\", \"view\", \"village\", \"village\", \"village\", \"village\", \"villain\", \"violence\", \"violence\", \"violence\", \"violence\", \"violence\", \"vitamin\", \"vitamin\", \"vote\", \"vote\", \"vote\", \"vote\", \"voter\", \"voter\", \"voter\", \"voting\", \"voting\", \"voting\", \"voting\", \"want\", \"want\", \"want\", \"want\", \"want\", \"want\", \"want\", \"war\", \"war\", \"war\", \"war\", \"war\", \"warming\", \"warplane\", \"warship\", \"water\", \"water\", \"water\", \"water\", \"water\", \"water\", \"water\", \"water\", \"way\", \"way\", \"way\", \"way\", \"way\", \"way\", \"way\", \"we_re\", \"we_re\", \"week\", \"week\", \"week\", \"week\", \"week\", \"week\", \"western\", \"western\", \"western\", \"western\", \"when\", \"when\", \"when\", \"white\", \"white\", \"white\", \"white\", \"white_nationalist\", \"white_supremacy\", \"whiteness\", \"why\", \"why\", \"why\", \"why\", \"why\", \"why\", \"why\", \"why\", \"widespread_civil_unrest\", \"wikileak\", \"wikileak\", \"win\", \"win\", \"wireless\", \"woman\", \"woman\", \"woman\", \"woman\", \"woman\", \"work\", \"work\", \"work\", \"work\", \"work\", \"work\", \"work\", \"work\", \"worker\", \"worker\", \"worker\", \"worker\", \"worker\", \"world\", \"world\", \"world\", \"world\", \"world\", \"world\", \"wreak_havoc\", \"write\", \"write\", \"write\", \"write\", \"write\", \"write\", \"write\", \"write\", \"year\", \"year\", \"year\", \"year\", \"year\", \"year\", \"year\", \"yemeni\"]}, \"R\": 30, \"lambda.step\": 0.01, \"plot.opts\": {\"xlab\": \"PC1\", \"ylab\": \"PC2\"}, \"topic.order\": [6, 1, 5, 8, 4, 10, 9, 7, 3, 2]};\n",
       "\n",
       "function LDAvis_load_lib(url, callback){\n",
       "  var s = document.createElement('script');\n",
       "  s.src = url;\n",
       "  s.async = true;\n",
       "  s.onreadystatechange = s.onload = callback;\n",
       "  s.onerror = function(){console.warn(\"failed to load library \" + url);};\n",
       "  document.getElementsByTagName(\"head\")[0].appendChild(s);\n",
       "}\n",
       "\n",
       "if(typeof(LDAvis) !== \"undefined\"){\n",
       "   // already loaded: just create the visualization\n",
       "   !function(LDAvis){\n",
       "       new LDAvis(\"#\" + \"ldavis_el62341406359508313127880941038\", ldavis_el62341406359508313127880941038_data);\n",
       "   }(LDAvis);\n",
       "}else if(typeof define === \"function\" && define.amd){\n",
       "   // require.js is available: use it to load d3/LDAvis\n",
       "   require.config({paths: {d3: \"https://d3js.org/d3.v5\"}});\n",
       "   require([\"d3\"], function(d3){\n",
       "      window.d3 = d3;\n",
       "      LDAvis_load_lib(\"https://cdn.jsdelivr.net/gh/bmabey/pyLDAvis@3.3.1/pyLDAvis/js/ldavis.v3.0.0.js\", function(){\n",
       "        new LDAvis(\"#\" + \"ldavis_el62341406359508313127880941038\", ldavis_el62341406359508313127880941038_data);\n",
       "      });\n",
       "    });\n",
       "}else{\n",
       "    // require.js not available: dynamically load d3 & LDAvis\n",
       "    LDAvis_load_lib(\"https://d3js.org/d3.v5.js\", function(){\n",
       "         LDAvis_load_lib(\"https://cdn.jsdelivr.net/gh/bmabey/pyLDAvis@3.3.1/pyLDAvis/js/ldavis.v3.0.0.js\", function(){\n",
       "                 new LDAvis(\"#\" + \"ldavis_el62341406359508313127880941038\", ldavis_el62341406359508313127880941038_data);\n",
       "            })\n",
       "         });\n",
       "}\n",
       "</script>"
      ],
      "text/plain": [
       "PreparedData(topic_coordinates=              x         y  topics  cluster       Freq\n",
       "topic                                                \n",
       "5     -0.025299  0.044674       1        1  22.819367\n",
       "0      0.121960 -0.138396       2        1  16.578911\n",
       "4     -0.014902  0.274663       3        1   9.993616\n",
       "7     -0.199411 -0.179331       4        1   8.816915\n",
       "3     -0.197923  0.254441       5        1   8.437179\n",
       "9      0.201550  0.263978       6        1   7.812023\n",
       "8      0.220913  0.076043       7        1   7.564748\n",
       "6     -0.349743 -0.000745       8        1   6.822307\n",
       "2      0.317321 -0.231336       9        1   5.952242\n",
       "1     -0.074465 -0.363991      10        1   5.202692, topic_info=          Term          Freq         Total Category  logprob  loglift\n",
       "21          be  26692.000000  26692.000000  Default  30.0000  30.0000\n",
       "103       have   8273.000000   8273.000000  Default  29.0000  29.0000\n",
       "197        say  20412.000000  20412.000000  Default  28.0000  28.0000\n",
       "66          do   8855.000000   8855.000000  Default  27.0000  27.0000\n",
       "28    campaign   6807.000000   6807.000000  Default  26.0000  26.0000\n",
       "...        ...           ...           ...      ...      ...      ...\n",
       "321      cause    293.566874    783.984989  Topic10  -5.5556   1.9737\n",
       "41         com    271.879686    815.721644  Topic10  -5.6324   1.8573\n",
       "783      woman    326.962845   2706.056900  Topic10  -5.4479   0.8426\n",
       "532       rule    292.724549   1300.957011  Topic10  -5.5585   1.4644\n",
       "2112      test    252.308814    616.707369  Topic10  -5.7071   2.0623\n",
       "\n",
       "[776 rows x 6 columns], token_table=      Topic      Freq      Term\n",
       "term                           \n",
       "596       1  0.275819  abortion\n",
       "596      10  0.723051  abortion\n",
       "2         1  0.130215    accord\n",
       "2         3  0.301001    accord\n",
       "2         4  0.153772    accord\n",
       "...     ...       ...       ...\n",
       "261       4  0.481944      year\n",
       "261       5  0.140357      year\n",
       "261       7  0.048547      year\n",
       "261       9  0.079737      year\n",
       "5024      6  0.988967    yemeni\n",
       "\n",
       "[2092 rows x 3 columns], R=30, lambda_step=0.01, plot_opts={'xlab': 'PC1', 'ylab': 'PC2'}, topic_order=[6, 1, 5, 8, 4, 10, 9, 7, 3, 2])"
      ]
     },
     "execution_count": 70,
     "metadata": {},
     "output_type": "execute_result"
    }
   ],
   "source": [
    "pyLDAvis.enable_notebook()\n",
    "vis = pyLDAvis.gensim_models.prepare(lda_model, corpus, id2word, mds=\"mmds\", R=30)\n",
    "vis"
   ]
  },
  {
   "cell_type": "code",
   "execution_count": null,
   "metadata": {},
   "outputs": [],
   "source": []
  }
 ],
 "metadata": {
  "kernelspec": {
   "display_name": "Python 3 (ipykernel)",
   "language": "python",
   "name": "python3"
  },
  "language_info": {
   "codemirror_mode": {
    "name": "ipython",
    "version": 3
   },
   "file_extension": ".py",
   "mimetype": "text/x-python",
   "name": "python",
   "nbconvert_exporter": "python",
   "pygments_lexer": "ipython3",
   "version": "3.8.8"
  }
 },
 "nbformat": 4,
 "nbformat_minor": 4
}
